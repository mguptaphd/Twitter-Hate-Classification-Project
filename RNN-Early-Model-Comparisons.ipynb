{
 "cells": [
  {
   "cell_type": "code",
   "execution_count": 250,
   "metadata": {},
   "outputs": [],
   "source": [
    "from __future__ import print_function\n",
    "\n",
    "import pandas as pd \n",
    "import numpy as np \n",
    "import sklearn\n",
    "\n",
    "from gensim.models import KeyedVectors\n",
    "from gensim.models import word2vec\n",
    "import gensim\n",
    "\n",
    "# Metrics\n",
    "from sklearn import metrics\n",
    "from sklearn.metrics import accuracy_score, confusion_matrix, classification_report, roc_curve, auc, precision_recall_curve\n",
    "from sklearn.model_selection import train_test_split\n",
    "from sklearn.utils import class_weight\n",
    "from sklearn.utils import resample\n",
    "\n",
    "#Visualization\n",
    "import matplotlib.pyplot as plt \n",
    "import seaborn as sns\n",
    "%matplotlib inline\n",
    "\n",
    "#import custom functions\n",
    "from src import *\n",
    "\n",
    "#miscellaneous\n",
    "import warnings \n",
    "warnings.filterwarnings(\"ignore\")\n",
    "import pickle\n",
    "from numpy.random import seed\n",
    "from tensorflow import set_random_seed"
   ]
  },
  {
   "cell_type": "code",
   "execution_count": 2,
   "metadata": {},
   "outputs": [
    {
     "name": "stderr",
     "output_type": "stream",
     "text": [
      "Using TensorFlow backend.\n"
     ]
    }
   ],
   "source": [
    "import tensorflow as tf\n",
    "import keras\n",
    "from keras.preprocessing import text, sequence\n",
    "from keras.layers import Input, Dense, LSTM, Embedding, Dropout\n",
    "from keras.layers.normalization import BatchNormalization\n",
    "from keras.models import Sequential\n",
    "from keras.optimizers import Adam, rmsprop\n",
    "from keras import regularizers\n",
    "from keras.callbacks import EarlyStopping, ReduceLROnPlateau, ModelCheckpoint\n",
    "from keras.models import load_model\n",
    "from keras.callbacks import History \n",
    "from keras.callbacks import CSVLogger\n"
   ]
  },
  {
   "cell_type": "code",
   "execution_count": 4,
   "metadata": {},
   "outputs": [],
   "source": [
    "with open('data/cleaned-reshuffled.pkl', 'rb') as f:\n",
    "\tdf = pickle.load(f)"
   ]
  },
  {
   "cell_type": "code",
   "execution_count": 5,
   "metadata": {},
   "outputs": [],
   "source": [
    "X = df.tokenized_tweet\n",
    "y = df.label"
   ]
  },
  {
   "cell_type": "code",
   "execution_count": 7,
   "metadata": {},
   "outputs": [],
   "source": [
    "X_token_list = list(df.tokenized_tweet)\n",
    "# X_token_sumlist = sum(X_token_list,[])\n",
    "# X_unique_tokens = set(X_token_sumlist)"
   ]
  },
  {
   "cell_type": "code",
   "execution_count": 8,
   "metadata": {},
   "outputs": [],
   "source": [
    "# print('The unique number of words in the dataset is: {}'.format(len(X_unique_tokens)))"
   ]
  },
  {
   "cell_type": "code",
   "execution_count": 10,
   "metadata": {},
   "outputs": [
    {
     "data": {
      "text/plain": [
       "139"
      ]
     },
     "execution_count": 10,
     "metadata": {},
     "output_type": "execute_result"
    }
   ],
   "source": [
    "max(len(tweet) for tweet in df.no_hash_tweet)"
   ]
  },
  {
   "cell_type": "code",
   "execution_count": 11,
   "metadata": {},
   "outputs": [
    {
     "data": {
      "text/plain": [
       "39"
      ]
     },
     "execution_count": 11,
     "metadata": {},
     "output_type": "execute_result"
    }
   ],
   "source": [
    "max(len(tweet) for tweet in df.tokenized_tweet)"
   ]
  },
  {
   "cell_type": "code",
   "execution_count": 12,
   "metadata": {},
   "outputs": [],
   "source": [
    "tokenizer = text.Tokenizer()\n",
    "tokenizer.fit_on_texts(list(df.no_hash_tweet))"
   ]
  },
  {
   "cell_type": "code",
   "execution_count": 13,
   "metadata": {},
   "outputs": [
    {
     "name": "stdout",
     "output_type": "stream",
     "text": [
      "Found 37794 unique tokens\n"
     ]
    }
   ],
   "source": [
    "word_index = tokenizer.word_index\n",
    "print('Found %s unique tokens' % len(word_index))"
   ]
  },
  {
   "cell_type": "code",
   "execution_count": 14,
   "metadata": {},
   "outputs": [],
   "source": [
    "sequences = tokenizer.texts_to_sequences(df['no_hash_tweet'])"
   ]
  },
  {
   "cell_type": "code",
   "execution_count": 15,
   "metadata": {},
   "outputs": [
    {
     "data": {
      "text/plain": [
       "[1, 1, 2, 9, 67, 102, 122, 189, 311, 1048, 3004, 3813, 5338, 5339]"
      ]
     },
     "execution_count": 15,
     "metadata": {},
     "output_type": "execute_result"
    }
   ],
   "source": [
    "sorted(sequences[0])"
   ]
  },
  {
   "cell_type": "code",
   "execution_count": 16,
   "metadata": {},
   "outputs": [
    {
     "data": {
      "text/plain": [
       "'sad to see the scenes of hooligans pre engrus why spoil the pay euro'"
      ]
     },
     "execution_count": 16,
     "metadata": {},
     "output_type": "execute_result"
    }
   ],
   "source": [
    "df.no_hash_tweet[0]"
   ]
  },
  {
   "cell_type": "code",
   "execution_count": 17,
   "metadata": {},
   "outputs": [
    {
     "name": "stdout",
     "output_type": "stream",
     "text": [
      "the 1\n",
      "to 2\n",
      "of 9\n",
      "see 67\n",
      "why 102\n",
      "sad 122\n",
      "pay 189\n",
      "euro 311\n",
      "pre 1048\n",
      "scenes 3004\n",
      "engrus 3813\n",
      "hooligans 5338\n",
      "spoil 5339\n"
     ]
    }
   ],
   "source": [
    "for word, idx in word_index.items():     \n",
    "    if idx in  sequences[0]:\n",
    "        print(word, idx)"
   ]
  },
  {
   "cell_type": "code",
   "execution_count": 36,
   "metadata": {
    "collapsed": true
   },
   "outputs": [
    {
     "name": "stdout",
     "output_type": "stream",
     "text": [
      "a\n"
     ]
    },
    {
     "data": {
      "text/plain": [
       "array([ 1.21149875e-01,  1.09636448e-01, -2.23487869e-01, -3.66480976e-01,\n",
       "       -8.60862881e-02,  2.13519230e-01, -1.30308896e-01,  1.99164137e-01,\n",
       "        3.92002948e-02, -9.75656286e-02,  2.66670078e-01,  4.34957355e-01,\n",
       "        8.78760666e-02, -4.41437550e-02, -1.64388761e-01, -1.68974400e-01,\n",
       "        3.10852736e-01,  1.85669556e-01,  1.46013379e-01,  1.92988500e-01,\n",
       "        1.27472088e-01, -4.80226517e-01,  1.45125404e-01,  1.50890172e-01,\n",
       "       -8.96715075e-02, -1.20926037e-01, -5.84333204e-02,  9.21065137e-02,\n",
       "       -1.58688221e-02, -1.67694420e-01, -1.57393828e-01, -2.30456203e-01,\n",
       "       -2.38595724e-01,  3.55256870e-02,  2.84247279e-01, -2.00440735e-01,\n",
       "        2.17486277e-01,  3.36508220e-03, -2.95555025e-01,  1.65896937e-01,\n",
       "        2.08972380e-01, -8.47818106e-02,  8.44274163e-02, -4.75303382e-01,\n",
       "       -1.72619954e-01,  3.15273255e-01, -9.94405746e-02,  1.35981113e-01,\n",
       "       -4.22226340e-01,  1.15190424e-01,  2.47159898e-01, -3.08360755e-01,\n",
       "        3.28465462e-01,  4.83746231e-01,  4.22850072e-01, -3.35244715e-01,\n",
       "        4.88966443e-02,  1.16844587e-01,  2.18365312e-01,  1.86631903e-01,\n",
       "       -8.02092105e-02,  1.98253229e-01,  1.16471253e-01, -2.33635962e-01,\n",
       "        1.30749494e-01,  5.31730466e-02, -3.03257465e-01,  9.72623657e-03,\n",
       "        1.57709867e-01, -1.44756690e-01,  3.38333368e-01, -2.81198919e-01,\n",
       "        2.60224819e-01, -1.50678093e-02, -1.36695996e-01,  3.03771831e-02,\n",
       "       -1.74594611e-01, -1.60951167e-02,  1.46936148e-01,  1.56997696e-01,\n",
       "        1.22074917e-01, -5.09392330e-03, -1.46205932e-01, -8.65474492e-02,\n",
       "       -7.00371638e-02, -1.94173247e-01, -2.18994617e-02, -6.82856962e-02,\n",
       "       -3.20695132e-01, -1.36232913e-01, -2.96603411e-01, -3.95540416e-01,\n",
       "       -5.71354255e-02, -3.03231239e-01, -1.23936661e-01, -2.54137903e-01,\n",
       "       -1.98110379e-02,  2.75947452e-01, -1.04184605e-01, -3.68540764e-01,\n",
       "        4.92529124e-02, -3.65331441e-01, -1.19272031e-01, -3.24887574e-01,\n",
       "       -1.47981003e-01, -1.62058532e-01,  4.06484932e-01,  5.23662902e-02,\n",
       "       -1.02071017e-01,  8.63424391e-02,  1.75580785e-01, -1.39715239e-01,\n",
       "        3.22149634e-01, -2.19935551e-01, -4.51459438e-01, -3.63607705e-01,\n",
       "       -1.12918139e-01,  6.93101734e-02, -3.10091907e-03, -1.47880554e-01,\n",
       "        2.90137649e-01, -1.68226153e-01,  2.02289388e-01, -8.56486261e-02,\n",
       "       -6.80144951e-02, -1.15234211e-01, -2.85793338e-02, -2.99511641e-01,\n",
       "       -1.29800886e-01, -1.06186531e-02, -8.66856948e-02, -1.04069702e-01,\n",
       "        2.51657277e-01, -7.19506592e-02, -2.62869745e-01,  1.53228436e-02,\n",
       "       -7.14569390e-02,  2.21201070e-02,  2.28167940e-02, -4.38261241e-01,\n",
       "        2.40900964e-02,  2.77812570e-01,  1.32071674e-01, -1.84270218e-01,\n",
       "        4.44232315e-01, -4.13947582e-01,  5.04645295e-02, -2.24930406e-01,\n",
       "       -2.98792124e-01, -1.82311088e-01, -2.46004909e-01, -9.16155800e-02,\n",
       "        1.96370944e-01, -5.21582365e-02, -4.61401224e-01,  7.78716266e-01,\n",
       "        1.69504806e-01,  8.71549081e-03, -6.99534789e-02,  8.59650597e-02,\n",
       "       -2.36433178e-01, -1.51849061e-01, -1.01427518e-01, -2.58311540e-01,\n",
       "       -4.36415792e-01, -3.27888131e-01,  5.72115593e-02, -4.82350886e-01,\n",
       "        1.09910145e-01,  3.85237604e-01,  1.17811337e-01,  3.17422539e-01,\n",
       "       -3.73022050e-01,  1.94409788e-01, -3.05876136e-01,  6.53311014e-02,\n",
       "       -3.64375971e-02,  8.77781510e-02,  9.57156718e-02, -4.06123586e-02,\n",
       "        4.55056846e-01, -6.64347261e-02, -1.99376360e-01,  4.25724477e-01,\n",
       "       -7.08615184e-02,  1.01420023e-01,  1.48898840e-01,  3.97220775e-02,\n",
       "       -4.43768114e-01, -9.73525718e-02, -3.20983678e-01, -2.34341756e-01,\n",
       "        3.87771726e-01,  9.70736519e-02, -5.66810519e-02, -3.91213736e-03,\n",
       "       -2.69650578e-01, -2.42288768e-01,  1.54921144e-01,  9.48120877e-02,\n",
       "       -1.50277078e-01, -1.38812333e-01,  6.67456261e-05, -1.04553781e-01,\n",
       "       -1.45382598e-01, -2.41448414e-02,  1.68506816e-01, -6.48343563e-02,\n",
       "        5.33526652e-02,  4.71791886e-02,  3.48973691e-01, -5.52241266e-01,\n",
       "        2.73501575e-01, -4.56025600e-02,  1.79622158e-01, -3.74775201e-01,\n",
       "        2.89051324e-01, -2.44431600e-01, -4.20079321e-01, -2.52724104e-02,\n",
       "       -1.38563871e-01, -3.43948722e-01,  3.03101987e-01,  1.50662065e-01,\n",
       "       -1.10495314e-01,  1.34635687e-01, -4.39522207e-01,  2.03839615e-01,\n",
       "        2.86816925e-01,  2.20650166e-01,  7.58580789e-02, -1.27609506e-01,\n",
       "       -1.28128543e-01, -5.81366941e-02, -4.42003161e-01, -1.52717382e-01,\n",
       "       -2.02077448e-01,  3.96963388e-01,  2.24869743e-01,  1.61775559e-01,\n",
       "       -2.72603333e-01,  1.45040480e-02, -1.83120053e-02,  2.70275742e-01,\n",
       "        2.92984307e-01, -3.50561030e-02,  8.76667500e-02, -7.89716393e-02,\n",
       "       -2.70503193e-01,  1.55929150e-02, -3.03335994e-01, -6.10376187e-02,\n",
       "        1.31933182e-01,  3.04196645e-02, -1.05133936e-01, -6.29491825e-03,\n",
       "        6.89374283e-02,  1.33987427e-01, -1.68727323e-01, -9.42776874e-02,\n",
       "       -1.79175705e-01,  1.64041072e-02, -8.07671025e-02, -6.26224205e-02,\n",
       "       -5.22802114e-01,  2.69447476e-01,  2.88029939e-01, -3.13003540e-01,\n",
       "       -3.50287676e-01,  1.33216992e-01,  6.30952865e-02, -1.75862342e-01,\n",
       "       -6.13482594e-02, -1.56281054e-01, -1.53069392e-01, -9.09284651e-02,\n",
       "       -1.49605379e-01, -2.92106047e-02,  4.35172349e-01, -2.05695927e-01,\n",
       "       -1.54725969e-01, -6.32955600e-03,  8.20181705e-03, -1.01752050e-01,\n",
       "       -1.54775903e-01,  9.09945369e-02,  3.44627142e-01,  4.67849858e-02,\n",
       "       -2.23132074e-01, -4.06246424e-01,  2.43148699e-01, -1.56111732e-01,\n",
       "        1.71723798e-01,  2.22985923e-01,  5.94355352e-02, -3.60551733e-03,\n",
       "        3.70432027e-02, -1.03707276e-01, -3.30506116e-01,  1.17234938e-01],\n",
       "      dtype=float32)"
      ]
     },
     "execution_count": 36,
     "metadata": {},
     "output_type": "execute_result"
    }
   ],
   "source": [
    "# How to get vector representation based on its index. Example:\n",
    "print(tokenizer.index_word[4])\n",
    "RNN_w2vmodel300[tokenizer.index_word[4]]"
   ]
  },
  {
   "cell_type": "code",
   "execution_count": 37,
   "metadata": {},
   "outputs": [],
   "source": [
    "padded_data = sequence.pad_sequences(sequences, maxlen=39, padding='post')"
   ]
  },
  {
   "cell_type": "code",
   "execution_count": 38,
   "metadata": {
    "scrolled": true
   },
   "outputs": [
    {
     "data": {
      "text/plain": [
       "array([[  122,     2,    67, ...,     0,     0,     0],\n",
       "       [ 9779, 14883,   443, ...,     0,     0,     0],\n",
       "       [  858,  1400,    13, ...,     0,     0,     0],\n",
       "       ...,\n",
       "       [  360,  1069,    47, ...,     0,     0,     0],\n",
       "       [  720,   113,    47, ...,     0,     0,     0],\n",
       "       [    1,  2559,  3760, ...,     0,     0,     0]], dtype=int32)"
      ]
     },
     "execution_count": 38,
     "metadata": {},
     "output_type": "execute_result"
    }
   ],
   "source": [
    "padded_data"
   ]
  },
  {
   "cell_type": "code",
   "execution_count": 39,
   "metadata": {},
   "outputs": [
    {
     "data": {
      "text/plain": [
       "array([ 9779, 14883,   443,    27,     2,    18,  2614,     9,     1,\n",
       "        2053,     0,     0,     0,     0,     0,     0,     0,     0,\n",
       "           0,     0,     0,     0,     0,     0,     0,     0,     0,\n",
       "           0,     0,     0,     0,     0,     0,     0,     0,     0,\n",
       "           0,     0,     0], dtype=int32)"
      ]
     },
     "execution_count": 39,
     "metadata": {},
     "output_type": "execute_result"
    }
   ],
   "source": [
    "padded_data[1]"
   ]
  },
  {
   "cell_type": "code",
   "execution_count": 40,
   "metadata": {},
   "outputs": [
    {
     "name": "stdout",
     "output_type": "stream",
     "text": [
      "Shape of data tensor: (31962, 39)\n"
     ]
    }
   ],
   "source": [
    "print('Shape of data tensor:', padded_data.shape)"
   ]
  },
  {
   "cell_type": "code",
   "execution_count": 41,
   "metadata": {},
   "outputs": [
    {
     "data": {
      "text/plain": [
       "(37795, 300)"
      ]
     },
     "execution_count": 41,
     "metadata": {},
     "output_type": "execute_result"
    }
   ],
   "source": [
    "embedding_matrix300.shape"
   ]
  },
  {
   "cell_type": "code",
   "execution_count": 42,
   "metadata": {},
   "outputs": [
    {
     "data": {
      "text/plain": [
       "37795"
      ]
     },
     "execution_count": 42,
     "metadata": {},
     "output_type": "execute_result"
    }
   ],
   "source": [
    "num_words = len(tokenizer.word_index) + 1\n",
    "num_words"
   ]
  },
  {
   "cell_type": "markdown",
   "metadata": {},
   "source": [
    "## Train/Test Split - Full Dataset "
   ]
  },
  {
   "cell_type": "code",
   "execution_count": 43,
   "metadata": {},
   "outputs": [],
   "source": [
    "#splitting into train and test \n",
    "X_model, X_test, y_model, y_test = train_test_split(padded_data, df.label.values, \n",
    "                                                    stratify = df.label.values, test_size=.20, random_state = 123)"
   ]
  },
  {
   "cell_type": "code",
   "execution_count": 44,
   "metadata": {},
   "outputs": [],
   "source": [
    "#splitting \"model\" into training and validation sets\n",
    "X_train, X_val, y_train, y_val = train_test_split(X_model, y_model, \n",
    "                                                    stratify = y_model, test_size = .20, random_state = 123)"
   ]
  },
  {
   "cell_type": "markdown",
   "metadata": {},
   "source": [
    "### RNN - Model 0"
   ]
  },
  {
   "cell_type": "code",
   "execution_count": 601,
   "metadata": {},
   "outputs": [],
   "source": [
    "seed(10)\n",
    "set_random_seed(10)"
   ]
  },
  {
   "cell_type": "code",
   "execution_count": 602,
   "metadata": {},
   "outputs": [],
   "source": [
    "# init_g = tf.global_variables_initializer()\n",
    "# init_l = tf.local_variables_initializer()\n",
    "# with tf.Session() as sess:\n",
    "#     sess.run(init_g)\n",
    "#     sess.run(init_l)"
   ]
  },
  {
   "cell_type": "code",
   "execution_count": 46,
   "metadata": {},
   "outputs": [
    {
     "name": "stdout",
     "output_type": "stream",
     "text": [
      "_________________________________________________________________\n",
      "Layer (type)                 Output Shape              Param #   \n",
      "=================================================================\n",
      "embedding_2 (Embedding)      (None, 39, 300)           11338500  \n",
      "_________________________________________________________________\n",
      "lstm_3 (LSTM)                (None, 39, 128)           219648    \n",
      "_________________________________________________________________\n",
      "batch_normalization_2 (Batch (None, 39, 128)           512       \n",
      "_________________________________________________________________\n",
      "lstm_4 (LSTM)                (None, 64)                49408     \n",
      "_________________________________________________________________\n",
      "batch_normalization_3 (Batch (None, 64)                256       \n",
      "_________________________________________________________________\n",
      "dense_1 (Dense)              (None, 1)                 65        \n",
      "=================================================================\n",
      "Total params: 11,608,389\n",
      "Trainable params: 269,505\n",
      "Non-trainable params: 11,338,884\n",
      "_________________________________________________________________\n",
      "None\n"
     ]
    }
   ],
   "source": [
    "model0 = Sequential()\n",
    "\n",
    "csv_logger = CSVLogger('results/RNN/history_log/model0.training.log')\n",
    "# filepath = 'results/RNN/models/model1.h5'\n",
    "\n",
    "callbacks = [EarlyStopping(monitor='val_loss', patience = 5), \n",
    "             ReduceLROnPlateau(monitor='val_loss', patience = 5),\n",
    "             csv_logger]\n",
    "#              ModelCheckpoint(filepath, save_best_only = True, save_weights_only = True)]\n",
    "\n",
    "model0.add(Embedding(num_words, 300, weights=[embedding_matrix300], input_length= 39, trainable=False))\n",
    "\n",
    "model0.add(LSTM(128, return_sequences=True))\n",
    "model0.add(BatchNormalization())\n",
    "\n",
    "model0.add(LSTM(64))\n",
    "model0.add(BatchNormalization())\n",
    "\n",
    "model0.add(Dense(1, activation='sigmoid'))\n",
    "\n",
    "model0.compile(loss='binary_crossentropy', optimizer = rmsprop(lr=.00001), metrics=['accuracy'])\n",
    "\n",
    "print(model0.summary())"
   ]
  },
  {
   "cell_type": "code",
   "execution_count": 47,
   "metadata": {},
   "outputs": [
    {
     "name": "stdout",
     "output_type": "stream",
     "text": [
      "WARNING:tensorflow:From /Users/flatironschool/anaconda3/lib/python3.7/site-packages/tensorflow/python/ops/math_ops.py:3066: to_int32 (from tensorflow.python.ops.math_ops) is deprecated and will be removed in a future version.\n",
      "Instructions for updating:\n",
      "Use tf.cast instead.\n",
      "Train on 20455 samples, validate on 5114 samples\n",
      "Epoch 1/200\n",
      "20455/20455 [==============================] - 165s 8ms/step - loss: 0.6844 - acc: 0.6113 - val_loss: 0.6627 - val_acc: 0.6907\n",
      "Epoch 2/200\n",
      "20455/20455 [==============================] - 156s 8ms/step - loss: 0.6478 - acc: 0.6844 - val_loss: 0.5808 - val_acc: 0.8066\n",
      "Epoch 3/200\n",
      "20455/20455 [==============================] - 155s 8ms/step - loss: 0.6181 - acc: 0.7575 - val_loss: 0.6046 - val_acc: 0.8092\n",
      "Epoch 4/200\n",
      "20455/20455 [==============================] - 155s 8ms/step - loss: 0.5929 - acc: 0.8165 - val_loss: 0.6113 - val_acc: 0.8156\n",
      "Epoch 5/200\n",
      "20455/20455 [==============================] - 164s 8ms/step - loss: 0.5688 - acc: 0.8495 - val_loss: 0.6576 - val_acc: 0.7595\n",
      "Epoch 6/200\n",
      "20455/20455 [==============================] - 166s 8ms/step - loss: 0.5468 - acc: 0.8699 - val_loss: 0.5266 - val_acc: 0.8919\n",
      "Epoch 7/200\n",
      "20455/20455 [==============================] - 165s 8ms/step - loss: 0.5253 - acc: 0.8860 - val_loss: 0.5155 - val_acc: 0.9042\n",
      "Epoch 8/200\n",
      "20455/20455 [==============================] - 153s 7ms/step - loss: 0.5067 - acc: 0.8968 - val_loss: 0.4730 - val_acc: 0.9189\n",
      "Epoch 9/200\n",
      "20455/20455 [==============================] - 163s 8ms/step - loss: 0.4840 - acc: 0.9061 - val_loss: 0.4179 - val_acc: 0.9325\n",
      "Epoch 10/200\n",
      "20455/20455 [==============================] - 176s 9ms/step - loss: 0.4652 - acc: 0.9113 - val_loss: 0.3735 - val_acc: 0.9335\n",
      "Epoch 11/200\n",
      "20455/20455 [==============================] - 168s 8ms/step - loss: 0.4454 - acc: 0.9157 - val_loss: 0.3759 - val_acc: 0.9355\n",
      "Epoch 12/200\n",
      "20455/20455 [==============================] - 172s 8ms/step - loss: 0.4280 - acc: 0.9219 - val_loss: 0.3792 - val_acc: 0.9359\n",
      "Epoch 13/200\n",
      "20455/20455 [==============================] - 164s 8ms/step - loss: 0.4087 - acc: 0.9247 - val_loss: 0.3767 - val_acc: 0.9376\n",
      "Epoch 14/200\n",
      "20455/20455 [==============================] - 183s 9ms/step - loss: 0.3883 - acc: 0.9284 - val_loss: 0.3243 - val_acc: 0.9419\n",
      "Epoch 15/200\n",
      "20455/20455 [==============================] - 161s 8ms/step - loss: 0.3737 - acc: 0.9314 - val_loss: 0.3557 - val_acc: 0.9345\n",
      "Epoch 16/200\n",
      "20455/20455 [==============================] - 168s 8ms/step - loss: 0.3571 - acc: 0.9353 - val_loss: 0.3277 - val_acc: 0.9423\n",
      "Epoch 17/200\n",
      "20455/20455 [==============================] - 201s 10ms/step - loss: 0.3399 - acc: 0.9385 - val_loss: 0.2990 - val_acc: 0.9423\n",
      "Epoch 18/200\n",
      "20455/20455 [==============================] - 190s 9ms/step - loss: 0.3263 - acc: 0.9382 - val_loss: 0.3266 - val_acc: 0.9433\n",
      "Epoch 19/200\n",
      "20455/20455 [==============================] - 213s 10ms/step - loss: 0.3107 - acc: 0.9411 - val_loss: 0.2493 - val_acc: 0.9452\n",
      "Epoch 20/200\n",
      "20455/20455 [==============================] - 205s 10ms/step - loss: 0.2974 - acc: 0.9413 - val_loss: 0.2552 - val_acc: 0.9456\n",
      "Epoch 21/200\n",
      "20455/20455 [==============================] - 176s 9ms/step - loss: 0.2856 - acc: 0.9423 - val_loss: 0.2544 - val_acc: 0.9456\n",
      "Epoch 22/200\n",
      "20455/20455 [==============================] - 164s 8ms/step - loss: 0.2728 - acc: 0.9438 - val_loss: 0.2609 - val_acc: 0.9447\n",
      "Epoch 23/200\n",
      "20455/20455 [==============================] - 175s 9ms/step - loss: 0.2608 - acc: 0.9454 - val_loss: 0.2598 - val_acc: 0.9451\n",
      "Epoch 24/200\n",
      "20455/20455 [==============================] - 174s 9ms/step - loss: 0.2519 - acc: 0.9450 - val_loss: 0.2321 - val_acc: 0.9470\n",
      "Epoch 25/200\n",
      "20455/20455 [==============================] - 165s 8ms/step - loss: 0.2473 - acc: 0.9441 - val_loss: 0.2266 - val_acc: 0.9478\n",
      "Epoch 26/200\n",
      "20455/20455 [==============================] - 164s 8ms/step - loss: 0.2379 - acc: 0.9448 - val_loss: 0.2057 - val_acc: 0.9456\n",
      "Epoch 27/200\n",
      "20455/20455 [==============================] - 216s 11ms/step - loss: 0.2326 - acc: 0.9455 - val_loss: 0.2035 - val_acc: 0.9470\n",
      "Epoch 28/200\n",
      "20455/20455 [==============================] - 183s 9ms/step - loss: 0.2254 - acc: 0.9468 - val_loss: 0.2210 - val_acc: 0.9482\n",
      "Epoch 29/200\n",
      "20455/20455 [==============================] - 182s 9ms/step - loss: 0.2240 - acc: 0.9451 - val_loss: 0.1825 - val_acc: 0.9470\n",
      "Epoch 30/200\n",
      "20455/20455 [==============================] - 170s 8ms/step - loss: 0.2124 - acc: 0.9471 - val_loss: 0.2078 - val_acc: 0.9484\n",
      "Epoch 31/200\n",
      "20455/20455 [==============================] - 172s 8ms/step - loss: 0.2082 - acc: 0.9472 - val_loss: 0.1973 - val_acc: 0.9484\n",
      "Epoch 32/200\n",
      "20455/20455 [==============================] - 162s 8ms/step - loss: 0.2074 - acc: 0.9474 - val_loss: 0.1974 - val_acc: 0.9482\n",
      "Epoch 33/200\n",
      "20455/20455 [==============================] - 159s 8ms/step - loss: 0.2004 - acc: 0.9478 - val_loss: 0.2232 - val_acc: 0.9468\n",
      "Epoch 34/200\n",
      "20455/20455 [==============================] - 176s 9ms/step - loss: 0.1943 - acc: 0.9473 - val_loss: 0.1742 - val_acc: 0.9503\n",
      "Epoch 35/200\n",
      "20455/20455 [==============================] - 153s 7ms/step - loss: 0.1916 - acc: 0.9493 - val_loss: 0.1984 - val_acc: 0.9482\n",
      "Epoch 36/200\n",
      "20455/20455 [==============================] - 205s 10ms/step - loss: 0.1884 - acc: 0.9492 - val_loss: 0.1846 - val_acc: 0.9499\n",
      "Epoch 37/200\n",
      "20455/20455 [==============================] - 153s 7ms/step - loss: 0.1806 - acc: 0.9494 - val_loss: 0.1647 - val_acc: 0.9515\n",
      "Epoch 38/200\n",
      "20455/20455 [==============================] - 153s 7ms/step - loss: 0.1788 - acc: 0.9513 - val_loss: 0.1635 - val_acc: 0.9484\n",
      "Epoch 39/200\n",
      "20455/20455 [==============================] - 152s 7ms/step - loss: 0.1745 - acc: 0.9507 - val_loss: 0.1655 - val_acc: 0.9496\n",
      "Epoch 40/200\n",
      "20455/20455 [==============================] - 160s 8ms/step - loss: 0.1742 - acc: 0.9511 - val_loss: 0.1812 - val_acc: 0.9470\n",
      "Epoch 41/200\n",
      "20455/20455 [==============================] - 174s 9ms/step - loss: 0.1687 - acc: 0.9526 - val_loss: 0.1732 - val_acc: 0.9497\n",
      "Epoch 42/200\n",
      "20455/20455 [==============================] - 154s 8ms/step - loss: 0.1673 - acc: 0.9514 - val_loss: 0.1667 - val_acc: 0.9507\n",
      "Epoch 43/200\n",
      "20455/20455 [==============================] - 213s 10ms/step - loss: 0.1619 - acc: 0.9521 - val_loss: 0.1680 - val_acc: 0.9505\n"
     ]
    }
   ],
   "source": [
    "history = model0.fit(X_train, \n",
    "                    y_train,\n",
    "                    epochs=200,\n",
    "                    batch_size=50,\n",
    "                    callbacks=callbacks,\n",
    "                    validation_data=(X_val, y_val))"
   ]
  },
  {
   "cell_type": "code",
   "execution_count": 54,
   "metadata": {},
   "outputs": [],
   "source": [
    "model0.save_weights('results/RNN/models/model0.weights.h5', overwrite = True)\n",
    "model0.save('results/RNN/models/model0.h5', overwrite = True)"
   ]
  },
  {
   "cell_type": "code",
   "execution_count": 48,
   "metadata": {},
   "outputs": [
    {
     "data": {
      "image/png": "[encoded data removed]",
      "text/plain": [
       "<Figure size 720x288 with 2 Axes>"
      ]
     },
     "metadata": {
      "needs_background": "light"
     },
     "output_type": "display_data"
    }
   ],
   "source": [
    "plot_accuracy_loss('Model 0', model0, (.6,1), (0,.8))"
   ]
  },
  {
   "cell_type": "code",
   "execution_count": 51,
   "metadata": {},
   "outputs": [],
   "source": [
    "y_train_pred0 = model0.predict_classes(X_train, batch_size = 20455)\n",
    "y_val_pred0 = model0.predict_classes(X_val, batch_size = 5114)\n",
    "y_train_prob0 = model0.predict_proba(X_train, batch_size = 20455)\n",
    "y_val_prob0 = model0.predict_proba(X_val, batch_size = 5114)"
   ]
  },
  {
   "cell_type": "code",
   "execution_count": 53,
   "metadata": {},
   "outputs": [
    {
     "data": {
      "text/plain": [
       "{'Train Accuracy': 0.95,\n",
       " 'Train Precision': 0.83,\n",
       " 'Train Recall': 0.45,\n",
       " 'Train F1': 0.58,\n",
       " 'Validation Accuracy': 0.95,\n",
       " 'Validation Precision': 0.76,\n",
       " 'Validation Recall': 0.43,\n",
       " 'Validation F1': 0.55}"
      ]
     },
     "execution_count": 53,
     "metadata": {},
     "output_type": "execute_result"
    }
   ],
   "source": [
    "compare_classification_metrics(y_train, y_train_pred0, y_val, y_val_pred0)"
   ]
  },
  {
   "cell_type": "code",
   "execution_count": 61,
   "metadata": {},
   "outputs": [
    {
     "name": "stdout",
     "output_type": "stream",
     "text": [
      "Adjusted Accuracy: 0.9477903793508017\n",
      "Adjusted Precision: 0.6619718309859155\n",
      "Adjusted Recall: 0.5236768802228412\n",
      "Adjusted F1 Score: 0.5847589424572317\n",
      "\n",
      "\n"
     ]
    },
    {
     "data": {
      "image/png": "[encoded data removed]",
      "text/plain": [
       "<Figure size 432x288 with 1 Axes>"
      ]
     },
     "metadata": {
      "needs_background": "light"
     },
     "output_type": "display_data"
    }
   ],
   "source": [
    "adj_y_val0, cm0 = adjust_threshold_and_score(y_val, y_val_prob0, .4, RNN = True)"
   ]
  },
  {
   "cell_type": "markdown",
   "metadata": {},
   "source": [
    "## Model 0a: "
   ]
  },
  {
   "cell_type": "code",
   "execution_count": 68,
   "metadata": {},
   "outputs": [
    {
     "name": "stdout",
     "output_type": "stream",
     "text": [
      "_________________________________________________________________\n",
      "Layer (type)                 Output Shape              Param #   \n",
      "=================================================================\n",
      "embedding_4 (Embedding)      (None, 39, 300)           11338500  \n",
      "_________________________________________________________________\n",
      "lstm_7 (LSTM)                (None, 39, 128)           219648    \n",
      "_________________________________________________________________\n",
      "batch_normalization_6 (Batch (None, 39, 128)           512       \n",
      "_________________________________________________________________\n",
      "lstm_8 (LSTM)                (None, 128)               131584    \n",
      "_________________________________________________________________\n",
      "batch_normalization_7 (Batch (None, 128)               512       \n",
      "_________________________________________________________________\n",
      "dense_3 (Dense)              (None, 1)                 129       \n",
      "=================================================================\n",
      "Total params: 11,690,885\n",
      "Trainable params: 351,873\n",
      "Non-trainable params: 11,339,012\n",
      "_________________________________________________________________\n",
      "None\n"
     ]
    }
   ],
   "source": [
    "model0a = Sequential()\n",
    "\n",
    "csv_logger = CSVLogger('results/RNN/history_log/model0a.training.log')\n",
    "# filepath = 'results/RNN/models/model1.h5'\n",
    "\n",
    "callbacks = [EarlyStopping(monitor='val_loss', patience = 10), \n",
    "             ReduceLROnPlateau(monitor='val_loss', patience = 10),\n",
    "             csv_logger]\n",
    "#              ModelCheckpoint(filepath, save_best_only = True, save_weights_only = True)]\n",
    "\n",
    "model0a.add(Embedding(num_words, 300, weights=[embedding_matrix300], input_length= 39, trainable=False))\n",
    "\n",
    "model0a.add(LSTM(128, return_sequences=True))\n",
    "model0a.add(BatchNormalization())\n",
    "\n",
    "model0a.add(LSTM(128))\n",
    "model0a.add(BatchNormalization())\n",
    "\n",
    "model0a.add(Dense(1, activation='sigmoid'))\n",
    "\n",
    "model0a.compile(loss='binary_crossentropy', optimizer = rmsprop(lr=.00001), metrics=['accuracy'])\n",
    "\n",
    "print(model0a.summary())"
   ]
  },
  {
   "cell_type": "code",
   "execution_count": 69,
   "metadata": {},
   "outputs": [
    {
     "name": "stdout",
     "output_type": "stream",
     "text": [
      "Train on 20455 samples, validate on 5114 samples\n",
      "Epoch 1/200\n",
      "20455/20455 [==============================] - 227s 11ms/step - loss: 0.6734 - acc: 0.6240 - val_loss: 0.5212 - val_acc: 0.8844\n",
      "Epoch 2/200\n",
      "20455/20455 [==============================] - 204s 10ms/step - loss: 0.6255 - acc: 0.7671 - val_loss: 0.5296 - val_acc: 0.8838\n",
      "Epoch 3/200\n",
      "20455/20455 [==============================] - 193s 9ms/step - loss: 0.5884 - acc: 0.8432 - val_loss: 0.4681 - val_acc: 0.9218\n",
      "Epoch 4/200\n",
      "20455/20455 [==============================] - 214s 10ms/step - loss: 0.5582 - acc: 0.8739 - val_loss: 0.5732 - val_acc: 0.8672\n",
      "Epoch 5/200\n",
      "20455/20455 [==============================] - 193s 9ms/step - loss: 0.5267 - acc: 0.8875 - val_loss: 0.4276 - val_acc: 0.9331\n",
      "Epoch 6/200\n",
      "20455/20455 [==============================] - 192s 9ms/step - loss: 0.4989 - acc: 0.9001 - val_loss: 0.3998 - val_acc: 0.9343\n",
      "Epoch 7/200\n",
      "20455/20455 [==============================] - 195s 10ms/step - loss: 0.4704 - acc: 0.9120 - val_loss: 0.3696 - val_acc: 0.9339\n",
      "Epoch 8/200\n",
      "20455/20455 [==============================] - 197s 10ms/step - loss: 0.4433 - acc: 0.9198 - val_loss: 0.3139 - val_acc: 0.9382\n",
      "Epoch 9/200\n",
      "20455/20455 [==============================] - 186s 9ms/step - loss: 0.4179 - acc: 0.9252 - val_loss: 0.2709 - val_acc: 0.9451\n",
      "Epoch 10/200\n",
      "20455/20455 [==============================] - 176s 9ms/step - loss: 0.3935 - acc: 0.9292 - val_loss: 0.2757 - val_acc: 0.9451\n",
      "Epoch 11/200\n",
      "20455/20455 [==============================] - 172s 8ms/step - loss: 0.3716 - acc: 0.9324 - val_loss: 0.2765 - val_acc: 0.9449\n",
      "Epoch 12/200\n",
      "20455/20455 [==============================] - 172s 8ms/step - loss: 0.3455 - acc: 0.9351 - val_loss: 0.3216 - val_acc: 0.9429\n",
      "Epoch 13/200\n",
      "20455/20455 [==============================] - 172s 8ms/step - loss: 0.3275 - acc: 0.9354 - val_loss: 0.2339 - val_acc: 0.9456\n",
      "Epoch 14/200\n",
      "20455/20455 [==============================] - 171s 8ms/step - loss: 0.3105 - acc: 0.9375 - val_loss: 0.2623 - val_acc: 0.9462\n",
      "Epoch 15/200\n",
      "20455/20455 [==============================] - 173s 8ms/step - loss: 0.2916 - acc: 0.9415 - val_loss: 0.3092 - val_acc: 0.9447\n",
      "Epoch 16/200\n",
      "20455/20455 [==============================] - 171s 8ms/step - loss: 0.2773 - acc: 0.9430 - val_loss: 0.2081 - val_acc: 0.9474\n",
      "Epoch 17/200\n",
      "20455/20455 [==============================] - 172s 8ms/step - loss: 0.2672 - acc: 0.9429 - val_loss: 0.2246 - val_acc: 0.9474\n",
      "Epoch 18/200\n",
      "20455/20455 [==============================] - 172s 8ms/step - loss: 0.2550 - acc: 0.9443 - val_loss: 0.1921 - val_acc: 0.9484\n",
      "Epoch 19/200\n",
      "20455/20455 [==============================] - 172s 8ms/step - loss: 0.2485 - acc: 0.9438 - val_loss: 0.2171 - val_acc: 0.9482\n",
      "Epoch 20/200\n",
      "20455/20455 [==============================] - 172s 8ms/step - loss: 0.2354 - acc: 0.9453 - val_loss: 0.2897 - val_acc: 0.9427\n",
      "Epoch 21/200\n",
      "20455/20455 [==============================] - 171s 8ms/step - loss: 0.2263 - acc: 0.9454 - val_loss: 0.2121 - val_acc: 0.9478\n",
      "Epoch 22/200\n",
      "20455/20455 [==============================] - 171s 8ms/step - loss: 0.2197 - acc: 0.9475 - val_loss: 0.2108 - val_acc: 0.9496\n",
      "Epoch 23/200\n",
      "20455/20455 [==============================] - 171s 8ms/step - loss: 0.2083 - acc: 0.9478 - val_loss: 0.1862 - val_acc: 0.9497\n",
      "Epoch 24/200\n",
      "20455/20455 [==============================] - 172s 8ms/step - loss: 0.2075 - acc: 0.9487 - val_loss: 0.2059 - val_acc: 0.9494\n",
      "Epoch 25/200\n",
      "20455/20455 [==============================] - 172s 8ms/step - loss: 0.1992 - acc: 0.9502 - val_loss: 0.1730 - val_acc: 0.9494\n",
      "Epoch 26/200\n",
      "20455/20455 [==============================] - 171s 8ms/step - loss: 0.1936 - acc: 0.9492 - val_loss: 0.1822 - val_acc: 0.9490\n",
      "Epoch 27/200\n",
      "20455/20455 [==============================] - 171s 8ms/step - loss: 0.1878 - acc: 0.9507 - val_loss: 0.1736 - val_acc: 0.9501\n",
      "Epoch 28/200\n",
      "20455/20455 [==============================] - 172s 8ms/step - loss: 0.1807 - acc: 0.9518 - val_loss: 0.1721 - val_acc: 0.9505\n",
      "Epoch 29/200\n",
      "20455/20455 [==============================] - 172s 8ms/step - loss: 0.1784 - acc: 0.9518 - val_loss: 0.1816 - val_acc: 0.9503\n",
      "Epoch 30/200\n",
      "20455/20455 [==============================] - 171s 8ms/step - loss: 0.1722 - acc: 0.9533 - val_loss: 0.1643 - val_acc: 0.9509\n",
      "Epoch 31/200\n",
      "20455/20455 [==============================] - 171s 8ms/step - loss: 0.1684 - acc: 0.9524 - val_loss: 0.1623 - val_acc: 0.9509\n",
      "Epoch 32/200\n",
      "20455/20455 [==============================] - 171s 8ms/step - loss: 0.1646 - acc: 0.9541 - val_loss: 0.1730 - val_acc: 0.9505\n",
      "Epoch 33/200\n",
      "20455/20455 [==============================] - 171s 8ms/step - loss: 0.1607 - acc: 0.9538 - val_loss: 0.1709 - val_acc: 0.9482\n",
      "Epoch 34/200\n",
      "20455/20455 [==============================] - 171s 8ms/step - loss: 0.1549 - acc: 0.9556 - val_loss: 0.1625 - val_acc: 0.9511\n",
      "Epoch 35/200\n",
      "20455/20455 [==============================] - 172s 8ms/step - loss: 0.1526 - acc: 0.9547 - val_loss: 0.1667 - val_acc: 0.9494\n",
      "Epoch 36/200\n",
      "20455/20455 [==============================] - 179s 9ms/step - loss: 0.1509 - acc: 0.9569 - val_loss: 0.1641 - val_acc: 0.9496\n",
      "Epoch 37/200\n",
      "20455/20455 [==============================] - 172s 8ms/step - loss: 0.1489 - acc: 0.9557 - val_loss: 0.1630 - val_acc: 0.9501\n",
      "Epoch 38/200\n",
      "20455/20455 [==============================] - 171s 8ms/step - loss: 0.1450 - acc: 0.9572 - val_loss: 0.1718 - val_acc: 0.9490\n",
      "Epoch 39/200\n",
      "20455/20455 [==============================] - 171s 8ms/step - loss: 0.1420 - acc: 0.9578 - val_loss: 0.1628 - val_acc: 0.9492\n",
      "Epoch 40/200\n",
      "20455/20455 [==============================] - 171s 8ms/step - loss: 0.1404 - acc: 0.9584 - val_loss: 0.1743 - val_acc: 0.9505\n",
      "Epoch 41/200\n",
      "20455/20455 [==============================] - 171s 8ms/step - loss: 0.1377 - acc: 0.9584 - val_loss: 0.1585 - val_acc: 0.9509\n",
      "Epoch 42/200\n",
      "20455/20455 [==============================] - 172s 8ms/step - loss: 0.1373 - acc: 0.9586 - val_loss: 0.1737 - val_acc: 0.9460\n",
      "Epoch 43/200\n",
      "20455/20455 [==============================] - 171s 8ms/step - loss: 0.1338 - acc: 0.9603 - val_loss: 0.1604 - val_acc: 0.9515\n",
      "Epoch 44/200\n",
      "20455/20455 [==============================] - 172s 8ms/step - loss: 0.1314 - acc: 0.9606 - val_loss: 0.1657 - val_acc: 0.9503\n",
      "Epoch 45/200\n",
      "20455/20455 [==============================] - 171s 8ms/step - loss: 0.1303 - acc: 0.9606 - val_loss: 0.1624 - val_acc: 0.9482\n",
      "Epoch 46/200\n",
      "20455/20455 [==============================] - 171s 8ms/step - loss: 0.1285 - acc: 0.9601 - val_loss: 0.1640 - val_acc: 0.9511\n",
      "Epoch 47/200\n",
      "20455/20455 [==============================] - 172s 8ms/step - loss: 0.1280 - acc: 0.9611 - val_loss: 0.1626 - val_acc: 0.9519\n",
      "Epoch 48/200\n",
      "20455/20455 [==============================] - 171s 8ms/step - loss: 0.1244 - acc: 0.9608 - val_loss: 0.1736 - val_acc: 0.9492\n",
      "Epoch 49/200\n",
      "20455/20455 [==============================] - 172s 8ms/step - loss: 0.1241 - acc: 0.9624 - val_loss: 0.1576 - val_acc: 0.9513\n",
      "Epoch 50/200\n",
      "20455/20455 [==============================] - 172s 8ms/step - loss: 0.1216 - acc: 0.9621 - val_loss: 0.1674 - val_acc: 0.9513\n",
      "Epoch 51/200\n",
      "20455/20455 [==============================] - 171s 8ms/step - loss: 0.1202 - acc: 0.9623 - val_loss: 0.1550 - val_acc: 0.9507\n",
      "Epoch 52/200\n",
      "20455/20455 [==============================] - 171s 8ms/step - loss: 0.1201 - acc: 0.9635 - val_loss: 0.1599 - val_acc: 0.9486\n",
      "Epoch 53/200\n",
      "20455/20455 [==============================] - 171s 8ms/step - loss: 0.1168 - acc: 0.9639 - val_loss: 0.1631 - val_acc: 0.9513\n",
      "Epoch 54/200\n",
      "20455/20455 [==============================] - 171s 8ms/step - loss: 0.1147 - acc: 0.9643 - val_loss: 0.1617 - val_acc: 0.9515\n",
      "Epoch 55/200\n",
      "20455/20455 [==============================] - 172s 8ms/step - loss: 0.1145 - acc: 0.9651 - val_loss: 0.1753 - val_acc: 0.9488\n",
      "Epoch 56/200\n",
      "20455/20455 [==============================] - 172s 8ms/step - loss: 0.1124 - acc: 0.9646 - val_loss: 0.1598 - val_acc: 0.9521\n",
      "Epoch 57/200\n",
      "20455/20455 [==============================] - 171s 8ms/step - loss: 0.1101 - acc: 0.9657 - val_loss: 0.1597 - val_acc: 0.9525\n",
      "Epoch 58/200\n",
      "20455/20455 [==============================] - 172s 8ms/step - loss: 0.1094 - acc: 0.9667 - val_loss: 0.1685 - val_acc: 0.9497\n",
      "Epoch 59/200\n",
      "20455/20455 [==============================] - 171s 8ms/step - loss: 0.1087 - acc: 0.9672 - val_loss: 0.1603 - val_acc: 0.9515\n",
      "Epoch 60/200\n",
      "20455/20455 [==============================] - 171s 8ms/step - loss: 0.1078 - acc: 0.9665 - val_loss: 0.1560 - val_acc: 0.9505\n",
      "Epoch 61/200\n",
      "20455/20455 [==============================] - 171s 8ms/step - loss: 0.1074 - acc: 0.9670 - val_loss: 0.1613 - val_acc: 0.9517\n"
     ]
    }
   ],
   "source": [
    "history = model0a.fit(X_train, \n",
    "                    y_train,\n",
    "                    epochs=200,\n",
    "                    batch_size=50,\n",
    "                    callbacks=callbacks,\n",
    "                    validation_data=(X_val, y_val))"
   ]
  },
  {
   "cell_type": "code",
   "execution_count": 70,
   "metadata": {},
   "outputs": [],
   "source": [
    "model0a.save_weights('results/RNN/models/model0a.weights.h5', overwrite = True)\n",
    "model0a.save('results/RNN/models/model0a.h5', overwrite = True)"
   ]
  },
  {
   "cell_type": "code",
   "execution_count": 96,
   "metadata": {},
   "outputs": [
    {
     "data": {
      "image/png": "[encoded data removed]",
      "text/plain": [
       "<Figure size 720x288 with 2 Axes>"
      ]
     },
     "metadata": {
      "needs_background": "light"
     },
     "output_type": "display_data"
    }
   ],
   "source": [
    "plot_accuracy_loss('Model 0a', model0a, (.6,1), (0,.8))"
   ]
  },
  {
   "cell_type": "code",
   "execution_count": 72,
   "metadata": {},
   "outputs": [],
   "source": [
    "y_train_pred0a = model0a.predict_classes(X_train, batch_size = 20455)\n",
    "y_val_pred0a = model0a.predict_classes(X_val, batch_size = 5114)\n",
    "y_train_prob0a = model0a.predict_proba(X_train, batch_size = 20455)\n",
    "y_val_prob0a = model0a.predict_proba(X_val, batch_size = 5114)"
   ]
  },
  {
   "cell_type": "code",
   "execution_count": 73,
   "metadata": {},
   "outputs": [
    {
     "data": {
      "text/plain": [
       "{'Train Accuracy': 0.97,\n",
       " 'Train Precision': 0.96,\n",
       " 'Train Recall': 0.6,\n",
       " 'Train F1': 0.74,\n",
       " 'Validation Accuracy': 0.95,\n",
       " 'Validation Precision': 0.76,\n",
       " 'Validation Recall': 0.45,\n",
       " 'Validation F1': 0.57}"
      ]
     },
     "execution_count": 73,
     "metadata": {},
     "output_type": "execute_result"
    }
   ],
   "source": [
    "compare_classification_metrics(y_train, y_train_pred0a, y_val, y_val_pred0a)"
   ]
  },
  {
   "cell_type": "code",
   "execution_count": 74,
   "metadata": {},
   "outputs": [
    {
     "name": "stdout",
     "output_type": "stream",
     "text": [
      "Adjusted Accuracy: 0.9507235041063746\n",
      "Adjusted Precision: 0.7183673469387755\n",
      "Adjusted Recall: 0.49025069637883006\n",
      "Adjusted F1 Score: 0.5827814569536424\n",
      "\n",
      "\n"
     ]
    },
    {
     "data": {
      "image/png": "[encoded data removed]",
      "text/plain": [
       "<Figure size 432x288 with 1 Axes>"
      ]
     },
     "metadata": {
      "needs_background": "light"
     },
     "output_type": "display_data"
    }
   ],
   "source": [
    "adj_y_val0a, cm0a = adjust_threshold_and_score(y_val, y_val_prob0a, .4, RNN = True)"
   ]
  },
  {
   "cell_type": "markdown",
   "metadata": {},
   "source": [
    "### RNN 1 - no class weight adjustments"
   ]
  },
  {
   "cell_type": "code",
   "execution_count": 591,
   "metadata": {},
   "outputs": [],
   "source": [
    "# init = tf.global_variables_initializer()\n",
    "# with tf.Session() as sess:\n",
    "#     sess.run(init)"
   ]
  },
  {
   "cell_type": "code",
   "execution_count": 75,
   "metadata": {},
   "outputs": [],
   "source": [
    "seed(10)\n",
    "set_random_seed(10)"
   ]
  },
  {
   "cell_type": "code",
   "execution_count": 76,
   "metadata": {},
   "outputs": [
    {
     "name": "stdout",
     "output_type": "stream",
     "text": [
      "_________________________________________________________________\n",
      "Layer (type)                 Output Shape              Param #   \n",
      "=================================================================\n",
      "embedding_5 (Embedding)      (None, 39, 300)           11338500  \n",
      "_________________________________________________________________\n",
      "lstm_9 (LSTM)                (None, 39, 64)            93440     \n",
      "_________________________________________________________________\n",
      "batch_normalization_8 (Batch (None, 39, 64)            256       \n",
      "_________________________________________________________________\n",
      "lstm_10 (LSTM)               (None, 32)                12416     \n",
      "_________________________________________________________________\n",
      "batch_normalization_9 (Batch (None, 32)                128       \n",
      "_________________________________________________________________\n",
      "dense_4 (Dense)              (None, 1)                 33        \n",
      "=================================================================\n",
      "Total params: 11,444,773\n",
      "Trainable params: 106,081\n",
      "Non-trainable params: 11,338,692\n",
      "_________________________________________________________________\n",
      "None\n"
     ]
    }
   ],
   "source": [
    "model1 = Sequential()\n",
    "\n",
    "csv_logger = CSVLogger('results/RNN/history_log/model1.training.log')\n",
    "# filepath = 'results/RNN/models/model1.h5'\n",
    "\n",
    "callbacks = [EarlyStopping(monitor='val_loss', patience = 10), \n",
    "             ReduceLROnPlateau(monitor='val_loss', patience = 10),\n",
    "             csv_logger]\n",
    "#              ModelCheckpoint(filepath, save_best_only = True, save_weights_only = True)]\n",
    "\n",
    "model1.add(Embedding(num_words, 300, weights=[embedding_matrix300], input_length= 39, trainable=False))\n",
    "\n",
    "model1.add(LSTM(64, activation='relu', return_sequences=True))\n",
    "model1.add(BatchNormalization())\n",
    "\n",
    "model1.add(LSTM(64, activation='relu'))\n",
    "model1.add(BatchNormalization())\n",
    "\n",
    "model1.add(Dense(1, activation='sigmoid'))\n",
    "\n",
    "model1.compile(loss='binary_crossentropy', optimizer = rmsprop(lr=.00001), metrics=['accuracy'])\n",
    "\n",
    "print(model1.summary())"
   ]
  },
  {
   "cell_type": "code",
   "execution_count": 77,
   "metadata": {},
   "outputs": [
    {
     "name": "stdout",
     "output_type": "stream",
     "text": [
      "Train on 20455 samples, validate on 5114 samples\n",
      "Epoch 1/200\n",
      "20455/20455 [==============================] - 118s 6ms/step - loss: 0.7455 - acc: 0.4676 - val_loss: 0.7682 - val_acc: 0.7933\n",
      "Epoch 2/200\n",
      "20455/20455 [==============================] - 117s 6ms/step - loss: 0.7140 - acc: 0.6415 - val_loss: 0.7581 - val_acc: 0.7489\n",
      "Epoch 3/200\n",
      "20455/20455 [==============================] - 109s 5ms/step - loss: 0.6839 - acc: 0.7631 - val_loss: 0.7577 - val_acc: 0.8328\n",
      "Epoch 4/200\n",
      "20455/20455 [==============================] - 110s 5ms/step - loss: 0.6539 - acc: 0.8247 - val_loss: 0.6758 - val_acc: 0.8702\n",
      "Epoch 5/200\n",
      "20455/20455 [==============================] - 110s 5ms/step - loss: 0.6290 - acc: 0.8601 - val_loss: 0.6612 - val_acc: 0.8999\n",
      "Epoch 6/200\n",
      "20455/20455 [==============================] - 110s 5ms/step - loss: 0.6112 - acc: 0.8767 - val_loss: 0.5848 - val_acc: 0.9183\n",
      "Epoch 7/200\n",
      "20455/20455 [==============================] - 110s 5ms/step - loss: 0.5947 - acc: 0.8832 - val_loss: 0.5692 - val_acc: 0.9190\n",
      "Epoch 8/200\n",
      "20455/20455 [==============================] - 110s 5ms/step - loss: 0.5807 - acc: 0.8931 - val_loss: 0.5865 - val_acc: 0.9206\n",
      "Epoch 9/200\n",
      "20455/20455 [==============================] - 109s 5ms/step - loss: 0.5657 - acc: 0.8993 - val_loss: 0.5471 - val_acc: 0.9241\n",
      "Epoch 10/200\n",
      "20455/20455 [==============================] - 110s 5ms/step - loss: 0.5518 - acc: 0.9012 - val_loss: 0.5431 - val_acc: 0.9251\n",
      "Epoch 11/200\n",
      "20455/20455 [==============================] - 109s 5ms/step - loss: 0.5366 - acc: 0.9082 - val_loss: 0.5224 - val_acc: 0.9255\n",
      "Epoch 12/200\n",
      "20455/20455 [==============================] - 109s 5ms/step - loss: 0.5214 - acc: 0.9135 - val_loss: 0.5158 - val_acc: 0.9226\n",
      "Epoch 13/200\n",
      "20455/20455 [==============================] - 109s 5ms/step - loss: 0.5096 - acc: 0.9122 - val_loss: 0.5124 - val_acc: 0.9189\n",
      "Epoch 14/200\n",
      "20455/20455 [==============================] - 109s 5ms/step - loss: 0.4968 - acc: 0.9149 - val_loss: 0.4811 - val_acc: 0.9273\n",
      "Epoch 15/200\n",
      "20455/20455 [==============================] - 109s 5ms/step - loss: 0.4802 - acc: 0.9187 - val_loss: 0.4519 - val_acc: 0.9280\n",
      "Epoch 16/200\n",
      "20455/20455 [==============================] - 112s 5ms/step - loss: 0.4676 - acc: 0.9199 - val_loss: 0.4693 - val_acc: 0.9265\n",
      "Epoch 17/200\n",
      "20455/20455 [==============================] - 109s 5ms/step - loss: 0.4551 - acc: 0.9212 - val_loss: 0.4518 - val_acc: 0.9280\n",
      "Epoch 18/200\n",
      "20455/20455 [==============================] - 110s 5ms/step - loss: 0.4429 - acc: 0.9235 - val_loss: 0.4336 - val_acc: 0.9276\n",
      "Epoch 19/200\n",
      "20455/20455 [==============================] - 110s 5ms/step - loss: 0.4314 - acc: 0.9234 - val_loss: 0.4186 - val_acc: 0.9251\n",
      "Epoch 20/200\n",
      "20455/20455 [==============================] - 109s 5ms/step - loss: 0.4165 - acc: 0.9267 - val_loss: 0.3989 - val_acc: 0.9302\n",
      "Epoch 21/200\n",
      "20455/20455 [==============================] - 109s 5ms/step - loss: 0.4086 - acc: 0.9261 - val_loss: 0.4027 - val_acc: 0.9292\n",
      "Epoch 22/200\n",
      "20455/20455 [==============================] - 109s 5ms/step - loss: 0.3988 - acc: 0.9275 - val_loss: 0.4138 - val_acc: 0.9292\n",
      "Epoch 23/200\n",
      "20455/20455 [==============================] - 109s 5ms/step - loss: 0.3811 - acc: 0.9280 - val_loss: 0.3727 - val_acc: 0.9296\n",
      "Epoch 24/200\n",
      "20455/20455 [==============================] - 109s 5ms/step - loss: 0.3702 - acc: 0.9283 - val_loss: 0.3682 - val_acc: 0.9224\n",
      "Epoch 25/200\n",
      "20455/20455 [==============================] - 110s 5ms/step - loss: 0.3596 - acc: 0.9286 - val_loss: 0.3609 - val_acc: 0.9302\n",
      "Epoch 26/200\n",
      "20455/20455 [==============================] - 109s 5ms/step - loss: 0.3468 - acc: 0.9292 - val_loss: 0.3442 - val_acc: 0.9304\n",
      "Epoch 27/200\n",
      "20455/20455 [==============================] - 109s 5ms/step - loss: 0.3343 - acc: 0.9300 - val_loss: 0.3256 - val_acc: 0.9302\n",
      "Epoch 28/200\n",
      "20455/20455 [==============================] - 110s 5ms/step - loss: 0.3210 - acc: 0.9311 - val_loss: 0.3087 - val_acc: 0.9233\n",
      "Epoch 29/200\n",
      "20455/20455 [==============================] - 109s 5ms/step - loss: 0.3089 - acc: 0.9335 - val_loss: 0.2929 - val_acc: 0.9296\n",
      "Epoch 30/200\n",
      "20455/20455 [==============================] - 109s 5ms/step - loss: 0.2981 - acc: 0.9334 - val_loss: 0.3012 - val_acc: 0.9212\n",
      "Epoch 31/200\n",
      "20455/20455 [==============================] - 109s 5ms/step - loss: 0.2919 - acc: 0.9331 - val_loss: 0.3018 - val_acc: 0.9308\n",
      "Epoch 32/200\n",
      "20455/20455 [==============================] - 110s 5ms/step - loss: 0.2821 - acc: 0.9335 - val_loss: 0.2891 - val_acc: 0.9312\n",
      "Epoch 33/200\n",
      "20455/20455 [==============================] - 109s 5ms/step - loss: 0.2737 - acc: 0.9344 - val_loss: 0.3006 - val_acc: 0.9286\n",
      "Epoch 34/200\n",
      "20455/20455 [==============================] - 109s 5ms/step - loss: 0.2651 - acc: 0.9353 - val_loss: 0.2680 - val_acc: 0.9318\n",
      "Epoch 35/200\n",
      "20455/20455 [==============================] - 109s 5ms/step - loss: 0.2594 - acc: 0.9352 - val_loss: 0.2779 - val_acc: 0.9314\n",
      "Epoch 36/200\n",
      "20455/20455 [==============================] - 109s 5ms/step - loss: 0.2487 - acc: 0.9377 - val_loss: 0.2614 - val_acc: 0.9331\n",
      "Epoch 37/200\n",
      "20455/20455 [==============================] - 109s 5ms/step - loss: 0.2428 - acc: 0.9368 - val_loss: 0.2495 - val_acc: 0.9335\n",
      "Epoch 38/200\n",
      "20455/20455 [==============================] - 109s 5ms/step - loss: 0.2354 - acc: 0.9364 - val_loss: 0.2319 - val_acc: 0.9343\n",
      "Epoch 39/200\n",
      "20455/20455 [==============================] - 109s 5ms/step - loss: 0.2283 - acc: 0.9380 - val_loss: 0.2157 - val_acc: 0.9376\n",
      "Epoch 40/200\n",
      "20455/20455 [==============================] - 109s 5ms/step - loss: 0.2205 - acc: 0.9395 - val_loss: 0.2237 - val_acc: 0.9331\n",
      "Epoch 41/200\n",
      "20455/20455 [==============================] - 109s 5ms/step - loss: 0.2160 - acc: 0.9386 - val_loss: 0.2089 - val_acc: 0.9359\n",
      "Epoch 42/200\n",
      "20455/20455 [==============================] - 110s 5ms/step - loss: 0.2111 - acc: 0.9393 - val_loss: 0.2098 - val_acc: 0.9361\n",
      "Epoch 43/200\n",
      "20455/20455 [==============================] - 109s 5ms/step - loss: 0.2058 - acc: 0.9404 - val_loss: 0.2045 - val_acc: 0.9364\n",
      "Epoch 44/200\n",
      "20455/20455 [==============================] - 109s 5ms/step - loss: 0.2006 - acc: 0.9403 - val_loss: 0.1984 - val_acc: 0.9376\n",
      "Epoch 45/200\n",
      "20455/20455 [==============================] - 110s 5ms/step - loss: 0.1953 - acc: 0.9411 - val_loss: 0.1899 - val_acc: 0.9382\n",
      "Epoch 46/200\n",
      "20455/20455 [==============================] - 109s 5ms/step - loss: 0.1914 - acc: 0.9417 - val_loss: 0.1881 - val_acc: 0.9435\n",
      "Epoch 47/200\n",
      "20455/20455 [==============================] - 109s 5ms/step - loss: 0.1879 - acc: 0.9423 - val_loss: 0.1847 - val_acc: 0.9380\n",
      "Epoch 48/200\n",
      "20455/20455 [==============================] - 109s 5ms/step - loss: 0.1852 - acc: 0.9416 - val_loss: 0.1939 - val_acc: 0.9372\n",
      "Epoch 49/200\n",
      "20455/20455 [==============================] - 109s 5ms/step - loss: 0.1809 - acc: 0.9422 - val_loss: 0.1849 - val_acc: 0.9409\n",
      "Epoch 50/200\n",
      "20455/20455 [==============================] - 109s 5ms/step - loss: 0.1784 - acc: 0.9431 - val_loss: 0.1759 - val_acc: 0.9417\n",
      "Epoch 51/200\n",
      "20455/20455 [==============================] - 109s 5ms/step - loss: 0.1745 - acc: 0.9428 - val_loss: 0.1806 - val_acc: 0.9415\n",
      "Epoch 52/200\n",
      "20455/20455 [==============================] - 110s 5ms/step - loss: 0.1725 - acc: 0.9432 - val_loss: 0.1732 - val_acc: 0.9437\n",
      "Epoch 53/200\n",
      "20455/20455 [==============================] - 109s 5ms/step - loss: 0.1726 - acc: 0.9426 - val_loss: 0.1756 - val_acc: 0.9427\n",
      "Epoch 54/200\n",
      "20455/20455 [==============================] - 109s 5ms/step - loss: 0.1680 - acc: 0.9446 - val_loss: 0.1704 - val_acc: 0.9435\n",
      "Epoch 55/200\n",
      "20455/20455 [==============================] - 109s 5ms/step - loss: 0.1660 - acc: 0.9444 - val_loss: 0.1676 - val_acc: 0.9429\n",
      "Epoch 56/200\n",
      "20455/20455 [==============================] - 109s 5ms/step - loss: 0.1652 - acc: 0.9431 - val_loss: 0.1698 - val_acc: 0.9447\n",
      "Epoch 57/200\n",
      "20455/20455 [==============================] - 116s 6ms/step - loss: 0.1627 - acc: 0.9440 - val_loss: 0.1696 - val_acc: 0.9419\n",
      "Epoch 58/200\n",
      "20455/20455 [==============================] - 114s 6ms/step - loss: 0.1614 - acc: 0.9441 - val_loss: 0.1664 - val_acc: 0.9431\n",
      "Epoch 59/200\n",
      "20455/20455 [==============================] - 112s 5ms/step - loss: 0.1600 - acc: 0.9441 - val_loss: 0.1662 - val_acc: 0.9423\n",
      "Epoch 60/200\n",
      "20455/20455 [==============================] - 109s 5ms/step - loss: 0.1573 - acc: 0.9459 - val_loss: 0.1612 - val_acc: 0.9454\n",
      "Epoch 61/200\n",
      "20455/20455 [==============================] - 109s 5ms/step - loss: 0.1568 - acc: 0.9444 - val_loss: 0.1641 - val_acc: 0.9427\n",
      "Epoch 62/200\n",
      "20455/20455 [==============================] - 109s 5ms/step - loss: 0.1553 - acc: 0.9452 - val_loss: 0.1577 - val_acc: 0.9486\n",
      "Epoch 63/200\n",
      "20455/20455 [==============================] - 109s 5ms/step - loss: 0.1536 - acc: 0.9458 - val_loss: 0.1594 - val_acc: 0.9456\n",
      "Epoch 64/200\n",
      "20455/20455 [==============================] - 108s 5ms/step - loss: 0.1515 - acc: 0.9471 - val_loss: 0.1622 - val_acc: 0.9429\n",
      "Epoch 65/200\n",
      "20455/20455 [==============================] - 109s 5ms/step - loss: 0.1506 - acc: 0.9467 - val_loss: 0.1582 - val_acc: 0.9449\n",
      "Epoch 66/200\n",
      "20455/20455 [==============================] - 109s 5ms/step - loss: 0.1500 - acc: 0.9466 - val_loss: 0.1598 - val_acc: 0.9435\n",
      "Epoch 67/200\n",
      "20455/20455 [==============================] - 109s 5ms/step - loss: 0.1487 - acc: 0.9476 - val_loss: 0.1606 - val_acc: 0.9458\n",
      "Epoch 68/200\n",
      "20455/20455 [==============================] - 109s 5ms/step - loss: 0.1466 - acc: 0.9480 - val_loss: 0.1555 - val_acc: 0.9474\n",
      "Epoch 69/200\n",
      "20455/20455 [==============================] - 109s 5ms/step - loss: 0.1460 - acc: 0.9482 - val_loss: 0.1597 - val_acc: 0.9433\n",
      "Epoch 70/200\n",
      "20455/20455 [==============================] - 109s 5ms/step - loss: 0.1454 - acc: 0.9478 - val_loss: 0.1557 - val_acc: 0.9482\n",
      "Epoch 71/200\n",
      "20455/20455 [==============================] - 109s 5ms/step - loss: 0.1440 - acc: 0.9483 - val_loss: 0.1602 - val_acc: 0.9425\n",
      "Epoch 72/200\n",
      "20455/20455 [==============================] - 109s 5ms/step - loss: 0.1425 - acc: 0.9494 - val_loss: 0.1569 - val_acc: 0.9484\n",
      "Epoch 73/200\n",
      "20455/20455 [==============================] - 109s 5ms/step - loss: 0.1420 - acc: 0.9489 - val_loss: 0.1568 - val_acc: 0.9486\n",
      "Epoch 74/200\n",
      "20455/20455 [==============================] - 109s 5ms/step - loss: 0.1409 - acc: 0.9494 - val_loss: 0.1567 - val_acc: 0.9456\n",
      "Epoch 75/200\n",
      "20455/20455 [==============================] - 109s 5ms/step - loss: 0.1409 - acc: 0.9492 - val_loss: 0.1537 - val_acc: 0.9480\n",
      "Epoch 76/200\n",
      "20455/20455 [==============================] - 109s 5ms/step - loss: 0.1387 - acc: 0.9510 - val_loss: 0.1608 - val_acc: 0.9449\n",
      "Epoch 77/200\n",
      "20455/20455 [==============================] - 109s 5ms/step - loss: 0.1381 - acc: 0.9508 - val_loss: 0.1631 - val_acc: 0.9435\n",
      "Epoch 78/200\n",
      "20455/20455 [==============================] - 108s 5ms/step - loss: 0.1373 - acc: 0.9510 - val_loss: 0.1565 - val_acc: 0.9488\n",
      "Epoch 79/200\n",
      "20455/20455 [==============================] - 109s 5ms/step - loss: 0.1379 - acc: 0.9516 - val_loss: 0.1562 - val_acc: 0.9492\n",
      "Epoch 80/200\n",
      "20455/20455 [==============================] - 109s 5ms/step - loss: 0.1356 - acc: 0.9515 - val_loss: 0.1533 - val_acc: 0.9488\n",
      "Epoch 81/200\n",
      "20455/20455 [==============================] - 109s 5ms/step - loss: 0.1363 - acc: 0.9518 - val_loss: 0.1574 - val_acc: 0.9476\n",
      "Epoch 82/200\n",
      "20455/20455 [==============================] - 109s 5ms/step - loss: 0.1346 - acc: 0.9509 - val_loss: 0.1541 - val_acc: 0.9482\n",
      "Epoch 83/200\n",
      "20455/20455 [==============================] - 108s 5ms/step - loss: 0.1331 - acc: 0.9519 - val_loss: 0.1541 - val_acc: 0.9492\n",
      "Epoch 84/200\n",
      "20455/20455 [==============================] - 109s 5ms/step - loss: 0.1333 - acc: 0.9520 - val_loss: 0.1568 - val_acc: 0.9472\n",
      "Epoch 85/200\n",
      "20455/20455 [==============================] - 109s 5ms/step - loss: 0.1311 - acc: 0.9534 - val_loss: 0.1546 - val_acc: 0.9488\n",
      "Epoch 86/200\n",
      "20455/20455 [==============================] - 109s 5ms/step - loss: 0.1311 - acc: 0.9527 - val_loss: 0.1593 - val_acc: 0.9468\n",
      "Epoch 87/200\n",
      "20455/20455 [==============================] - 109s 5ms/step - loss: 0.1320 - acc: 0.9529 - val_loss: 0.1536 - val_acc: 0.9503\n",
      "Epoch 88/200\n",
      "20455/20455 [==============================] - 109s 5ms/step - loss: 0.1295 - acc: 0.9539 - val_loss: 0.1509 - val_acc: 0.9503\n",
      "Epoch 89/200\n",
      "20455/20455 [==============================] - 109s 5ms/step - loss: 0.1302 - acc: 0.9529 - val_loss: 0.1521 - val_acc: 0.9507\n",
      "Epoch 90/200\n",
      "20455/20455 [==============================] - 109s 5ms/step - loss: 0.1288 - acc: 0.9537 - val_loss: 0.1547 - val_acc: 0.9492\n",
      "Epoch 91/200\n",
      "20455/20455 [==============================] - 109s 5ms/step - loss: 0.1269 - acc: 0.9546 - val_loss: 0.1525 - val_acc: 0.9497\n",
      "Epoch 92/200\n",
      "20455/20455 [==============================] - 109s 5ms/step - loss: 0.1269 - acc: 0.9545 - val_loss: 0.1547 - val_acc: 0.9494\n",
      "Epoch 93/200\n",
      "20455/20455 [==============================] - 110s 5ms/step - loss: 0.1280 - acc: 0.9541 - val_loss: 0.1540 - val_acc: 0.9503\n",
      "Epoch 94/200\n",
      "20455/20455 [==============================] - 109s 5ms/step - loss: 0.1249 - acc: 0.9556 - val_loss: 0.1524 - val_acc: 0.9509\n",
      "Epoch 95/200\n",
      "20455/20455 [==============================] - 109s 5ms/step - loss: 0.1252 - acc: 0.9551 - val_loss: 0.1499 - val_acc: 0.9501\n",
      "Epoch 96/200\n",
      "20455/20455 [==============================] - 109s 5ms/step - loss: 0.1245 - acc: 0.9553 - val_loss: 0.1517 - val_acc: 0.9511\n",
      "Epoch 97/200\n",
      "20455/20455 [==============================] - 109s 5ms/step - loss: 0.1254 - acc: 0.9553 - val_loss: 0.1535 - val_acc: 0.9509\n",
      "Epoch 98/200\n",
      "20455/20455 [==============================] - 110s 5ms/step - loss: 0.1237 - acc: 0.9569 - val_loss: 0.1517 - val_acc: 0.9507\n",
      "Epoch 99/200\n",
      "20455/20455 [==============================] - 109s 5ms/step - loss: 0.1239 - acc: 0.9560 - val_loss: 0.1503 - val_acc: 0.9517\n",
      "Epoch 100/200\n",
      "20455/20455 [==============================] - 109s 5ms/step - loss: 0.1233 - acc: 0.9560 - val_loss: 0.1527 - val_acc: 0.9509\n",
      "Epoch 101/200\n",
      "20455/20455 [==============================] - 109s 5ms/step - loss: 0.1213 - acc: 0.9569 - val_loss: 0.1532 - val_acc: 0.9497\n",
      "Epoch 102/200\n",
      "20455/20455 [==============================] - 109s 5ms/step - loss: 0.1215 - acc: 0.9559 - val_loss: 0.1540 - val_acc: 0.9509\n",
      "Epoch 103/200\n",
      "20455/20455 [==============================] - 109s 5ms/step - loss: 0.1213 - acc: 0.9577 - val_loss: 0.1543 - val_acc: 0.9517\n",
      "Epoch 104/200\n",
      "20455/20455 [==============================] - 109s 5ms/step - loss: 0.1191 - acc: 0.9575 - val_loss: 0.1538 - val_acc: 0.9501\n",
      "Epoch 105/200\n",
      "20455/20455 [==============================] - 109s 5ms/step - loss: 0.1202 - acc: 0.9575 - val_loss: 0.1547 - val_acc: 0.9511\n"
     ]
    }
   ],
   "source": [
    "history = model1.fit(X_train, \n",
    "                    y_train,\n",
    "                    epochs=200,\n",
    "                    batch_size=50,\n",
    "                    callbacks=callbacks,\n",
    "                    validation_data=(X_val, y_val))"
   ]
  },
  {
   "cell_type": "code",
   "execution_count": 78,
   "metadata": {},
   "outputs": [],
   "source": [
    "model1.save_weights('results/RNN/models/model1.weights.h5', overwrite = True)\n",
    "model1.save('results/RNN/models/model1.h5', overwrite = True)"
   ]
  },
  {
   "cell_type": "code",
   "execution_count": 134,
   "metadata": {},
   "outputs": [],
   "source": [
    "model1 = load_model('results/RNN/models/model1.h5')"
   ]
  },
  {
   "cell_type": "code",
   "execution_count": 79,
   "metadata": {},
   "outputs": [
    {
     "data": {
      "image/png": "[encoded data removed]",
      "text/plain": [
       "<Figure size 720x288 with 2 Axes>"
      ]
     },
     "metadata": {
      "needs_background": "light"
     },
     "output_type": "display_data"
    }
   ],
   "source": [
    "plot_accuracy_loss('Model 1', model1,(.6,1), (0,.8))"
   ]
  },
  {
   "cell_type": "code",
   "execution_count": 83,
   "metadata": {},
   "outputs": [],
   "source": [
    "y_train_pred1 = model1.predict_classes(X_train, batch_size = 20455)\n",
    "y_val_pred1 = model1.predict_classes(X_val, batch_size = 5114)\n",
    "y_train_prob1 = model1.predict_proba(X_train, batch_size = 20455)\n",
    "y_val_prob1 = model1.predict_proba(X_val, batch_size = 5114)"
   ]
  },
  {
   "cell_type": "code",
   "execution_count": 87,
   "metadata": {},
   "outputs": [
    {
     "data": {
      "image/png": "[encoded data removed]",
      "text/plain": [
       "<Figure size 432x288 with 1 Axes>"
      ]
     },
     "metadata": {
      "needs_background": "light"
     },
     "output_type": "display_data"
    }
   ],
   "source": [
    "seaborn_confusion_matrix(y_val, y_val_pred1)"
   ]
  },
  {
   "cell_type": "code",
   "execution_count": 89,
   "metadata": {},
   "outputs": [
    {
     "data": {
      "text/plain": [
       "{'Train Accuracy': 0.96,\n",
       " 'Train Precision': 0.88,\n",
       " 'Train Recall': 0.47,\n",
       " 'Train F1': 0.61,\n",
       " 'Validation Accuracy': 0.95,\n",
       " 'Validation Precision': 0.76,\n",
       " 'Validation Recall': 0.44,\n",
       " 'Validation F1': 0.56}"
      ]
     },
     "execution_count": 89,
     "metadata": {},
     "output_type": "execute_result"
    }
   ],
   "source": [
    "compare_classification_metrics(y_train, y_train_pred1, y_val, y_val_pred1)"
   ]
  },
  {
   "cell_type": "code",
   "execution_count": 90,
   "metadata": {
    "scrolled": true
   },
   "outputs": [
    {
     "data": {
      "text/html": [
       "<div>\n",
       "<style scoped>\n",
       "    .dataframe tbody tr th:only-of-type {\n",
       "        vertical-align: middle;\n",
       "    }\n",
       "\n",
       "    .dataframe tbody tr th {\n",
       "        vertical-align: top;\n",
       "    }\n",
       "\n",
       "    .dataframe thead th {\n",
       "        text-align: right;\n",
       "    }\n",
       "</style>\n",
       "<table border=\"1\" class=\"dataframe\">\n",
       "  <thead>\n",
       "    <tr style=\"text-align: right;\">\n",
       "      <th></th>\n",
       "      <th>0</th>\n",
       "    </tr>\n",
       "  </thead>\n",
       "  <tbody>\n",
       "    <tr>\n",
       "      <th>count</th>\n",
       "      <td>5114.000000</td>\n",
       "    </tr>\n",
       "    <tr>\n",
       "      <th>mean</th>\n",
       "      <td>0.065470</td>\n",
       "    </tr>\n",
       "    <tr>\n",
       "      <th>std</th>\n",
       "      <td>0.163814</td>\n",
       "    </tr>\n",
       "    <tr>\n",
       "      <th>min</th>\n",
       "      <td>0.000000</td>\n",
       "    </tr>\n",
       "    <tr>\n",
       "      <th>25%</th>\n",
       "      <td>0.006414</td>\n",
       "    </tr>\n",
       "    <tr>\n",
       "      <th>50%</th>\n",
       "      <td>0.011144</td>\n",
       "    </tr>\n",
       "    <tr>\n",
       "      <th>75%</th>\n",
       "      <td>0.035260</td>\n",
       "    </tr>\n",
       "    <tr>\n",
       "      <th>max</th>\n",
       "      <td>1.000000</td>\n",
       "    </tr>\n",
       "  </tbody>\n",
       "</table>\n",
       "</div>"
      ],
      "text/plain": [
       "                 0\n",
       "count  5114.000000\n",
       "mean      0.065470\n",
       "std       0.163814\n",
       "min       0.000000\n",
       "25%       0.006414\n",
       "50%       0.011144\n",
       "75%       0.035260\n",
       "max       1.000000"
      ]
     },
     "execution_count": 90,
     "metadata": {},
     "output_type": "execute_result"
    }
   ],
   "source": [
    "pd.DataFrame(y_val_prob1).describe()"
   ]
  },
  {
   "cell_type": "code",
   "execution_count": 105,
   "metadata": {},
   "outputs": [
    {
     "name": "stdout",
     "output_type": "stream",
     "text": [
      "Adjusted Accuracy: 0.9403597966366836\n",
      "Adjusted Precision: 0.5692307692307692\n",
      "Adjusted Recall: 0.6183844011142061\n",
      "Adjusted F1 Score: 0.5927903871829105\n",
      "\n",
      "\n"
     ]
    },
    {
     "data": {
      "image/png": "[encoded data removed]",
      "text/plain": [
       "<Figure size 432x288 with 1 Axes>"
      ]
     },
     "metadata": {
      "needs_background": "light"
     },
     "output_type": "display_data"
    }
   ],
   "source": [
    "adj_y_val1, cm1 = adjust_threshold_and_score(y_val, y_val_prob1, .2, RNN = True)"
   ]
  },
  {
   "cell_type": "markdown",
   "metadata": {},
   "source": [
    "### RNN 2 - class weights "
   ]
  },
  {
   "cell_type": "code",
   "execution_count": 106,
   "metadata": {},
   "outputs": [
    {
     "name": "stdout",
     "output_type": "stream",
     "text": [
      "_________________________________________________________________\n",
      "Layer (type)                 Output Shape              Param #   \n",
      "=================================================================\n",
      "embedding_7 (Embedding)      (None, 39, 300)           11338500  \n",
      "_________________________________________________________________\n",
      "lstm_13 (LSTM)               (None, 39, 64)            93440     \n",
      "_________________________________________________________________\n",
      "batch_normalization_12 (Batc (None, 39, 64)            256       \n",
      "_________________________________________________________________\n",
      "lstm_14 (LSTM)               (None, 64)                33024     \n",
      "_________________________________________________________________\n",
      "batch_normalization_13 (Batc (None, 64)                256       \n",
      "_________________________________________________________________\n",
      "dense_6 (Dense)              (None, 1)                 65        \n",
      "=================================================================\n",
      "Total params: 11,465,541\n",
      "Trainable params: 126,785\n",
      "Non-trainable params: 11,338,756\n",
      "_________________________________________________________________\n",
      "None\n"
     ]
    }
   ],
   "source": [
    "model2 = Sequential()\n",
    "\n",
    "# filepath = 'results/RNN/weights_model2.best.hdf5'\n",
    "\n",
    "callbacks = [EarlyStopping(monitor='val_loss', patience = 10), \n",
    "             ReduceLROnPlateau(monitor='val_loss', patience = 10)]\n",
    "#              ModelCheckpoint(filepath, save_best_only = True, save_weights_only = True)]\n",
    "\n",
    "model2.add(Embedding(num_words, 300, weights=[embedding_matrix300], input_length= 39, trainable=False))\n",
    "\n",
    "model2.add(LSTM(64, activation='relu', return_sequences=True))\n",
    "model2.add(BatchNormalization())\n",
    "\n",
    "model2.add(LSTM(64, activation='relu'))\n",
    "model2.add(BatchNormalization())\n",
    "\n",
    "model2.add(Dense(1, activation='sigmoid'))\n",
    "\n",
    "model2.compile(loss='binary_crossentropy', optimizer = rmsprop(lr=.00001), metrics=['accuracy']) #optimizer=Adam\n",
    "\n",
    "print(model2.summary())"
   ]
  },
  {
   "cell_type": "code",
   "execution_count": 107,
   "metadata": {},
   "outputs": [
    {
     "name": "stdout",
     "output_type": "stream",
     "text": [
      "Train on 20455 samples, validate on 5114 samples\n",
      "Epoch 1/200\n",
      "20455/20455 [==============================] - 146s 7ms/step - loss: 1.1246 - acc: 0.3884 - val_loss: 0.6577 - val_acc: 0.7898\n",
      "Epoch 2/200\n",
      "20455/20455 [==============================] - 130s 6ms/step - loss: 1.0781 - acc: 0.4903 - val_loss: 0.6467 - val_acc: 0.8095\n",
      "Epoch 3/200\n",
      "20455/20455 [==============================] - 124s 6ms/step - loss: 1.0229 - acc: 0.5384 - val_loss: 0.6843 - val_acc: 0.4896\n",
      "Epoch 4/200\n",
      "20455/20455 [==============================] - 129s 6ms/step - loss: 0.9493 - acc: 0.5814 - val_loss: 0.6549 - val_acc: 0.6758\n",
      "Epoch 5/200\n",
      "20455/20455 [==============================] - 139s 7ms/step - loss: 0.8808 - acc: 0.6352 - val_loss: 0.6137 - val_acc: 0.7268\n",
      "Epoch 6/200\n",
      "20455/20455 [==============================] - 141s 7ms/step - loss: 0.8404 - acc: 0.6704 - val_loss: 0.5520 - val_acc: 0.7669\n",
      "Epoch 7/200\n",
      "20455/20455 [==============================] - 128s 6ms/step - loss: 0.8093 - acc: 0.7132 - val_loss: 0.5778 - val_acc: 0.7544\n",
      "Epoch 8/200\n",
      "20455/20455 [==============================] - 125s 6ms/step - loss: 0.7867 - acc: 0.7324 - val_loss: 0.5601 - val_acc: 0.7734\n",
      "Epoch 9/200\n",
      "20455/20455 [==============================] - 141s 7ms/step - loss: 0.7679 - acc: 0.7516 - val_loss: 0.5520 - val_acc: 0.7869\n",
      "Epoch 10/200\n",
      "20455/20455 [==============================] - 137s 7ms/step - loss: 0.7521 - acc: 0.7689 - val_loss: 0.5061 - val_acc: 0.8246\n",
      "Epoch 11/200\n",
      "20455/20455 [==============================] - 142s 7ms/step - loss: 0.7367 - acc: 0.7794 - val_loss: 0.5440 - val_acc: 0.7908\n",
      "Epoch 12/200\n",
      "20455/20455 [==============================] - 140s 7ms/step - loss: 0.7189 - acc: 0.7902 - val_loss: 0.5147 - val_acc: 0.8142\n",
      "Epoch 13/200\n",
      "20455/20455 [==============================] - 142s 7ms/step - loss: 0.7122 - acc: 0.7955 - val_loss: 0.4958 - val_acc: 0.8305\n",
      "Epoch 14/200\n",
      "20455/20455 [==============================] - 134s 7ms/step - loss: 0.6904 - acc: 0.8012 - val_loss: 0.5053 - val_acc: 0.8203\n",
      "Epoch 15/200\n",
      "20455/20455 [==============================] - 136s 7ms/step - loss: 0.6829 - acc: 0.8090 - val_loss: 0.4614 - val_acc: 0.8449\n",
      "Epoch 16/200\n",
      "20455/20455 [==============================] - 136s 7ms/step - loss: 0.6726 - acc: 0.8167 - val_loss: 0.4817 - val_acc: 0.8350\n",
      "Epoch 17/200\n",
      "20455/20455 [==============================] - 138s 7ms/step - loss: 0.6623 - acc: 0.8210 - val_loss: 0.4324 - val_acc: 0.8586\n",
      "Epoch 18/200\n",
      "20455/20455 [==============================] - 136s 7ms/step - loss: 0.6477 - acc: 0.8308 - val_loss: 0.4590 - val_acc: 0.8400\n",
      "Epoch 19/200\n",
      "20455/20455 [==============================] - 136s 7ms/step - loss: 0.6417 - acc: 0.8317 - val_loss: 0.4402 - val_acc: 0.8553\n",
      "Epoch 20/200\n",
      "20455/20455 [==============================] - 136s 7ms/step - loss: 0.6320 - acc: 0.8361 - val_loss: 0.4334 - val_acc: 0.8530\n",
      "Epoch 21/200\n",
      "20455/20455 [==============================] - 137s 7ms/step - loss: 0.6219 - acc: 0.8396 - val_loss: 0.4171 - val_acc: 0.8614\n",
      "Epoch 22/200\n",
      "20455/20455 [==============================] - 136s 7ms/step - loss: 0.6171 - acc: 0.8467 - val_loss: 0.4136 - val_acc: 0.8592\n",
      "Epoch 23/200\n",
      "20455/20455 [==============================] - 137s 7ms/step - loss: 0.6055 - acc: 0.8513 - val_loss: 0.3906 - val_acc: 0.8715\n",
      "Epoch 24/200\n",
      "20455/20455 [==============================] - 137s 7ms/step - loss: 0.5968 - acc: 0.8540 - val_loss: 0.3994 - val_acc: 0.8651\n",
      "Epoch 25/200\n",
      "20455/20455 [==============================] - 136s 7ms/step - loss: 0.5905 - acc: 0.8541 - val_loss: 0.3878 - val_acc: 0.8690\n",
      "Epoch 26/200\n",
      "20455/20455 [==============================] - 137s 7ms/step - loss: 0.5846 - acc: 0.8559 - val_loss: 0.3802 - val_acc: 0.8649\n",
      "Epoch 27/200\n",
      "20455/20455 [==============================] - 137s 7ms/step - loss: 0.5756 - acc: 0.8560 - val_loss: 0.3906 - val_acc: 0.8690\n",
      "Epoch 28/200\n",
      "20455/20455 [==============================] - 136s 7ms/step - loss: 0.5705 - acc: 0.8626 - val_loss: 0.3883 - val_acc: 0.8694\n",
      "Epoch 29/200\n",
      "20455/20455 [==============================] - 136s 7ms/step - loss: 0.5635 - acc: 0.8641 - val_loss: 0.3802 - val_acc: 0.8704\n",
      "Epoch 30/200\n",
      "20455/20455 [==============================] - 117s 6ms/step - loss: 0.5595 - acc: 0.8689 - val_loss: 0.3736 - val_acc: 0.8707\n",
      "Epoch 31/200\n",
      "20455/20455 [==============================] - 117s 6ms/step - loss: 0.5491 - acc: 0.8655 - val_loss: 0.3771 - val_acc: 0.8721\n",
      "Epoch 32/200\n",
      "20455/20455 [==============================] - 117s 6ms/step - loss: 0.5449 - acc: 0.8712 - val_loss: 0.3458 - val_acc: 0.8778\n",
      "Epoch 33/200\n",
      "20455/20455 [==============================] - 117s 6ms/step - loss: 0.5398 - acc: 0.8740 - val_loss: 0.3412 - val_acc: 0.8811\n",
      "Epoch 34/200\n",
      "20455/20455 [==============================] - 116s 6ms/step - loss: 0.5333 - acc: 0.8753 - val_loss: 0.3589 - val_acc: 0.8737\n",
      "Epoch 35/200\n",
      "20455/20455 [==============================] - 117s 6ms/step - loss: 0.5239 - acc: 0.8754 - val_loss: 0.3138 - val_acc: 0.8944\n",
      "Epoch 36/200\n",
      "20455/20455 [==============================] - 117s 6ms/step - loss: 0.5280 - acc: 0.8795 - val_loss: 0.3341 - val_acc: 0.8801\n",
      "Epoch 37/200\n",
      "20455/20455 [==============================] - 118s 6ms/step - loss: 0.5155 - acc: 0.8769 - val_loss: 0.3050 - val_acc: 0.8948\n",
      "Epoch 38/200\n",
      "20455/20455 [==============================] - 115s 6ms/step - loss: 0.5164 - acc: 0.8772 - val_loss: 0.3177 - val_acc: 0.8889\n",
      "Epoch 39/200\n",
      "20455/20455 [==============================] - 116s 6ms/step - loss: 0.5113 - acc: 0.8814 - val_loss: 0.3325 - val_acc: 0.8842\n",
      "Epoch 40/200\n",
      "20455/20455 [==============================] - 126s 6ms/step - loss: 0.5138 - acc: 0.8786 - val_loss: 0.3084 - val_acc: 0.8895\n",
      "Epoch 41/200\n",
      "20455/20455 [==============================] - 140s 7ms/step - loss: 0.5044 - acc: 0.8816 - val_loss: 0.3256 - val_acc: 0.8858\n",
      "Epoch 42/200\n",
      "20455/20455 [==============================] - 139s 7ms/step - loss: 0.4986 - acc: 0.8851 - val_loss: 0.3073 - val_acc: 0.8913\n",
      "Epoch 43/200\n",
      "20455/20455 [==============================] - 169s 8ms/step - loss: 0.4965 - acc: 0.8845 - val_loss: 0.3034 - val_acc: 0.8915\n",
      "Epoch 44/200\n",
      "20455/20455 [==============================] - 168s 8ms/step - loss: 0.4922 - acc: 0.8851 - val_loss: 0.3104 - val_acc: 0.8878\n",
      "Epoch 45/200\n",
      "20455/20455 [==============================] - 163s 8ms/step - loss: 0.4893 - acc: 0.8857 - val_loss: 0.2967 - val_acc: 0.8950\n",
      "Epoch 46/200\n",
      "20455/20455 [==============================] - 144s 7ms/step - loss: 0.4880 - acc: 0.8883 - val_loss: 0.3043 - val_acc: 0.8885\n",
      "Epoch 47/200\n",
      "20455/20455 [==============================] - 170s 8ms/step - loss: 0.4777 - acc: 0.8868 - val_loss: 0.3016 - val_acc: 0.8909\n",
      "Epoch 48/200\n",
      "20455/20455 [==============================] - 158s 8ms/step - loss: 0.4814 - acc: 0.8896 - val_loss: 0.2763 - val_acc: 0.9016\n",
      "Epoch 49/200\n",
      "20455/20455 [==============================] - 173s 8ms/step - loss: 0.4754 - acc: 0.8913 - val_loss: 0.2826 - val_acc: 0.8973\n",
      "Epoch 50/200\n",
      "20455/20455 [==============================] - 159s 8ms/step - loss: 0.4703 - acc: 0.8926 - val_loss: 0.2854 - val_acc: 0.9005\n",
      "Epoch 51/200\n",
      "20455/20455 [==============================] - 131s 6ms/step - loss: 0.4664 - acc: 0.8931 - val_loss: 0.2801 - val_acc: 0.9011\n",
      "Epoch 52/200\n",
      "20455/20455 [==============================] - 125s 6ms/step - loss: 0.4651 - acc: 0.8954 - val_loss: 0.2968 - val_acc: 0.8909\n",
      "Epoch 53/200\n",
      "20455/20455 [==============================] - 142s 7ms/step - loss: 0.4612 - acc: 0.8949 - val_loss: 0.2641 - val_acc: 0.9095\n",
      "Epoch 54/200\n",
      "20455/20455 [==============================] - 150s 7ms/step - loss: 0.4552 - acc: 0.8968 - val_loss: 0.2597 - val_acc: 0.9095\n",
      "Epoch 55/200\n",
      "20455/20455 [==============================] - 148s 7ms/step - loss: 0.4568 - acc: 0.8962 - val_loss: 0.2636 - val_acc: 0.9063\n",
      "Epoch 56/200\n",
      "20455/20455 [==============================] - 153s 7ms/step - loss: 0.4531 - acc: 0.8972 - val_loss: 0.2655 - val_acc: 0.9040\n",
      "Epoch 57/200\n",
      "20455/20455 [==============================] - 149s 7ms/step - loss: 0.4594 - acc: 0.8980 - val_loss: 0.2863 - val_acc: 0.8968\n",
      "Epoch 58/200\n",
      "20455/20455 [==============================] - 144s 7ms/step - loss: 0.4502 - acc: 0.8997 - val_loss: 0.2843 - val_acc: 0.8944\n",
      "Epoch 59/200\n",
      "20455/20455 [==============================] - 138s 7ms/step - loss: 0.4492 - acc: 0.9003 - val_loss: 0.2784 - val_acc: 0.8977\n",
      "Epoch 60/200\n",
      "20455/20455 [==============================] - 170s 8ms/step - loss: 0.4399 - acc: 0.9004 - val_loss: 0.2887 - val_acc: 0.9003\n",
      "Epoch 61/200\n",
      "20455/20455 [==============================] - 165s 8ms/step - loss: 0.4393 - acc: 0.9011 - val_loss: 0.2553 - val_acc: 0.9079\n",
      "Epoch 62/200\n",
      "20455/20455 [==============================] - 160s 8ms/step - loss: 0.4359 - acc: 0.9016 - val_loss: 0.2510 - val_acc: 0.9089\n",
      "Epoch 63/200\n",
      "20455/20455 [==============================] - 141s 7ms/step - loss: 0.4372 - acc: 0.9023 - val_loss: 0.2600 - val_acc: 0.9056\n",
      "Epoch 64/200\n",
      "20455/20455 [==============================] - 118s 6ms/step - loss: 0.4289 - acc: 0.9016 - val_loss: 0.2769 - val_acc: 0.8954\n",
      "Epoch 65/200\n",
      "20455/20455 [==============================] - 124s 6ms/step - loss: 0.4317 - acc: 0.9023 - val_loss: 0.2980 - val_acc: 0.8919\n",
      "Epoch 66/200\n",
      "20455/20455 [==============================] - 126s 6ms/step - loss: 0.4249 - acc: 0.9046 - val_loss: 0.2592 - val_acc: 0.9046\n",
      "Epoch 67/200\n",
      "20455/20455 [==============================] - 118s 6ms/step - loss: 0.4337 - acc: 0.9025 - val_loss: 0.2596 - val_acc: 0.9057\n",
      "Epoch 68/200\n",
      "20455/20455 [==============================] - 119s 6ms/step - loss: 0.4175 - acc: 0.9052 - val_loss: 0.2745 - val_acc: 0.9034\n",
      "Epoch 69/200\n",
      "20455/20455 [==============================] - 119s 6ms/step - loss: 0.4195 - acc: 0.9069 - val_loss: 0.2829 - val_acc: 0.8956\n",
      "Epoch 70/200\n",
      "20455/20455 [==============================] - 120s 6ms/step - loss: 0.4203 - acc: 0.9037 - val_loss: 0.2469 - val_acc: 0.9081\n",
      "Epoch 71/200\n",
      "20455/20455 [==============================] - 118s 6ms/step - loss: 0.4162 - acc: 0.9066 - val_loss: 0.2622 - val_acc: 0.9018\n",
      "Epoch 72/200\n",
      "20455/20455 [==============================] - 119s 6ms/step - loss: 0.4094 - acc: 0.9073 - val_loss: 0.2249 - val_acc: 0.9228\n",
      "Epoch 73/200\n",
      "20455/20455 [==============================] - 119s 6ms/step - loss: 0.4084 - acc: 0.9104 - val_loss: 0.2575 - val_acc: 0.9034\n",
      "Epoch 74/200\n",
      "20455/20455 [==============================] - 118s 6ms/step - loss: 0.4065 - acc: 0.9104 - val_loss: 0.2569 - val_acc: 0.9071\n",
      "Epoch 75/200\n",
      "20455/20455 [==============================] - 132s 6ms/step - loss: 0.4067 - acc: 0.9079 - val_loss: 0.2426 - val_acc: 0.9130\n",
      "Epoch 76/200\n",
      "20455/20455 [==============================] - 129s 6ms/step - loss: 0.4069 - acc: 0.9072 - val_loss: 0.2600 - val_acc: 0.9016\n",
      "Epoch 77/200\n",
      "20455/20455 [==============================] - 128s 6ms/step - loss: 0.3989 - acc: 0.9085 - val_loss: 0.2413 - val_acc: 0.9136\n",
      "Epoch 78/200\n",
      "20455/20455 [==============================] - 135s 7ms/step - loss: 0.3982 - acc: 0.9117 - val_loss: 0.2905 - val_acc: 0.8911\n",
      "Epoch 79/200\n",
      "20455/20455 [==============================] - 175s 9ms/step - loss: 0.3984 - acc: 0.9106 - val_loss: 0.2567 - val_acc: 0.9034\n",
      "Epoch 80/200\n",
      "20455/20455 [==============================] - 139s 7ms/step - loss: 0.3907 - acc: 0.9112 - val_loss: 0.2849 - val_acc: 0.8946\n",
      "Epoch 81/200\n",
      "20455/20455 [==============================] - 140s 7ms/step - loss: 0.3930 - acc: 0.9097 - val_loss: 0.2597 - val_acc: 0.9034\n",
      "Epoch 82/200\n",
      "20455/20455 [==============================] - 140s 7ms/step - loss: 0.3913 - acc: 0.9125 - val_loss: 0.2417 - val_acc: 0.9114\n"
     ]
    }
   ],
   "source": [
    "history = model2.fit(X_train, \n",
    "                    y_train,\n",
    "                    epochs=200,\n",
    "                    batch_size=50,\n",
    "                    callbacks=callbacks,\n",
    "                    class_weight=[{0:1,1:10}],\n",
    "                    validation_data=(X_val, y_val))"
   ]
  },
  {
   "cell_type": "code",
   "execution_count": 138,
   "metadata": {
    "scrolled": true
   },
   "outputs": [],
   "source": [
    "model2.save('results/RNN/models/model2.h5', overwrite = True)\n",
    "model2.save_weights('results/RNN//models/model2.weights.h5', overwrite = True)\n",
    "# model2 = load_model('results/RNN/model2.h5')"
   ]
  },
  {
   "cell_type": "code",
   "execution_count": 109,
   "metadata": {},
   "outputs": [
    {
     "data": {
      "image/png": "[encoded data removed]",
      "text/plain": [
       "<Figure size 720x288 with 2 Axes>"
      ]
     },
     "metadata": {
      "needs_background": "light"
     },
     "output_type": "display_data"
    }
   ],
   "source": [
    "plot_accuracy_loss('Model 2', model2, (0, 1), (0,1))"
   ]
  },
  {
   "cell_type": "code",
   "execution_count": 110,
   "metadata": {},
   "outputs": [],
   "source": [
    "y_train_pred2 = model2.predict_classes(X_train, batch_size = 20455)\n",
    "y_val_pred2 = model2.predict_classes(X_val, batch_size= 5114)\n",
    "y_train_prob2 = model2.predict_proba(X_train, batch_size= 20455)\n",
    "y_val_prob2 = model2.predict_proba(X_val, batch_size = 5114)"
   ]
  },
  {
   "cell_type": "code",
   "execution_count": 112,
   "metadata": {},
   "outputs": [
    {
     "data": {
      "text/plain": [
       "{'Train Accuracy': 0.94,\n",
       " 'Train Precision': 0.53,\n",
       " 'Train Recall': 0.87,\n",
       " 'Train F1': 0.65,\n",
       " 'Validation Accuracy': 0.91,\n",
       " 'Validation Precision': 0.42,\n",
       " 'Validation Recall': 0.7,\n",
       " 'Validation F1': 0.53}"
      ]
     },
     "execution_count": 112,
     "metadata": {},
     "output_type": "execute_result"
    }
   ],
   "source": [
    "compare_classification_metrics(y_train, y_train_pred2, y_val, y_val_pred2)"
   ]
  },
  {
   "cell_type": "code",
   "execution_count": 114,
   "metadata": {},
   "outputs": [
    {
     "data": {
      "image/png": "[encoded data removed]",
      "text/plain": [
       "<Figure size 432x288 with 1 Axes>"
      ]
     },
     "metadata": {
      "needs_background": "light"
     },
     "output_type": "display_data"
    }
   ],
   "source": [
    "seaborn_confusion_matrix(y_train, y_train_pred2)"
   ]
  },
  {
   "cell_type": "code",
   "execution_count": 115,
   "metadata": {},
   "outputs": [
    {
     "data": {
      "text/html": [
       "<div>\n",
       "<style scoped>\n",
       "    .dataframe tbody tr th:only-of-type {\n",
       "        vertical-align: middle;\n",
       "    }\n",
       "\n",
       "    .dataframe tbody tr th {\n",
       "        vertical-align: top;\n",
       "    }\n",
       "\n",
       "    .dataframe thead th {\n",
       "        text-align: right;\n",
       "    }\n",
       "</style>\n",
       "<table border=\"1\" class=\"dataframe\">\n",
       "  <thead>\n",
       "    <tr style=\"text-align: right;\">\n",
       "      <th></th>\n",
       "      <th>0</th>\n",
       "    </tr>\n",
       "  </thead>\n",
       "  <tbody>\n",
       "    <tr>\n",
       "      <th>count</th>\n",
       "      <td>20455.000000</td>\n",
       "    </tr>\n",
       "    <tr>\n",
       "      <th>mean</th>\n",
       "      <td>0.169647</td>\n",
       "    </tr>\n",
       "    <tr>\n",
       "      <th>std</th>\n",
       "      <td>0.245092</td>\n",
       "    </tr>\n",
       "    <tr>\n",
       "      <th>min</th>\n",
       "      <td>0.000000</td>\n",
       "    </tr>\n",
       "    <tr>\n",
       "      <th>25%</th>\n",
       "      <td>0.039388</td>\n",
       "    </tr>\n",
       "    <tr>\n",
       "      <th>50%</th>\n",
       "      <td>0.057638</td>\n",
       "    </tr>\n",
       "    <tr>\n",
       "      <th>75%</th>\n",
       "      <td>0.145868</td>\n",
       "    </tr>\n",
       "    <tr>\n",
       "      <th>max</th>\n",
       "      <td>1.000000</td>\n",
       "    </tr>\n",
       "  </tbody>\n",
       "</table>\n",
       "</div>"
      ],
      "text/plain": [
       "                  0\n",
       "count  20455.000000\n",
       "mean       0.169647\n",
       "std        0.245092\n",
       "min        0.000000\n",
       "25%        0.039388\n",
       "50%        0.057638\n",
       "75%        0.145868\n",
       "max        1.000000"
      ]
     },
     "execution_count": 115,
     "metadata": {},
     "output_type": "execute_result"
    }
   ],
   "source": [
    "pd.DataFrame(y_train_prob2).describe()"
   ]
  },
  {
   "cell_type": "code",
   "execution_count": 116,
   "metadata": {},
   "outputs": [
    {
     "data": {
      "image/png": "[encoded data removed]",
      "text/plain": [
       "<Figure size 432x288 with 1 Axes>"
      ]
     },
     "metadata": {
      "needs_background": "light"
     },
     "output_type": "display_data"
    }
   ],
   "source": [
    "seaborn_confusion_matrix(y_val, y_val_pred2)"
   ]
  },
  {
   "cell_type": "code",
   "execution_count": 117,
   "metadata": {},
   "outputs": [
    {
     "name": "stdout",
     "output_type": "stream",
     "text": [
      "Adjusted Accuracy: 0.943097379741885\n",
      "Adjusted Precision: 0.6036585365853658\n",
      "Adjusted Recall: 0.5515320334261838\n",
      "Adjusted F1 Score: 0.5764192139737991\n",
      "\n",
      "\n"
     ]
    },
    {
     "data": {
      "image/png": "[encoded data removed]",
      "text/plain": [
       "<Figure size 432x288 with 1 Axes>"
      ]
     },
     "metadata": {
      "needs_background": "light"
     },
     "output_type": "display_data"
    }
   ],
   "source": [
    "adj_y_val2, cm2 = adjust_threshold_and_score(y_val, y_val_prob2, .8, RNN = True)"
   ]
  },
  {
   "cell_type": "markdown",
   "metadata": {},
   "source": [
    "## RNN 2b - class weights with larger batch size (100)"
   ]
  },
  {
   "cell_type": "code",
   "execution_count": 120,
   "metadata": {},
   "outputs": [
    {
     "name": "stdout",
     "output_type": "stream",
     "text": [
      "_________________________________________________________________\n",
      "Layer (type)                 Output Shape              Param #   \n",
      "=================================================================\n",
      "embedding_8 (Embedding)      (None, 39, 300)           11338500  \n",
      "_________________________________________________________________\n",
      "lstm_15 (LSTM)               (None, 39, 64)            93440     \n",
      "_________________________________________________________________\n",
      "batch_normalization_14 (Batc (None, 39, 64)            256       \n",
      "_________________________________________________________________\n",
      "lstm_16 (LSTM)               (None, 64)                33024     \n",
      "_________________________________________________________________\n",
      "batch_normalization_15 (Batc (None, 64)                256       \n",
      "_________________________________________________________________\n",
      "dense_7 (Dense)              (None, 1)                 65        \n",
      "=================================================================\n",
      "Total params: 11,465,541\n",
      "Trainable params: 126,785\n",
      "Non-trainable params: 11,338,756\n",
      "_________________________________________________________________\n",
      "None\n"
     ]
    }
   ],
   "source": [
    "model2b = Sequential()\n",
    "\n",
    "# filepath = 'results/RNN/weights_model2b.best.hdf5'\n",
    "\n",
    "callbacks = [EarlyStopping(monitor='val_loss', patience = 15), \n",
    "             ReduceLROnPlateau(monitor='val_loss', patience = 15)]\n",
    "#              ModelCheckpoint(filepath, save_best_only = True, save_weights_only = True)]\n",
    "\n",
    "model2b.add(Embedding(num_words, 300, weights=[embedding_matrix300], input_length= 39, trainable=False))\n",
    "\n",
    "model2b.add(LSTM(64, activation='relu', return_sequences=True))\n",
    "model2b.add(BatchNormalization())\n",
    "\n",
    "model2b.add(LSTM(64, activation='relu'))\n",
    "model2b.add(BatchNormalization())\n",
    "\n",
    "model2b.add(Dense(1, activation='sigmoid'))\n",
    "\n",
    "model2b.compile(loss='binary_crossentropy', optimizer = rmsprop(lr=.000001), metrics=['accuracy']) #optimizer=Adam\n",
    "\n",
    "print(model2b.summary())"
   ]
  },
  {
   "cell_type": "code",
   "execution_count": 121,
   "metadata": {},
   "outputs": [
    {
     "name": "stdout",
     "output_type": "stream",
     "text": [
      "Train on 20455 samples, validate on 5114 samples\n",
      "Epoch 1/200\n",
      "20455/20455 [==============================] - 112s 5ms/step - loss: 1.3424 - acc: 0.4873 - val_loss: 0.7417 - val_acc: 0.1406\n",
      "Epoch 2/200\n",
      "20455/20455 [==============================] - 93s 5ms/step - loss: 1.2722 - acc: 0.5322 - val_loss: 0.7426 - val_acc: 0.1343\n",
      "Epoch 3/200\n",
      "20455/20455 [==============================] - 86s 4ms/step - loss: 1.2321 - acc: 0.5446 - val_loss: 0.7261 - val_acc: 0.1592\n",
      "Epoch 4/200\n",
      "20455/20455 [==============================] - 89s 4ms/step - loss: 1.1872 - acc: 0.5550 - val_loss: 0.7281 - val_acc: 0.1570\n",
      "Epoch 5/200\n",
      "20455/20455 [==============================] - 98s 5ms/step - loss: 1.1565 - acc: 0.5589 - val_loss: 0.7324 - val_acc: 0.1641\n",
      "Epoch 6/200\n",
      "20455/20455 [==============================] - 81s 4ms/step - loss: 1.1443 - acc: 0.5552 - val_loss: 0.7426 - val_acc: 0.1662\n",
      "Epoch 7/200\n",
      "20455/20455 [==============================] - 86s 4ms/step - loss: 1.1286 - acc: 0.5389 - val_loss: 0.7411 - val_acc: 0.1703\n",
      "Epoch 8/200\n",
      "20455/20455 [==============================] - 77s 4ms/step - loss: 1.1340 - acc: 0.4905 - val_loss: 0.7378 - val_acc: 0.1897\n",
      "Epoch 9/200\n",
      "20455/20455 [==============================] - 75s 4ms/step - loss: 1.1329 - acc: 0.4780 - val_loss: 0.7299 - val_acc: 0.2135\n",
      "Epoch 10/200\n",
      "20455/20455 [==============================] - 82s 4ms/step - loss: 1.1258 - acc: 0.4693 - val_loss: 0.7347 - val_acc: 0.2071\n",
      "Epoch 11/200\n",
      "20455/20455 [==============================] - 81s 4ms/step - loss: 1.1194 - acc: 0.4765 - val_loss: 0.7352 - val_acc: 0.2094\n",
      "Epoch 12/200\n",
      "20455/20455 [==============================] - 75s 4ms/step - loss: 1.1238 - acc: 0.4626 - val_loss: 0.7327 - val_acc: 0.2227\n",
      "Epoch 13/200\n",
      "20455/20455 [==============================] - 75s 4ms/step - loss: 1.1226 - acc: 0.4988 - val_loss: 0.7309 - val_acc: 0.2153\n",
      "Epoch 14/200\n",
      "20455/20455 [==============================] - 75s 4ms/step - loss: 1.1087 - acc: 0.5105 - val_loss: 0.7253 - val_acc: 0.2305\n",
      "Epoch 15/200\n",
      "20455/20455 [==============================] - 75s 4ms/step - loss: 1.1122 - acc: 0.4772 - val_loss: 0.7252 - val_acc: 0.2446\n",
      "Epoch 16/200\n",
      "20455/20455 [==============================] - 75s 4ms/step - loss: 1.1076 - acc: 0.4793 - val_loss: 0.7239 - val_acc: 0.2499\n",
      "Epoch 17/200\n",
      "20455/20455 [==============================] - 75s 4ms/step - loss: 1.1024 - acc: 0.4946 - val_loss: 0.7243 - val_acc: 0.2501\n",
      "Epoch 18/200\n",
      "20455/20455 [==============================] - 75s 4ms/step - loss: 1.1015 - acc: 0.5059 - val_loss: 0.7240 - val_acc: 0.2522\n",
      "Epoch 19/200\n",
      "20455/20455 [==============================] - 79s 4ms/step - loss: 1.0981 - acc: 0.5036 - val_loss: 0.7170 - val_acc: 0.2775\n",
      "Epoch 20/200\n",
      "20455/20455 [==============================] - 85s 4ms/step - loss: 1.1028 - acc: 0.5390 - val_loss: 0.7146 - val_acc: 0.2986\n",
      "Epoch 21/200\n",
      "20455/20455 [==============================] - 83s 4ms/step - loss: 1.0908 - acc: 0.5289 - val_loss: 0.7111 - val_acc: 0.2972\n",
      "Epoch 22/200\n",
      "20455/20455 [==============================] - 76s 4ms/step - loss: 1.0840 - acc: 0.5293 - val_loss: 0.7045 - val_acc: 0.3181\n",
      "Epoch 23/200\n",
      "20455/20455 [==============================] - 86s 4ms/step - loss: 1.0778 - acc: 0.5516 - val_loss: 0.6992 - val_acc: 0.3498\n",
      "Epoch 24/200\n",
      "20455/20455 [==============================] - 90s 4ms/step - loss: 1.0782 - acc: 0.5671 - val_loss: 0.6994 - val_acc: 0.3717\n",
      "Epoch 25/200\n",
      "20455/20455 [==============================] - 90s 4ms/step - loss: 1.0728 - acc: 0.5755 - val_loss: 0.6930 - val_acc: 0.4005\n",
      "Epoch 26/200\n",
      "20455/20455 [==============================] - 96s 5ms/step - loss: 1.0695 - acc: 0.5813 - val_loss: 0.6963 - val_acc: 0.3897\n",
      "Epoch 27/200\n",
      "20455/20455 [==============================] - 79s 4ms/step - loss: 1.0662 - acc: 0.5769 - val_loss: 0.6904 - val_acc: 0.4108\n",
      "Epoch 28/200\n",
      "20455/20455 [==============================] - 94s 5ms/step - loss: 1.0536 - acc: 0.5958 - val_loss: 0.6917 - val_acc: 0.4022\n",
      "Epoch 29/200\n",
      "20455/20455 [==============================] - 83s 4ms/step - loss: 1.0538 - acc: 0.6214 - val_loss: 0.6940 - val_acc: 0.4052\n",
      "Epoch 30/200\n",
      "20455/20455 [==============================] - 75s 4ms/step - loss: 1.0478 - acc: 0.6208 - val_loss: 0.6952 - val_acc: 0.4085\n",
      "Epoch 31/200\n",
      "20455/20455 [==============================] - 79s 4ms/step - loss: 1.0432 - acc: 0.6294 - val_loss: 0.6963 - val_acc: 0.4011\n",
      "Epoch 32/200\n",
      "20455/20455 [==============================] - 80s 4ms/step - loss: 1.0410 - acc: 0.6041 - val_loss: 0.6838 - val_acc: 0.4478\n",
      "Epoch 33/200\n",
      "20455/20455 [==============================] - 76s 4ms/step - loss: 1.0323 - acc: 0.6251 - val_loss: 0.6811 - val_acc: 0.4503\n",
      "Epoch 34/200\n",
      "20455/20455 [==============================] - 77s 4ms/step - loss: 1.0257 - acc: 0.6185 - val_loss: 0.6888 - val_acc: 0.4308\n",
      "Epoch 35/200\n",
      "20455/20455 [==============================] - 78s 4ms/step - loss: 1.0197 - acc: 0.6077 - val_loss: 0.6758 - val_acc: 0.4722\n",
      "Epoch 36/200\n",
      "20455/20455 [==============================] - 81s 4ms/step - loss: 1.0167 - acc: 0.6168 - val_loss: 0.6843 - val_acc: 0.4501\n",
      "Epoch 37/200\n",
      "20455/20455 [==============================] - 79s 4ms/step - loss: 1.0108 - acc: 0.6109 - val_loss: 0.6828 - val_acc: 0.4435\n",
      "Epoch 38/200\n",
      "20455/20455 [==============================] - 81s 4ms/step - loss: 1.0047 - acc: 0.6203 - val_loss: 0.6692 - val_acc: 0.4967\n",
      "Epoch 39/200\n",
      "20455/20455 [==============================] - 76s 4ms/step - loss: 0.9986 - acc: 0.6189 - val_loss: 0.6703 - val_acc: 0.5027\n",
      "Epoch 40/200\n",
      "20455/20455 [==============================] - 74s 4ms/step - loss: 0.9927 - acc: 0.6202 - val_loss: 0.6761 - val_acc: 0.5037\n",
      "Epoch 41/200\n",
      "20455/20455 [==============================] - 74s 4ms/step - loss: 0.9880 - acc: 0.6184 - val_loss: 0.6669 - val_acc: 0.5123\n",
      "Epoch 42/200\n",
      "20455/20455 [==============================] - 74s 4ms/step - loss: 0.9828 - acc: 0.6198 - val_loss: 0.6670 - val_acc: 0.5237\n",
      "Epoch 43/200\n",
      "20455/20455 [==============================] - 75s 4ms/step - loss: 0.9782 - acc: 0.6087 - val_loss: 0.6741 - val_acc: 0.4842\n",
      "Epoch 44/200\n",
      "20455/20455 [==============================] - 75s 4ms/step - loss: 0.9734 - acc: 0.6081 - val_loss: 0.6733 - val_acc: 0.4879\n",
      "Epoch 45/200\n",
      "20455/20455 [==============================] - 75s 4ms/step - loss: 0.9642 - acc: 0.6093 - val_loss: 0.6680 - val_acc: 0.5184\n",
      "Epoch 46/200\n",
      "20455/20455 [==============================] - 75s 4ms/step - loss: 0.9601 - acc: 0.6033 - val_loss: 0.6660 - val_acc: 0.5389\n",
      "Epoch 47/200\n",
      "20455/20455 [==============================] - 74s 4ms/step - loss: 0.9555 - acc: 0.6082 - val_loss: 0.6658 - val_acc: 0.5405\n",
      "Epoch 48/200\n",
      "20455/20455 [==============================] - 75s 4ms/step - loss: 0.9510 - acc: 0.6076 - val_loss: 0.6587 - val_acc: 0.5704\n",
      "Epoch 49/200\n",
      "20455/20455 [==============================] - 76s 4ms/step - loss: 0.9468 - acc: 0.6148 - val_loss: 0.6619 - val_acc: 0.5387\n",
      "Epoch 50/200\n",
      "20455/20455 [==============================] - 81s 4ms/step - loss: 0.9400 - acc: 0.6084 - val_loss: 0.6604 - val_acc: 0.5551\n",
      "Epoch 51/200\n",
      "20455/20455 [==============================] - 87s 4ms/step - loss: 0.9367 - acc: 0.6079 - val_loss: 0.6574 - val_acc: 0.5463\n",
      "Epoch 52/200\n",
      "20455/20455 [==============================] - 82s 4ms/step - loss: 0.9331 - acc: 0.6149 - val_loss: 0.6583 - val_acc: 0.5632\n",
      "Epoch 53/200\n",
      "20455/20455 [==============================] - 84s 4ms/step - loss: 0.9295 - acc: 0.6080 - val_loss: 0.6510 - val_acc: 0.5739\n",
      "Epoch 54/200\n",
      "20455/20455 [==============================] - 86s 4ms/step - loss: 0.9238 - acc: 0.6168 - val_loss: 0.6606 - val_acc: 0.5481\n",
      "Epoch 55/200\n",
      "20455/20455 [==============================] - 105s 5ms/step - loss: 0.9184 - acc: 0.6111 - val_loss: 0.6418 - val_acc: 0.6093\n",
      "Epoch 56/200\n",
      "20455/20455 [==============================] - 88s 4ms/step - loss: 0.9161 - acc: 0.6205 - val_loss: 0.6630 - val_acc: 0.5553\n",
      "Epoch 57/200\n",
      "20455/20455 [==============================] - 84s 4ms/step - loss: 0.9111 - acc: 0.6123 - val_loss: 0.6508 - val_acc: 0.5720\n",
      "Epoch 58/200\n",
      "20455/20455 [==============================] - 87s 4ms/step - loss: 0.9089 - acc: 0.6135 - val_loss: 0.6457 - val_acc: 0.5782\n",
      "Epoch 59/200\n",
      "20455/20455 [==============================] - 85s 4ms/step - loss: 0.9043 - acc: 0.6191 - val_loss: 0.6460 - val_acc: 0.6130\n",
      "Epoch 60/200\n",
      "20455/20455 [==============================] - 94s 5ms/step - loss: 0.9035 - acc: 0.6185 - val_loss: 0.6430 - val_acc: 0.6115\n",
      "Epoch 61/200\n",
      "20455/20455 [==============================] - 97s 5ms/step - loss: 0.9048 - acc: 0.6185 - val_loss: 0.6387 - val_acc: 0.6146\n",
      "Epoch 62/200\n",
      "20455/20455 [==============================] - 92s 5ms/step - loss: 0.9000 - acc: 0.6216 - val_loss: 0.6321 - val_acc: 0.6467\n",
      "Epoch 63/200\n",
      "20455/20455 [==============================] - 87s 4ms/step - loss: 0.8966 - acc: 0.6262 - val_loss: 0.6487 - val_acc: 0.6019\n",
      "Epoch 64/200\n",
      "20455/20455 [==============================] - 85s 4ms/step - loss: 0.8922 - acc: 0.6230 - val_loss: 0.6450 - val_acc: 0.6091\n",
      "Epoch 65/200\n",
      "20455/20455 [==============================] - 89s 4ms/step - loss: 0.8946 - acc: 0.6264 - val_loss: 0.6437 - val_acc: 0.6029\n",
      "Epoch 66/200\n",
      "20455/20455 [==============================] - 89s 4ms/step - loss: 0.8893 - acc: 0.6317 - val_loss: 0.6391 - val_acc: 0.6062\n",
      "Epoch 67/200\n",
      "20455/20455 [==============================] - 87s 4ms/step - loss: 0.8844 - acc: 0.6356 - val_loss: 0.6439 - val_acc: 0.5946\n",
      "Epoch 68/200\n",
      "20455/20455 [==============================] - 102s 5ms/step - loss: 0.8837 - acc: 0.6288 - val_loss: 0.6287 - val_acc: 0.6459\n",
      "Epoch 69/200\n",
      "20455/20455 [==============================] - 79s 4ms/step - loss: 0.8820 - acc: 0.6304 - val_loss: 0.6425 - val_acc: 0.6251\n",
      "Epoch 70/200\n",
      "20455/20455 [==============================] - 82s 4ms/step - loss: 0.8802 - acc: 0.6316 - val_loss: 0.6289 - val_acc: 0.6375\n",
      "Epoch 71/200\n",
      "20455/20455 [==============================] - 105s 5ms/step - loss: 0.8749 - acc: 0.6379 - val_loss: 0.6242 - val_acc: 0.6645\n",
      "Epoch 72/200\n",
      "20455/20455 [==============================] - 100s 5ms/step - loss: 0.8734 - acc: 0.6413 - val_loss: 0.6196 - val_acc: 0.6707\n",
      "Epoch 73/200\n",
      "20455/20455 [==============================] - 86s 4ms/step - loss: 0.8773 - acc: 0.6448 - val_loss: 0.6211 - val_acc: 0.6613\n",
      "Epoch 74/200\n",
      "20455/20455 [==============================] - 90s 4ms/step - loss: 0.8707 - acc: 0.6472 - val_loss: 0.6356 - val_acc: 0.6431\n",
      "Epoch 75/200\n",
      "20455/20455 [==============================] - 98s 5ms/step - loss: 0.8642 - acc: 0.6539 - val_loss: 0.6382 - val_acc: 0.6361\n",
      "Epoch 76/200\n",
      "20455/20455 [==============================] - 75s 4ms/step - loss: 0.8632 - acc: 0.6507 - val_loss: 0.6214 - val_acc: 0.6515\n",
      "Epoch 77/200\n",
      "20455/20455 [==============================] - 75s 4ms/step - loss: 0.8593 - acc: 0.6594 - val_loss: 0.6234 - val_acc: 0.6650\n",
      "Epoch 78/200\n",
      "20455/20455 [==============================] - 79s 4ms/step - loss: 0.8603 - acc: 0.6541 - val_loss: 0.6160 - val_acc: 0.6918\n",
      "Epoch 79/200\n",
      "20455/20455 [==============================] - 81s 4ms/step - loss: 0.8575 - acc: 0.6588 - val_loss: 0.6145 - val_acc: 0.6725\n",
      "Epoch 80/200\n",
      "20455/20455 [==============================] - 83s 4ms/step - loss: 0.8577 - acc: 0.6637 - val_loss: 0.6212 - val_acc: 0.6582\n",
      "Epoch 81/200\n",
      "20455/20455 [==============================] - 88s 4ms/step - loss: 0.8521 - acc: 0.6635 - val_loss: 0.6219 - val_acc: 0.6623\n",
      "Epoch 82/200\n",
      "20455/20455 [==============================] - 80s 4ms/step - loss: 0.8496 - acc: 0.6645 - val_loss: 0.6180 - val_acc: 0.6705\n",
      "Epoch 83/200\n",
      "20455/20455 [==============================] - 81s 4ms/step - loss: 0.8471 - acc: 0.6704 - val_loss: 0.6105 - val_acc: 0.6844\n",
      "Epoch 84/200\n",
      "20455/20455 [==============================] - 81s 4ms/step - loss: 0.8451 - acc: 0.6742 - val_loss: 0.6154 - val_acc: 0.6781\n",
      "Epoch 85/200\n",
      "20455/20455 [==============================] - 86s 4ms/step - loss: 0.8401 - acc: 0.6722 - val_loss: 0.5997 - val_acc: 0.7118\n",
      "Epoch 86/200\n",
      "20455/20455 [==============================] - 91s 4ms/step - loss: 0.8374 - acc: 0.6797 - val_loss: 0.6068 - val_acc: 0.7053\n",
      "Epoch 87/200\n",
      "20455/20455 [==============================] - 80s 4ms/step - loss: 0.8360 - acc: 0.6861 - val_loss: 0.6069 - val_acc: 0.6930\n",
      "Epoch 88/200\n",
      "20455/20455 [==============================] - 74s 4ms/step - loss: 0.8355 - acc: 0.6802 - val_loss: 0.6044 - val_acc: 0.6993\n",
      "Epoch 89/200\n",
      "20455/20455 [==============================] - 74s 4ms/step - loss: 0.8344 - acc: 0.6881 - val_loss: 0.6044 - val_acc: 0.6965\n",
      "Epoch 90/200\n",
      "20455/20455 [==============================] - 74s 4ms/step - loss: 0.8298 - acc: 0.6899 - val_loss: 0.6074 - val_acc: 0.6995\n",
      "Epoch 91/200\n",
      "20455/20455 [==============================] - 74s 4ms/step - loss: 0.8279 - acc: 0.6948 - val_loss: 0.6082 - val_acc: 0.7065\n",
      "Epoch 92/200\n",
      "20455/20455 [==============================] - 74s 4ms/step - loss: 0.8266 - acc: 0.6930 - val_loss: 0.5977 - val_acc: 0.7149\n",
      "Epoch 93/200\n",
      "20455/20455 [==============================] - 74s 4ms/step - loss: 0.8249 - acc: 0.6978 - val_loss: 0.5967 - val_acc: 0.7149\n",
      "Epoch 94/200\n",
      "20455/20455 [==============================] - 77s 4ms/step - loss: 0.8196 - acc: 0.6978 - val_loss: 0.5961 - val_acc: 0.7135\n",
      "Epoch 95/200\n",
      "20455/20455 [==============================] - 81s 4ms/step - loss: 0.8231 - acc: 0.7037 - val_loss: 0.6020 - val_acc: 0.7086\n",
      "Epoch 96/200\n",
      "20455/20455 [==============================] - 86s 4ms/step - loss: 0.8177 - acc: 0.7045 - val_loss: 0.5892 - val_acc: 0.7245\n",
      "Epoch 97/200\n",
      "20455/20455 [==============================] - 84s 4ms/step - loss: 0.8200 - acc: 0.7121 - val_loss: 0.6020 - val_acc: 0.7131\n",
      "Epoch 98/200\n",
      "20455/20455 [==============================] - 80s 4ms/step - loss: 0.8117 - acc: 0.7089 - val_loss: 0.5956 - val_acc: 0.7356\n",
      "Epoch 99/200\n",
      "20455/20455 [==============================] - 100s 5ms/step - loss: 0.8120 - acc: 0.7163 - val_loss: 0.5921 - val_acc: 0.7405\n",
      "Epoch 100/200\n",
      "20455/20455 [==============================] - 87s 4ms/step - loss: 0.8110 - acc: 0.7222 - val_loss: 0.5944 - val_acc: 0.7313\n",
      "Epoch 101/200\n",
      "20455/20455 [==============================] - 83s 4ms/step - loss: 0.8090 - acc: 0.7249 - val_loss: 0.5963 - val_acc: 0.7307\n",
      "Epoch 102/200\n",
      "20455/20455 [==============================] - 85s 4ms/step - loss: 0.8070 - acc: 0.7228 - val_loss: 0.5837 - val_acc: 0.7481\n",
      "Epoch 103/200\n",
      "20455/20455 [==============================] - 87s 4ms/step - loss: 0.8053 - acc: 0.7255 - val_loss: 0.5827 - val_acc: 0.7530\n",
      "Epoch 104/200\n",
      "20455/20455 [==============================] - 95s 5ms/step - loss: 0.8019 - acc: 0.7260 - val_loss: 0.5889 - val_acc: 0.7423\n",
      "Epoch 105/200\n",
      "20455/20455 [==============================] - 92s 4ms/step - loss: 0.8021 - acc: 0.7331 - val_loss: 0.5866 - val_acc: 0.7497\n",
      "Epoch 106/200\n",
      "20455/20455 [==============================] - 92s 5ms/step - loss: 0.8022 - acc: 0.7316 - val_loss: 0.5920 - val_acc: 0.7446\n",
      "Epoch 107/200\n",
      "20455/20455 [==============================] - 83s 4ms/step - loss: 0.7959 - acc: 0.7326 - val_loss: 0.5784 - val_acc: 0.7554\n",
      "Epoch 108/200\n",
      "20455/20455 [==============================] - 85s 4ms/step - loss: 0.7953 - acc: 0.7387 - val_loss: 0.5779 - val_acc: 0.7552\n",
      "Epoch 109/200\n",
      "20455/20455 [==============================] - 78s 4ms/step - loss: 0.7959 - acc: 0.7330 - val_loss: 0.5683 - val_acc: 0.7698\n",
      "Epoch 110/200\n",
      "20455/20455 [==============================] - 79s 4ms/step - loss: 0.7909 - acc: 0.7384 - val_loss: 0.5831 - val_acc: 0.7472\n",
      "Epoch 111/200\n",
      "20455/20455 [==============================] - 75s 4ms/step - loss: 0.7936 - acc: 0.7378 - val_loss: 0.5803 - val_acc: 0.7550\n",
      "Epoch 112/200\n",
      "20455/20455 [==============================] - 76s 4ms/step - loss: 0.7882 - acc: 0.7414 - val_loss: 0.5737 - val_acc: 0.7654\n",
      "Epoch 113/200\n",
      "20455/20455 [==============================] - 79s 4ms/step - loss: 0.7835 - acc: 0.7413 - val_loss: 0.5794 - val_acc: 0.7599\n",
      "Epoch 114/200\n",
      "20455/20455 [==============================] - 76s 4ms/step - loss: 0.7864 - acc: 0.7437 - val_loss: 0.5639 - val_acc: 0.7741\n",
      "Epoch 115/200\n",
      "20455/20455 [==============================] - 78s 4ms/step - loss: 0.7865 - acc: 0.7418 - val_loss: 0.5697 - val_acc: 0.7644\n",
      "Epoch 116/200\n",
      "20455/20455 [==============================] - 81s 4ms/step - loss: 0.7790 - acc: 0.7491 - val_loss: 0.5700 - val_acc: 0.7624\n",
      "Epoch 117/200\n",
      "20455/20455 [==============================] - 79s 4ms/step - loss: 0.7830 - acc: 0.7453 - val_loss: 0.5720 - val_acc: 0.7665\n"
     ]
    },
    {
     "name": "stdout",
     "output_type": "stream",
     "text": [
      "Epoch 118/200\n",
      "20455/20455 [==============================] - 88s 4ms/step - loss: 0.7832 - acc: 0.7518 - val_loss: 0.5766 - val_acc: 0.7587\n",
      "Epoch 119/200\n",
      "20455/20455 [==============================] - 87s 4ms/step - loss: 0.7785 - acc: 0.7524 - val_loss: 0.5684 - val_acc: 0.7695\n",
      "Epoch 120/200\n",
      "20455/20455 [==============================] - 79s 4ms/step - loss: 0.7783 - acc: 0.7522 - val_loss: 0.5692 - val_acc: 0.7710\n",
      "Epoch 121/200\n",
      "20455/20455 [==============================] - 85s 4ms/step - loss: 0.7742 - acc: 0.7581 - val_loss: 0.5659 - val_acc: 0.7763\n",
      "Epoch 122/200\n",
      "20455/20455 [==============================] - 86s 4ms/step - loss: 0.7716 - acc: 0.7549 - val_loss: 0.5537 - val_acc: 0.7867\n",
      "Epoch 123/200\n",
      "20455/20455 [==============================] - 80s 4ms/step - loss: 0.7736 - acc: 0.7597 - val_loss: 0.5647 - val_acc: 0.7761\n",
      "Epoch 124/200\n",
      "20455/20455 [==============================] - 84s 4ms/step - loss: 0.7717 - acc: 0.7555 - val_loss: 0.5636 - val_acc: 0.7734\n",
      "Epoch 125/200\n",
      "20455/20455 [==============================] - 82s 4ms/step - loss: 0.7705 - acc: 0.7527 - val_loss: 0.5559 - val_acc: 0.7814\n",
      "Epoch 126/200\n",
      "20455/20455 [==============================] - 86s 4ms/step - loss: 0.7642 - acc: 0.7591 - val_loss: 0.5621 - val_acc: 0.7775\n",
      "Epoch 127/200\n",
      "20455/20455 [==============================] - 80s 4ms/step - loss: 0.7680 - acc: 0.7559 - val_loss: 0.5546 - val_acc: 0.7822\n",
      "Epoch 128/200\n",
      "20455/20455 [==============================] - 98s 5ms/step - loss: 0.7650 - acc: 0.7648 - val_loss: 0.5581 - val_acc: 0.7851\n",
      "Epoch 129/200\n",
      "20455/20455 [==============================] - 97s 5ms/step - loss: 0.7664 - acc: 0.7613 - val_loss: 0.5502 - val_acc: 0.7929\n",
      "Epoch 130/200\n",
      "20455/20455 [==============================] - 87s 4ms/step - loss: 0.7627 - acc: 0.7702 - val_loss: 0.5658 - val_acc: 0.7740\n",
      "Epoch 131/200\n",
      "20455/20455 [==============================] - 75s 4ms/step - loss: 0.7618 - acc: 0.7653 - val_loss: 0.5566 - val_acc: 0.7804\n",
      "Epoch 132/200\n",
      "20455/20455 [==============================] - 82s 4ms/step - loss: 0.7606 - acc: 0.7678 - val_loss: 0.5625 - val_acc: 0.7747\n",
      "Epoch 133/200\n",
      "20455/20455 [==============================] - 85s 4ms/step - loss: 0.7581 - acc: 0.7647 - val_loss: 0.5543 - val_acc: 0.7822\n",
      "Epoch 134/200\n",
      "20455/20455 [==============================] - 85s 4ms/step - loss: 0.7576 - acc: 0.7651 - val_loss: 0.5515 - val_acc: 0.7853\n",
      "Epoch 135/200\n",
      "20455/20455 [==============================] - 88s 4ms/step - loss: 0.7538 - acc: 0.7651 - val_loss: 0.5463 - val_acc: 0.7917\n",
      "Epoch 136/200\n",
      "20455/20455 [==============================] - 86s 4ms/step - loss: 0.7551 - acc: 0.7714 - val_loss: 0.5457 - val_acc: 0.7921\n",
      "Epoch 137/200\n",
      "20455/20455 [==============================] - 83s 4ms/step - loss: 0.7517 - acc: 0.7716 - val_loss: 0.5505 - val_acc: 0.7886\n",
      "Epoch 138/200\n",
      "20455/20455 [==============================] - 86s 4ms/step - loss: 0.7530 - acc: 0.7704 - val_loss: 0.5535 - val_acc: 0.7820\n",
      "Epoch 139/200\n",
      "20455/20455 [==============================] - 92s 4ms/step - loss: 0.7508 - acc: 0.7724 - val_loss: 0.5472 - val_acc: 0.7916\n",
      "Epoch 140/200\n",
      "20455/20455 [==============================] - 93s 5ms/step - loss: 0.7500 - acc: 0.7740 - val_loss: 0.5535 - val_acc: 0.7886\n",
      "Epoch 141/200\n",
      "20455/20455 [==============================] - 90s 4ms/step - loss: 0.7519 - acc: 0.7769 - val_loss: 0.5549 - val_acc: 0.7851\n",
      "Epoch 142/200\n",
      "20455/20455 [==============================] - 86s 4ms/step - loss: 0.7484 - acc: 0.7742 - val_loss: 0.5399 - val_acc: 0.7974\n",
      "Epoch 143/200\n",
      "20455/20455 [==============================] - 92s 4ms/step - loss: 0.7465 - acc: 0.7749 - val_loss: 0.5412 - val_acc: 0.7982\n",
      "Epoch 144/200\n",
      "20455/20455 [==============================] - 99s 5ms/step - loss: 0.7440 - acc: 0.7766 - val_loss: 0.5482 - val_acc: 0.7919\n",
      "Epoch 145/200\n",
      "20455/20455 [==============================] - 114s 6ms/step - loss: 0.7440 - acc: 0.7726 - val_loss: 0.5382 - val_acc: 0.7976\n",
      "Epoch 146/200\n",
      "20455/20455 [==============================] - 119s 6ms/step - loss: 0.7437 - acc: 0.7828 - val_loss: 0.5566 - val_acc: 0.7861\n",
      "Epoch 147/200\n",
      "20455/20455 [==============================] - 102s 5ms/step - loss: 0.7496 - acc: 0.7777 - val_loss: 0.5416 - val_acc: 0.7972\n",
      "Epoch 148/200\n",
      "20455/20455 [==============================] - 111s 5ms/step - loss: 0.7393 - acc: 0.7803 - val_loss: 0.5347 - val_acc: 0.8029\n",
      "Epoch 149/200\n",
      "20455/20455 [==============================] - 109s 5ms/step - loss: 0.7410 - acc: 0.7826 - val_loss: 0.5502 - val_acc: 0.7937\n",
      "Epoch 150/200\n",
      "20455/20455 [==============================] - 107s 5ms/step - loss: 0.7425 - acc: 0.7806 - val_loss: 0.5380 - val_acc: 0.7994\n",
      "Epoch 151/200\n",
      "20455/20455 [==============================] - 109s 5ms/step - loss: 0.7394 - acc: 0.7820 - val_loss: 0.5394 - val_acc: 0.7998\n",
      "Epoch 152/200\n",
      "20455/20455 [==============================] - 99s 5ms/step - loss: 0.7384 - acc: 0.7833 - val_loss: 0.5325 - val_acc: 0.8035\n",
      "Epoch 153/200\n",
      "20455/20455 [==============================] - 101s 5ms/step - loss: 0.7362 - acc: 0.7813 - val_loss: 0.5426 - val_acc: 0.7966\n",
      "Epoch 154/200\n",
      "20455/20455 [==============================] - 99s 5ms/step - loss: 0.7358 - acc: 0.7824 - val_loss: 0.5381 - val_acc: 0.7982\n",
      "Epoch 155/200\n",
      "20455/20455 [==============================] - 125s 6ms/step - loss: 0.7342 - acc: 0.7806 - val_loss: 0.5338 - val_acc: 0.8002\n",
      "Epoch 156/200\n",
      "20455/20455 [==============================] - 122s 6ms/step - loss: 0.7339 - acc: 0.7862 - val_loss: 0.5365 - val_acc: 0.8037\n",
      "Epoch 157/200\n",
      "20455/20455 [==============================] - 89s 4ms/step - loss: 0.7331 - acc: 0.7899 - val_loss: 0.5401 - val_acc: 0.7990\n",
      "Epoch 158/200\n",
      "20455/20455 [==============================] - 88s 4ms/step - loss: 0.7343 - acc: 0.7868 - val_loss: 0.5430 - val_acc: 0.7957\n",
      "Epoch 159/200\n",
      "20455/20455 [==============================] - 88s 4ms/step - loss: 0.7308 - acc: 0.7858 - val_loss: 0.5416 - val_acc: 0.7959\n",
      "Epoch 160/200\n",
      "20455/20455 [==============================] - 93s 5ms/step - loss: 0.7322 - acc: 0.7848 - val_loss: 0.5328 - val_acc: 0.8011\n",
      "Epoch 161/200\n",
      "20455/20455 [==============================] - 92s 4ms/step - loss: 0.7324 - acc: 0.7868 - val_loss: 0.5287 - val_acc: 0.8047\n",
      "Epoch 162/200\n",
      "20455/20455 [==============================] - 87s 4ms/step - loss: 0.7235 - acc: 0.7886 - val_loss: 0.5385 - val_acc: 0.8002\n",
      "Epoch 163/200\n",
      "20455/20455 [==============================] - 90s 4ms/step - loss: 0.7268 - acc: 0.7863 - val_loss: 0.5322 - val_acc: 0.8017\n",
      "Epoch 164/200\n",
      "20455/20455 [==============================] - 88s 4ms/step - loss: 0.7271 - acc: 0.7875 - val_loss: 0.5304 - val_acc: 0.8015\n",
      "Epoch 165/200\n",
      "20455/20455 [==============================] - 87s 4ms/step - loss: 0.7215 - acc: 0.7932 - val_loss: 0.5306 - val_acc: 0.8035\n",
      "Epoch 166/200\n",
      "20455/20455 [==============================] - 91s 4ms/step - loss: 0.7249 - acc: 0.7904 - val_loss: 0.5310 - val_acc: 0.8039\n",
      "Epoch 167/200\n",
      "20455/20455 [==============================] - 103s 5ms/step - loss: 0.7230 - acc: 0.7933 - val_loss: 0.5216 - val_acc: 0.8109\n",
      "Epoch 168/200\n",
      "20455/20455 [==============================] - 106s 5ms/step - loss: 0.7218 - acc: 0.7961 - val_loss: 0.5377 - val_acc: 0.8048\n",
      "Epoch 169/200\n",
      "20455/20455 [==============================] - 114s 6ms/step - loss: 0.7166 - acc: 0.7965 - val_loss: 0.5299 - val_acc: 0.8043\n",
      "Epoch 170/200\n",
      "20455/20455 [==============================] - 99s 5ms/step - loss: 0.7248 - acc: 0.7969 - val_loss: 0.5327 - val_acc: 0.8033\n",
      "Epoch 171/200\n",
      "20455/20455 [==============================] - 94s 5ms/step - loss: 0.7211 - acc: 0.7937 - val_loss: 0.5275 - val_acc: 0.8070\n",
      "Epoch 172/200\n",
      "20455/20455 [==============================] - 86s 4ms/step - loss: 0.7199 - acc: 0.7952 - val_loss: 0.5326 - val_acc: 0.8031\n",
      "Epoch 173/200\n",
      "20455/20455 [==============================] - 107s 5ms/step - loss: 0.7176 - acc: 0.7949 - val_loss: 0.5175 - val_acc: 0.8142\n",
      "Epoch 174/200\n",
      "20455/20455 [==============================] - 104s 5ms/step - loss: 0.7159 - acc: 0.7979 - val_loss: 0.5209 - val_acc: 0.8121\n",
      "Epoch 175/200\n",
      "20455/20455 [==============================] - 102s 5ms/step - loss: 0.7181 - acc: 0.7986 - val_loss: 0.5262 - val_acc: 0.8086\n",
      "Epoch 176/200\n",
      "20455/20455 [==============================] - 101s 5ms/step - loss: 0.7146 - acc: 0.7963 - val_loss: 0.5237 - val_acc: 0.8088\n",
      "Epoch 177/200\n",
      "20455/20455 [==============================] - 110s 5ms/step - loss: 0.7147 - acc: 0.7989 - val_loss: 0.5164 - val_acc: 0.8133\n",
      "Epoch 178/200\n",
      "20455/20455 [==============================] - 89s 4ms/step - loss: 0.7134 - acc: 0.8019 - val_loss: 0.5348 - val_acc: 0.8031\n",
      "Epoch 179/200\n",
      "20455/20455 [==============================] - 90s 4ms/step - loss: 0.7147 - acc: 0.8000 - val_loss: 0.5200 - val_acc: 0.8105\n",
      "Epoch 180/200\n",
      "20455/20455 [==============================] - 89s 4ms/step - loss: 0.7115 - acc: 0.8006 - val_loss: 0.5215 - val_acc: 0.8111\n",
      "Epoch 181/200\n",
      "20455/20455 [==============================] - 88s 4ms/step - loss: 0.7095 - acc: 0.8005 - val_loss: 0.5117 - val_acc: 0.8152\n",
      "Epoch 182/200\n",
      "20455/20455 [==============================] - 92s 5ms/step - loss: 0.7116 - acc: 0.8033 - val_loss: 0.5129 - val_acc: 0.8146\n",
      "Epoch 183/200\n",
      "20455/20455 [==============================] - 88s 4ms/step - loss: 0.7069 - acc: 0.8016 - val_loss: 0.5115 - val_acc: 0.8148\n",
      "Epoch 184/200\n",
      "20455/20455 [==============================] - 101s 5ms/step - loss: 0.7081 - acc: 0.8034 - val_loss: 0.5190 - val_acc: 0.8103\n",
      "Epoch 185/200\n",
      "20455/20455 [==============================] - 110s 5ms/step - loss: 0.7063 - acc: 0.8047 - val_loss: 0.5269 - val_acc: 0.8078\n",
      "Epoch 186/200\n",
      "20455/20455 [==============================] - 96s 5ms/step - loss: 0.7029 - acc: 0.8048 - val_loss: 0.5226 - val_acc: 0.8080\n",
      "Epoch 187/200\n",
      "20455/20455 [==============================] - 102s 5ms/step - loss: 0.7092 - acc: 0.8017 - val_loss: 0.5162 - val_acc: 0.8127\n",
      "Epoch 188/200\n",
      "20455/20455 [==============================] - 95s 5ms/step - loss: 0.7053 - acc: 0.8058 - val_loss: 0.5182 - val_acc: 0.8119\n",
      "Epoch 189/200\n",
      "20455/20455 [==============================] - 97s 5ms/step - loss: 0.7041 - acc: 0.8029 - val_loss: 0.5082 - val_acc: 0.8158\n",
      "Epoch 190/200\n",
      "20455/20455 [==============================] - 88s 4ms/step - loss: 0.7042 - acc: 0.8051 - val_loss: 0.5094 - val_acc: 0.8152\n",
      "Epoch 191/200\n",
      "20455/20455 [==============================] - 87s 4ms/step - loss: 0.7037 - acc: 0.8065 - val_loss: 0.5123 - val_acc: 0.8168\n",
      "Epoch 192/200\n",
      "20455/20455 [==============================] - 89s 4ms/step - loss: 0.6986 - acc: 0.8074 - val_loss: 0.5111 - val_acc: 0.8150\n",
      "Epoch 193/200\n",
      "20455/20455 [==============================] - 94s 5ms/step - loss: 0.6999 - acc: 0.8081 - val_loss: 0.5087 - val_acc: 0.8168\n",
      "Epoch 194/200\n",
      "20455/20455 [==============================] - 90s 4ms/step - loss: 0.6959 - acc: 0.8092 - val_loss: 0.5141 - val_acc: 0.8115\n",
      "Epoch 195/200\n",
      "20455/20455 [==============================] - 88s 4ms/step - loss: 0.6952 - acc: 0.8075 - val_loss: 0.5096 - val_acc: 0.8148\n",
      "Epoch 196/200\n",
      "20455/20455 [==============================] - 87s 4ms/step - loss: 0.6982 - acc: 0.8069 - val_loss: 0.5133 - val_acc: 0.8142\n",
      "Epoch 197/200\n",
      "20455/20455 [==============================] - 88s 4ms/step - loss: 0.6985 - acc: 0.8089 - val_loss: 0.5102 - val_acc: 0.8142\n",
      "Epoch 198/200\n",
      "20455/20455 [==============================] - 92s 5ms/step - loss: 0.6949 - acc: 0.8096 - val_loss: 0.5213 - val_acc: 0.8092\n",
      "Epoch 199/200\n",
      "20455/20455 [==============================] - 94s 5ms/step - loss: 0.6954 - acc: 0.8060 - val_loss: 0.5064 - val_acc: 0.8172\n",
      "Epoch 200/200\n",
      "20455/20455 [==============================] - 89s 4ms/step - loss: 0.6926 - acc: 0.8150 - val_loss: 0.5082 - val_acc: 0.8181\n"
     ]
    }
   ],
   "source": [
    "history = model2b.fit(X_train, \n",
    "                    y_train,\n",
    "                    epochs=200,\n",
    "                    batch_size=100,\n",
    "                    callbacks=callbacks,\n",
    "                    class_weight=[{0:1,1:10}],\n",
    "                    validation_data=(X_val, y_val))"
   ]
  },
  {
   "cell_type": "code",
   "execution_count": 140,
   "metadata": {},
   "outputs": [],
   "source": [
    "model2b.save ('results/RNN/models/model2b.h5', overwrite = True)\n",
    "model2b.save_weights ('results/RNN/models/model2b.weights.h5', overwrite = True)\n",
    "# model2b = load_model('results/RNN/models/model2b.h5')"
   ]
  },
  {
   "cell_type": "code",
   "execution_count": 124,
   "metadata": {},
   "outputs": [
    {
     "data": {
      "image/png": "[encoded data removed]",
      "text/plain": [
       "<Figure size 720x288 with 2 Axes>"
      ]
     },
     "metadata": {
      "needs_background": "light"
     },
     "output_type": "display_data"
    }
   ],
   "source": [
    "plot_accuracy_loss('Model 2b', model2b, (.2, .8), (.4, 1))"
   ]
  },
  {
   "cell_type": "code",
   "execution_count": 126,
   "metadata": {},
   "outputs": [],
   "source": [
    "y_train_pred2b = model2b.predict_classes(X_train, batch_size = 20455)\n",
    "y_val_pred2b = model2b.predict_classes(X_val, batch_size = 5144)\n",
    "y_train_prob2b = model2b.predict_proba(X_train, batch_size = 20455)\n",
    "y_val_prob2b = model2b.predict_proba(X_val, batch_size = 5114)"
   ]
  },
  {
   "cell_type": "code",
   "execution_count": 127,
   "metadata": {},
   "outputs": [
    {
     "data": {
      "image/png": "[encoded data removed]",
      "text/plain": [
       "<Figure size 432x288 with 1 Axes>"
      ]
     },
     "metadata": {
      "needs_background": "light"
     },
     "output_type": "display_data"
    }
   ],
   "source": [
    "seaborn_confusion_matrix(y_train, y_train_pred2b)"
   ]
  },
  {
   "cell_type": "code",
   "execution_count": 128,
   "metadata": {},
   "outputs": [
    {
     "data": {
      "text/html": [
       "<div>\n",
       "<style scoped>\n",
       "    .dataframe tbody tr th:only-of-type {\n",
       "        vertical-align: middle;\n",
       "    }\n",
       "\n",
       "    .dataframe tbody tr th {\n",
       "        vertical-align: top;\n",
       "    }\n",
       "\n",
       "    .dataframe thead th {\n",
       "        text-align: right;\n",
       "    }\n",
       "</style>\n",
       "<table border=\"1\" class=\"dataframe\">\n",
       "  <thead>\n",
       "    <tr style=\"text-align: right;\">\n",
       "      <th></th>\n",
       "      <th>0</th>\n",
       "    </tr>\n",
       "  </thead>\n",
       "  <tbody>\n",
       "    <tr>\n",
       "      <th>count</th>\n",
       "      <td>20455.000000</td>\n",
       "    </tr>\n",
       "    <tr>\n",
       "      <th>mean</th>\n",
       "      <td>0.389875</td>\n",
       "    </tr>\n",
       "    <tr>\n",
       "      <th>std</th>\n",
       "      <td>0.207147</td>\n",
       "    </tr>\n",
       "    <tr>\n",
       "      <th>min</th>\n",
       "      <td>0.000000</td>\n",
       "    </tr>\n",
       "    <tr>\n",
       "      <th>25%</th>\n",
       "      <td>0.243242</td>\n",
       "    </tr>\n",
       "    <tr>\n",
       "      <th>50%</th>\n",
       "      <td>0.324086</td>\n",
       "    </tr>\n",
       "    <tr>\n",
       "      <th>75%</th>\n",
       "      <td>0.478435</td>\n",
       "    </tr>\n",
       "    <tr>\n",
       "      <th>max</th>\n",
       "      <td>1.000000</td>\n",
       "    </tr>\n",
       "  </tbody>\n",
       "</table>\n",
       "</div>"
      ],
      "text/plain": [
       "                  0\n",
       "count  20455.000000\n",
       "mean       0.389875\n",
       "std        0.207147\n",
       "min        0.000000\n",
       "25%        0.243242\n",
       "50%        0.324086\n",
       "75%        0.478435\n",
       "max        1.000000"
      ]
     },
     "execution_count": 128,
     "metadata": {},
     "output_type": "execute_result"
    }
   ],
   "source": [
    "pd.DataFrame(y_train_prob2b).describe()"
   ]
  },
  {
   "cell_type": "code",
   "execution_count": 130,
   "metadata": {},
   "outputs": [
    {
     "data": {
      "text/plain": [
       "{'Train Accuracy': 0.82,\n",
       " 'Train Precision': 0.27,\n",
       " 'Train Recall': 0.87,\n",
       " 'Train F1': 0.41,\n",
       " 'Validation Accuracy': 0.82,\n",
       " 'Validation Precision': 0.26,\n",
       " 'Validation Recall': 0.87,\n",
       " 'Validation F1': 0.4}"
      ]
     },
     "execution_count": 130,
     "metadata": {},
     "output_type": "execute_result"
    }
   ],
   "source": [
    "compare_classification_metrics(y_train, y_train_pred2b, y_val, y_val_pred2b)"
   ]
  },
  {
   "cell_type": "code",
   "execution_count": 131,
   "metadata": {},
   "outputs": [
    {
     "data": {
      "image/png": "[encoded data removed]",
      "text/plain": [
       "<Figure size 432x288 with 1 Axes>"
      ]
     },
     "metadata": {
      "needs_background": "light"
     },
     "output_type": "display_data"
    }
   ],
   "source": [
    "seaborn_confusion_matrix(y_val, y_val_pred2b)"
   ]
  },
  {
   "cell_type": "code",
   "execution_count": 132,
   "metadata": {},
   "outputs": [
    {
     "name": "stdout",
     "output_type": "stream",
     "text": [
      "Adjusted Accuracy: 0.932733672272194\n",
      "Adjusted Precision: 0.5203252032520326\n",
      "Adjusted Recall: 0.5348189415041783\n",
      "Adjusted F1 Score: 0.5274725274725275\n",
      "\n",
      "\n"
     ]
    },
    {
     "data": {
      "image/png": "[encoded data removed]",
      "text/plain": [
       "<Figure size 432x288 with 1 Axes>"
      ]
     },
     "metadata": {
      "needs_background": "light"
     },
     "output_type": "display_data"
    }
   ],
   "source": [
    "adj_y_val2b, cm2b = adjust_threshold_and_score(y_val, y_val_prob2b, .8, RNN = True)"
   ]
  },
  {
   "cell_type": "markdown",
   "metadata": {},
   "source": [
    "# RNN 3 - upsampling # 1 - lr .000001, patience 10"
   ]
  },
  {
   "cell_type": "code",
   "execution_count": 144,
   "metadata": {},
   "outputs": [],
   "source": [
    "X_train_up, y_train_up = upsample_training_data(X_train, y_train)"
   ]
  },
  {
   "cell_type": "code",
   "execution_count": 145,
   "metadata": {},
   "outputs": [
    {
     "name": "stdout",
     "output_type": "stream",
     "text": [
      "_________________________________________________________________\n",
      "Layer (type)                 Output Shape              Param #   \n",
      "=================================================================\n",
      "embedding_11 (Embedding)     (None, 39, 300)           11338500  \n",
      "_________________________________________________________________\n",
      "lstm_19 (LSTM)               (None, 39, 64)            93440     \n",
      "_________________________________________________________________\n",
      "batch_normalization_18 (Batc (None, 39, 64)            256       \n",
      "_________________________________________________________________\n",
      "lstm_20 (LSTM)               (None, 64)                33024     \n",
      "_________________________________________________________________\n",
      "batch_normalization_19 (Batc (None, 64)                256       \n",
      "_________________________________________________________________\n",
      "dense_9 (Dense)              (None, 1)                 65        \n",
      "=================================================================\n",
      "Total params: 11,465,541\n",
      "Trainable params: 126,785\n",
      "Non-trainable params: 11,338,756\n",
      "_________________________________________________________________\n",
      "None\n"
     ]
    }
   ],
   "source": [
    "model3 = Sequential()\n",
    "\n",
    "# filepath = 'results/RNN/models/model3_weights.best.hdf5'\n",
    "\n",
    "callbacks = [EarlyStopping(monitor='val_loss', patience = 10), \n",
    "             ReduceLROnPlateau(monitor='val_loss', patience = 10)]\n",
    "#              ModelCheckpoint(filepath, save_best_only = True, save_weights_only = True)]\n",
    "\n",
    "model3.add(Embedding(num_words, 300, weights=[embedding_matrix300], input_length= 39, trainable=False))\n",
    "\n",
    "model3.add(LSTM(64, activation='relu', return_sequences=True))\n",
    "model3.add(BatchNormalization())\n",
    "\n",
    "model3.add(LSTM(64, activation='relu'))\n",
    "model3.add(BatchNormalization())\n",
    "\n",
    "model3.add(Dense(1, activation='sigmoid'))\n",
    "\n",
    "model3.compile(loss='binary_crossentropy', optimizer = rmsprop(lr=.000001), metrics=['accuracy']) #optimizer=Adam\n",
    "\n",
    "print(model3.summary())"
   ]
  },
  {
   "cell_type": "code",
   "execution_count": 146,
   "metadata": {},
   "outputs": [
    {
     "name": "stdout",
     "output_type": "stream",
     "text": [
      "Train on 38040 samples, validate on 5114 samples\n",
      "Epoch 1/200\n",
      "38040/38040 [==============================] - 299s 8ms/step - loss: 0.6594 - acc: 0.6314 - val_loss: 0.6993 - val_acc: 0.5645\n",
      "Epoch 2/200\n",
      "38040/38040 [==============================] - 252s 7ms/step - loss: 0.6398 - acc: 0.6571 - val_loss: 0.6778 - val_acc: 0.7104\n",
      "Epoch 3/200\n",
      "38040/38040 [==============================] - 262s 7ms/step - loss: 0.6220 - acc: 0.6872 - val_loss: 0.6586 - val_acc: 0.7894\n",
      "Epoch 4/200\n",
      "38040/38040 [==============================] - 284s 7ms/step - loss: 0.6039 - acc: 0.7146 - val_loss: 0.6538 - val_acc: 0.7765\n",
      "Epoch 5/200\n",
      "38040/38040 [==============================] - 271s 7ms/step - loss: 0.5828 - acc: 0.7392 - val_loss: 0.6336 - val_acc: 0.7814\n",
      "Epoch 6/200\n",
      "38040/38040 [==============================] - 255s 7ms/step - loss: 0.5597 - acc: 0.7571 - val_loss: 0.5990 - val_acc: 0.8088\n",
      "Epoch 7/200\n",
      "38040/38040 [==============================] - 251s 7ms/step - loss: 0.5350 - acc: 0.7703 - val_loss: 0.5698 - val_acc: 0.8250\n",
      "Epoch 8/200\n",
      "38040/38040 [==============================] - 266s 7ms/step - loss: 0.5114 - acc: 0.7835 - val_loss: 0.5518 - val_acc: 0.8223\n",
      "Epoch 9/200\n",
      "38040/38040 [==============================] - 271s 7ms/step - loss: 0.4900 - acc: 0.7891 - val_loss: 0.5048 - val_acc: 0.8445\n",
      "Epoch 10/200\n",
      "38040/38040 [==============================] - 269s 7ms/step - loss: 0.4702 - acc: 0.7952 - val_loss: 0.4796 - val_acc: 0.8459\n",
      "Epoch 11/200\n",
      "38040/38040 [==============================] - 293s 8ms/step - loss: 0.4541 - acc: 0.8002 - val_loss: 0.4704 - val_acc: 0.8400\n",
      "Epoch 12/200\n",
      "38040/38040 [==============================] - 276s 7ms/step - loss: 0.4403 - acc: 0.8053 - val_loss: 0.4591 - val_acc: 0.8385\n",
      "Epoch 13/200\n",
      "38040/38040 [==============================] - 265s 7ms/step - loss: 0.4278 - acc: 0.8106 - val_loss: 0.4390 - val_acc: 0.8424\n",
      "Epoch 14/200\n",
      "38040/38040 [==============================] - 236s 6ms/step - loss: 0.4198 - acc: 0.8151 - val_loss: 0.4365 - val_acc: 0.8367\n",
      "Epoch 15/200\n",
      "38040/38040 [==============================] - 237s 6ms/step - loss: 0.4135 - acc: 0.8161 - val_loss: 0.4256 - val_acc: 0.8334\n",
      "Epoch 16/200\n",
      "38040/38040 [==============================] - 240s 6ms/step - loss: 0.4056 - acc: 0.8165 - val_loss: 0.4161 - val_acc: 0.8381\n",
      "Epoch 17/200\n",
      "38040/38040 [==============================] - 242s 6ms/step - loss: 0.4030 - acc: 0.8201 - val_loss: 0.4108 - val_acc: 0.8334\n",
      "Epoch 18/200\n",
      "38040/38040 [==============================] - 244s 6ms/step - loss: 0.3973 - acc: 0.8222 - val_loss: 0.4048 - val_acc: 0.8309\n",
      "Epoch 19/200\n",
      "38040/38040 [==============================] - 246s 6ms/step - loss: 0.3934 - acc: 0.8232 - val_loss: 0.4056 - val_acc: 0.8326\n",
      "Epoch 20/200\n",
      "38040/38040 [==============================] - 276s 7ms/step - loss: 0.3901 - acc: 0.8254 - val_loss: 0.4054 - val_acc: 0.8293\n",
      "Epoch 21/200\n",
      "38040/38040 [==============================] - 253s 7ms/step - loss: 0.3876 - acc: 0.8273 - val_loss: 0.4107 - val_acc: 0.8242\n",
      "Epoch 22/200\n",
      "38040/38040 [==============================] - 260s 7ms/step - loss: 0.3852 - acc: 0.8280 - val_loss: 0.4006 - val_acc: 0.8242\n",
      "Epoch 23/200\n",
      "38040/38040 [==============================] - 286s 8ms/step - loss: 0.3814 - acc: 0.8301 - val_loss: 0.3972 - val_acc: 0.8277\n",
      "Epoch 24/200\n",
      "38040/38040 [==============================] - 282s 7ms/step - loss: 0.3798 - acc: 0.8287 - val_loss: 0.3979 - val_acc: 0.8242\n",
      "Epoch 25/200\n",
      "38040/38040 [==============================] - 272s 7ms/step - loss: 0.3776 - acc: 0.8322 - val_loss: 0.3961 - val_acc: 0.8279\n",
      "Epoch 26/200\n",
      "38040/38040 [==============================] - 255s 7ms/step - loss: 0.3752 - acc: 0.8341 - val_loss: 0.4003 - val_acc: 0.8256\n",
      "Epoch 27/200\n",
      "38040/38040 [==============================] - 257s 7ms/step - loss: 0.3724 - acc: 0.8347 - val_loss: 0.3937 - val_acc: 0.8309\n",
      "Epoch 28/200\n",
      "38040/38040 [==============================] - 253s 7ms/step - loss: 0.3715 - acc: 0.8353 - val_loss: 0.4022 - val_acc: 0.8209\n",
      "Epoch 29/200\n",
      "38040/38040 [==============================] - 252s 7ms/step - loss: 0.3696 - acc: 0.8378 - val_loss: 0.3962 - val_acc: 0.8256\n",
      "Epoch 30/200\n",
      "38040/38040 [==============================] - 255s 7ms/step - loss: 0.3680 - acc: 0.8379 - val_loss: 0.3980 - val_acc: 0.8275\n",
      "Epoch 31/200\n",
      "38040/38040 [==============================] - 266s 7ms/step - loss: 0.3668 - acc: 0.8380 - val_loss: 0.3963 - val_acc: 0.8209\n",
      "Epoch 32/200\n",
      "38040/38040 [==============================] - 299s 8ms/step - loss: 0.3644 - acc: 0.8395 - val_loss: 0.3842 - val_acc: 0.8322\n",
      "Epoch 33/200\n",
      "38040/38040 [==============================] - 287s 8ms/step - loss: 0.3652 - acc: 0.8389 - val_loss: 0.3852 - val_acc: 0.8293\n",
      "Epoch 34/200\n",
      "38040/38040 [==============================] - 282s 7ms/step - loss: 0.3627 - acc: 0.8425 - val_loss: 0.3894 - val_acc: 0.8258\n",
      "Epoch 35/200\n",
      "38040/38040 [==============================] - 306s 8ms/step - loss: 0.3593 - acc: 0.8435 - val_loss: 0.3905 - val_acc: 0.8277\n",
      "Epoch 36/200\n",
      "38040/38040 [==============================] - 309s 8ms/step - loss: 0.3597 - acc: 0.8420 - val_loss: 0.3872 - val_acc: 0.8264\n",
      "Epoch 37/200\n",
      "38040/38040 [==============================] - 325s 9ms/step - loss: 0.3565 - acc: 0.8459 - val_loss: 0.3883 - val_acc: 0.8269\n",
      "Epoch 38/200\n",
      "38040/38040 [==============================] - 333s 9ms/step - loss: 0.3559 - acc: 0.8447 - val_loss: 0.3775 - val_acc: 0.8367\n",
      "Epoch 39/200\n",
      "38040/38040 [==============================] - 319s 8ms/step - loss: 0.3548 - acc: 0.8460 - val_loss: 0.3854 - val_acc: 0.8330\n",
      "Epoch 40/200\n",
      "38040/38040 [==============================] - 321s 8ms/step - loss: 0.3525 - acc: 0.8478 - val_loss: 0.3843 - val_acc: 0.8289\n",
      "Epoch 41/200\n",
      "38040/38040 [==============================] - 331s 9ms/step - loss: 0.3524 - acc: 0.8479 - val_loss: 0.3748 - val_acc: 0.8363\n",
      "Epoch 42/200\n",
      "38040/38040 [==============================] - 345s 9ms/step - loss: 0.3499 - acc: 0.8476 - val_loss: 0.3795 - val_acc: 0.8352\n",
      "Epoch 43/200\n",
      "38040/38040 [==============================] - 303s 8ms/step - loss: 0.3481 - acc: 0.8491 - val_loss: 0.3777 - val_acc: 0.8355\n",
      "Epoch 44/200\n",
      "38040/38040 [==============================] - 280s 7ms/step - loss: 0.3470 - acc: 0.8501 - val_loss: 0.3773 - val_acc: 0.8377\n",
      "Epoch 45/200\n",
      "38040/38040 [==============================] - 277s 7ms/step - loss: 0.3445 - acc: 0.8517 - val_loss: 0.3901 - val_acc: 0.8307\n",
      "Epoch 46/200\n",
      "38040/38040 [==============================] - 271s 7ms/step - loss: 0.3457 - acc: 0.8505 - val_loss: 0.3767 - val_acc: 0.8363\n",
      "Epoch 47/200\n",
      "38040/38040 [==============================] - 272s 7ms/step - loss: 0.3439 - acc: 0.8530 - val_loss: 0.3734 - val_acc: 0.8414\n",
      "Epoch 48/200\n",
      "38040/38040 [==============================] - 251s 7ms/step - loss: 0.3452 - acc: 0.8522 - val_loss: 0.3810 - val_acc: 0.8344\n",
      "Epoch 49/200\n",
      "38040/38040 [==============================] - 246s 6ms/step - loss: 0.3429 - acc: 0.8535 - val_loss: 0.3677 - val_acc: 0.8422\n",
      "Epoch 50/200\n",
      "38040/38040 [==============================] - 254s 7ms/step - loss: 0.3392 - acc: 0.8548 - val_loss: 0.3814 - val_acc: 0.8312\n",
      "Epoch 51/200\n",
      "38040/38040 [==============================] - 248s 7ms/step - loss: 0.3395 - acc: 0.8542 - val_loss: 0.3726 - val_acc: 0.8383\n",
      "Epoch 52/200\n",
      "38040/38040 [==============================] - 252s 7ms/step - loss: 0.3375 - acc: 0.8535 - val_loss: 0.3842 - val_acc: 0.8316\n",
      "Epoch 53/200\n",
      "38040/38040 [==============================] - 248s 7ms/step - loss: 0.3361 - acc: 0.8571 - val_loss: 0.3717 - val_acc: 0.8395\n",
      "Epoch 54/200\n",
      "38040/38040 [==============================] - 249s 7ms/step - loss: 0.3360 - acc: 0.8564 - val_loss: 0.3702 - val_acc: 0.8418\n",
      "Epoch 55/200\n",
      "38040/38040 [==============================] - 247s 6ms/step - loss: 0.3352 - acc: 0.8560 - val_loss: 0.3610 - val_acc: 0.8447\n",
      "Epoch 56/200\n",
      "38040/38040 [==============================] - 248s 7ms/step - loss: 0.3324 - acc: 0.8571 - val_loss: 0.3752 - val_acc: 0.8377\n",
      "Epoch 57/200\n",
      "38040/38040 [==============================] - 256s 7ms/step - loss: 0.3307 - acc: 0.8589 - val_loss: 0.3766 - val_acc: 0.8373\n",
      "Epoch 58/200\n",
      "38040/38040 [==============================] - 248s 7ms/step - loss: 0.3335 - acc: 0.8568 - val_loss: 0.3693 - val_acc: 0.8416\n",
      "Epoch 59/200\n",
      "38040/38040 [==============================] - 247s 6ms/step - loss: 0.3297 - acc: 0.8596 - val_loss: 0.3611 - val_acc: 0.8465\n",
      "Epoch 60/200\n",
      "38040/38040 [==============================] - 257s 7ms/step - loss: 0.3301 - acc: 0.8579 - val_loss: 0.3647 - val_acc: 0.8442\n",
      "Epoch 61/200\n",
      "38040/38040 [==============================] - 251s 7ms/step - loss: 0.3269 - acc: 0.8613 - val_loss: 0.3598 - val_acc: 0.8469\n",
      "Epoch 62/200\n",
      "38040/38040 [==============================] - 254s 7ms/step - loss: 0.3267 - acc: 0.8610 - val_loss: 0.3616 - val_acc: 0.8457\n",
      "Epoch 63/200\n",
      "38040/38040 [==============================] - 245s 6ms/step - loss: 0.3259 - acc: 0.8598 - val_loss: 0.3509 - val_acc: 0.8498\n",
      "Epoch 64/200\n",
      "38040/38040 [==============================] - 252s 7ms/step - loss: 0.3255 - acc: 0.8595 - val_loss: 0.3565 - val_acc: 0.8475\n",
      "Epoch 65/200\n",
      "38040/38040 [==============================] - 247s 6ms/step - loss: 0.3229 - acc: 0.8612 - val_loss: 0.3588 - val_acc: 0.8467\n",
      "Epoch 66/200\n",
      "38040/38040 [==============================] - 248s 7ms/step - loss: 0.3225 - acc: 0.8629 - val_loss: 0.3602 - val_acc: 0.8455\n",
      "Epoch 67/200\n",
      "38040/38040 [==============================] - 246s 6ms/step - loss: 0.3203 - acc: 0.8655 - val_loss: 0.3598 - val_acc: 0.8463\n",
      "Epoch 68/200\n",
      "38040/38040 [==============================] - 244s 6ms/step - loss: 0.3194 - acc: 0.8657 - val_loss: 0.3543 - val_acc: 0.8492\n",
      "Epoch 69/200\n",
      "38040/38040 [==============================] - 246s 6ms/step - loss: 0.3191 - acc: 0.8645 - val_loss: 0.3559 - val_acc: 0.8487\n",
      "Epoch 70/200\n",
      "38040/38040 [==============================] - 249s 7ms/step - loss: 0.3201 - acc: 0.8655 - val_loss: 0.3574 - val_acc: 0.8490\n",
      "Epoch 71/200\n",
      "38040/38040 [==============================] - 248s 7ms/step - loss: 0.3165 - acc: 0.8654 - val_loss: 0.3635 - val_acc: 0.8445\n",
      "Epoch 72/200\n",
      "38040/38040 [==============================] - 247s 6ms/step - loss: 0.3157 - acc: 0.8661 - val_loss: 0.3558 - val_acc: 0.8490\n",
      "Epoch 73/200\n",
      "38040/38040 [==============================] - 247s 6ms/step - loss: 0.3157 - acc: 0.8671 - val_loss: 0.3428 - val_acc: 0.8541\n",
      "Epoch 74/200\n",
      "38040/38040 [==============================] - 249s 7ms/step - loss: 0.3148 - acc: 0.8651 - val_loss: 0.3469 - val_acc: 0.8530\n",
      "Epoch 75/200\n",
      "38040/38040 [==============================] - 246s 6ms/step - loss: 0.3125 - acc: 0.8677 - val_loss: 0.3472 - val_acc: 0.8518\n",
      "Epoch 76/200\n",
      "38040/38040 [==============================] - 246s 6ms/step - loss: 0.3122 - acc: 0.8693 - val_loss: 0.3602 - val_acc: 0.8461\n",
      "Epoch 77/200\n",
      "38040/38040 [==============================] - 246s 6ms/step - loss: 0.3120 - acc: 0.8683 - val_loss: 0.3554 - val_acc: 0.8483\n",
      "Epoch 78/200\n",
      "38040/38040 [==============================] - 247s 6ms/step - loss: 0.3120 - acc: 0.8671 - val_loss: 0.3444 - val_acc: 0.8547\n",
      "Epoch 79/200\n",
      "38040/38040 [==============================] - 250s 7ms/step - loss: 0.3104 - acc: 0.8692 - val_loss: 0.3505 - val_acc: 0.8506\n",
      "Epoch 80/200\n",
      "38040/38040 [==============================] - 246s 6ms/step - loss: 0.3079 - acc: 0.8709 - val_loss: 0.3544 - val_acc: 0.8500\n",
      "Epoch 81/200\n",
      "38040/38040 [==============================] - 246s 6ms/step - loss: 0.3072 - acc: 0.8702 - val_loss: 0.3477 - val_acc: 0.8539\n",
      "Epoch 82/200\n",
      "38040/38040 [==============================] - 246s 6ms/step - loss: 0.3056 - acc: 0.8709 - val_loss: 0.3400 - val_acc: 0.8573\n",
      "Epoch 83/200\n",
      "38040/38040 [==============================] - 248s 7ms/step - loss: 0.3042 - acc: 0.8722 - val_loss: 0.3413 - val_acc: 0.8557\n",
      "Epoch 84/200\n",
      "38040/38040 [==============================] - 245s 6ms/step - loss: 0.3060 - acc: 0.8734 - val_loss: 0.3368 - val_acc: 0.8573\n",
      "Epoch 85/200\n",
      "38040/38040 [==============================] - 248s 7ms/step - loss: 0.3041 - acc: 0.8726 - val_loss: 0.3361 - val_acc: 0.8586\n",
      "Epoch 86/200\n",
      "38040/38040 [==============================] - 246s 6ms/step - loss: 0.3038 - acc: 0.8742 - val_loss: 0.3453 - val_acc: 0.8537\n",
      "Epoch 87/200\n",
      "38040/38040 [==============================] - 247s 6ms/step - loss: 0.3032 - acc: 0.8729 - val_loss: 0.3421 - val_acc: 0.8588\n",
      "Epoch 88/200\n",
      "38040/38040 [==============================] - 250s 7ms/step - loss: 0.3015 - acc: 0.8732 - val_loss: 0.3458 - val_acc: 0.8551\n",
      "Epoch 89/200\n",
      "38040/38040 [==============================] - 247s 6ms/step - loss: 0.3021 - acc: 0.8754 - val_loss: 0.3366 - val_acc: 0.8598\n",
      "Epoch 90/200\n",
      "38040/38040 [==============================] - 247s 6ms/step - loss: 0.3012 - acc: 0.8742 - val_loss: 0.3428 - val_acc: 0.8569\n",
      "Epoch 91/200\n",
      "38040/38040 [==============================] - 247s 6ms/step - loss: 0.2985 - acc: 0.8761 - val_loss: 0.3314 - val_acc: 0.8598\n",
      "Epoch 92/200\n",
      "38040/38040 [==============================] - 246s 6ms/step - loss: 0.2976 - acc: 0.8763 - val_loss: 0.3384 - val_acc: 0.8573\n",
      "Epoch 93/200\n",
      "38040/38040 [==============================] - 246s 6ms/step - loss: 0.2974 - acc: 0.8767 - val_loss: 0.3339 - val_acc: 0.8590\n",
      "Epoch 94/200\n",
      "38040/38040 [==============================] - 246s 6ms/step - loss: 0.2961 - acc: 0.8773 - val_loss: 0.3322 - val_acc: 0.8604\n",
      "Epoch 95/200\n",
      "38040/38040 [==============================] - 246s 6ms/step - loss: 0.2966 - acc: 0.8776 - val_loss: 0.3420 - val_acc: 0.8545\n",
      "Epoch 96/200\n",
      "38040/38040 [==============================] - 247s 6ms/step - loss: 0.2957 - acc: 0.8769 - val_loss: 0.3360 - val_acc: 0.8584\n",
      "Epoch 97/200\n",
      "38040/38040 [==============================] - 247s 6ms/step - loss: 0.2961 - acc: 0.8773 - val_loss: 0.3436 - val_acc: 0.8547\n",
      "Epoch 98/200\n",
      "38040/38040 [==============================] - 246s 6ms/step - loss: 0.2923 - acc: 0.8795 - val_loss: 0.3438 - val_acc: 0.8541\n",
      "Epoch 99/200\n",
      "38040/38040 [==============================] - 247s 6ms/step - loss: 0.2925 - acc: 0.8788 - val_loss: 0.3321 - val_acc: 0.8598\n",
      "Epoch 100/200\n",
      "38040/38040 [==============================] - 250s 7ms/step - loss: 0.2931 - acc: 0.8793 - val_loss: 0.3295 - val_acc: 0.8623\n",
      "Epoch 101/200\n",
      "38040/38040 [==============================] - 248s 7ms/step - loss: 0.2937 - acc: 0.8789 - val_loss: 0.3435 - val_acc: 0.8578\n",
      "Epoch 102/200\n",
      "38040/38040 [==============================] - 247s 7ms/step - loss: 0.2906 - acc: 0.8798 - val_loss: 0.3297 - val_acc: 0.8645\n",
      "Epoch 103/200\n",
      "38040/38040 [==============================] - 247s 6ms/step - loss: 0.2896 - acc: 0.8810 - val_loss: 0.3354 - val_acc: 0.8600\n",
      "Epoch 104/200\n",
      "38040/38040 [==============================] - 248s 7ms/step - loss: 0.2885 - acc: 0.8816 - val_loss: 0.3265 - val_acc: 0.8629\n",
      "Epoch 105/200\n",
      "38040/38040 [==============================] - 247s 6ms/step - loss: 0.2890 - acc: 0.8809 - val_loss: 0.3386 - val_acc: 0.8606\n",
      "Epoch 106/200\n",
      "38040/38040 [==============================] - 246s 6ms/step - loss: 0.2879 - acc: 0.8815 - val_loss: 0.3393 - val_acc: 0.8608\n",
      "Epoch 107/200\n",
      "38040/38040 [==============================] - 249s 7ms/step - loss: 0.2877 - acc: 0.8834 - val_loss: 0.3386 - val_acc: 0.8602\n",
      "Epoch 108/200\n",
      "38040/38040 [==============================] - 247s 6ms/step - loss: 0.2866 - acc: 0.8833 - val_loss: 0.3391 - val_acc: 0.8618\n",
      "Epoch 109/200\n",
      "38040/38040 [==============================] - 248s 7ms/step - loss: 0.2847 - acc: 0.8837 - val_loss: 0.3384 - val_acc: 0.8612\n",
      "Epoch 110/200\n",
      "38040/38040 [==============================] - 247s 6ms/step - loss: 0.2845 - acc: 0.8842 - val_loss: 0.3372 - val_acc: 0.8635\n",
      "Epoch 111/200\n",
      "38040/38040 [==============================] - 246s 6ms/step - loss: 0.2837 - acc: 0.8843 - val_loss: 0.3445 - val_acc: 0.8600\n",
      "Epoch 112/200\n",
      "38040/38040 [==============================] - 247s 6ms/step - loss: 0.2837 - acc: 0.8840 - val_loss: 0.3411 - val_acc: 0.8608\n",
      "Epoch 113/200\n",
      "38040/38040 [==============================] - 247s 6ms/step - loss: 0.2820 - acc: 0.8847 - val_loss: 0.3506 - val_acc: 0.8625\n",
      "Epoch 114/200\n",
      "38040/38040 [==============================] - 247s 6ms/step - loss: 0.2807 - acc: 0.8865 - val_loss: 0.3508 - val_acc: 0.8584\n"
     ]
    }
   ],
   "source": [
    "history = model3.fit(X_train_up, \n",
    "                    y_train_up,\n",
    "                    epochs=200,\n",
    "                    batch_size=50,\n",
    "                    callbacks=callbacks,\n",
    "                    validation_data=(X_val, y_val))"
   ]
  },
  {
   "cell_type": "code",
   "execution_count": 147,
   "metadata": {},
   "outputs": [],
   "source": [
    "model3.save('results/RNN/models/model3.h5', overwrite = True)\n",
    "model3.save_weights('results/RNN/models/model3.weights.h5', overwrite = True)\n",
    "# model3 = load_model('results/RNN/models/model3_300.h5')"
   ]
  },
  {
   "cell_type": "code",
   "execution_count": 249,
   "metadata": {},
   "outputs": [
    {
     "data": {
      "image/png": "[encoded data removed]",
      "text/plain": [
       "<Figure size 720x288 with 2 Axes>"
      ]
     },
     "metadata": {
      "needs_background": "light"
     },
     "output_type": "display_data"
    }
   ],
   "source": [
    "plot_accuracy_loss('Model 3', model3, (.4, 1), (.2, .8))"
   ]
  },
  {
   "cell_type": "code",
   "execution_count": 149,
   "metadata": {},
   "outputs": [],
   "source": [
    "y_train_pred3 = model3.predict_classes(X_train_up, batch_size = 38040)\n",
    "y_val_pred3 = model3.predict_classes(X_val, batch_size = 5114)\n",
    "y_train_prob3 = model3.predict_proba(X_train_up, batch_size = 38040)\n",
    "y_val_prob3 = model3.predict_proba(X_val, batch_size = 5114)"
   ]
  },
  {
   "cell_type": "code",
   "execution_count": 150,
   "metadata": {},
   "outputs": [
    {
     "data": {
      "text/html": [
       "<div>\n",
       "<style scoped>\n",
       "    .dataframe tbody tr th:only-of-type {\n",
       "        vertical-align: middle;\n",
       "    }\n",
       "\n",
       "    .dataframe tbody tr th {\n",
       "        vertical-align: top;\n",
       "    }\n",
       "\n",
       "    .dataframe thead th {\n",
       "        text-align: right;\n",
       "    }\n",
       "</style>\n",
       "<table border=\"1\" class=\"dataframe\">\n",
       "  <thead>\n",
       "    <tr style=\"text-align: right;\">\n",
       "      <th></th>\n",
       "      <th>0</th>\n",
       "    </tr>\n",
       "  </thead>\n",
       "  <tbody>\n",
       "    <tr>\n",
       "      <th>count</th>\n",
       "      <td>38040.000000</td>\n",
       "    </tr>\n",
       "    <tr>\n",
       "      <th>mean</th>\n",
       "      <td>0.504782</td>\n",
       "    </tr>\n",
       "    <tr>\n",
       "      <th>std</th>\n",
       "      <td>0.389341</td>\n",
       "    </tr>\n",
       "    <tr>\n",
       "      <th>min</th>\n",
       "      <td>0.000000</td>\n",
       "    </tr>\n",
       "    <tr>\n",
       "      <th>25%</th>\n",
       "      <td>0.067581</td>\n",
       "    </tr>\n",
       "    <tr>\n",
       "      <th>50%</th>\n",
       "      <td>0.551679</td>\n",
       "    </tr>\n",
       "    <tr>\n",
       "      <th>75%</th>\n",
       "      <td>0.908788</td>\n",
       "    </tr>\n",
       "    <tr>\n",
       "      <th>max</th>\n",
       "      <td>1.000000</td>\n",
       "    </tr>\n",
       "  </tbody>\n",
       "</table>\n",
       "</div>"
      ],
      "text/plain": [
       "                  0\n",
       "count  38040.000000\n",
       "mean       0.504782\n",
       "std        0.389341\n",
       "min        0.000000\n",
       "25%        0.067581\n",
       "50%        0.551679\n",
       "75%        0.908788\n",
       "max        1.000000"
      ]
     },
     "execution_count": 150,
     "metadata": {},
     "output_type": "execute_result"
    }
   ],
   "source": [
    "pd.DataFrame(y_train_prob3).describe()"
   ]
  },
  {
   "cell_type": "code",
   "execution_count": 152,
   "metadata": {},
   "outputs": [
    {
     "data": {
      "image/png": "[encoded data removed]",
      "text/plain": [
       "<Figure size 432x288 with 1 Axes>"
      ]
     },
     "metadata": {
      "needs_background": "light"
     },
     "output_type": "display_data"
    }
   ],
   "source": [
    "seaborn_confusion_matrix(y_val, y_val_pred3)"
   ]
  },
  {
   "cell_type": "code",
   "execution_count": 153,
   "metadata": {},
   "outputs": [
    {
     "data": {
      "text/plain": [
       "{'Train Accuracy': 0.89,\n",
       " 'Train Precision': 0.88,\n",
       " 'Train Recall': 0.91,\n",
       " 'Train F1': 0.89,\n",
       " 'Validation Accuracy': 0.86,\n",
       " 'Validation Precision': 0.31,\n",
       " 'Validation Recall': 0.84,\n",
       " 'Validation F1': 0.46}"
      ]
     },
     "execution_count": 153,
     "metadata": {},
     "output_type": "execute_result"
    }
   ],
   "source": [
    "compare_classification_metrics(y_train_up, y_train_pred3, y_val, y_val_pred3)"
   ]
  },
  {
   "cell_type": "code",
   "execution_count": 154,
   "metadata": {},
   "outputs": [
    {
     "name": "stdout",
     "output_type": "stream",
     "text": [
      "Adjusted Accuracy: 0.9278451310129058\n",
      "Adjusted Precision: 0.4894957983193277\n",
      "Adjusted Recall: 0.649025069637883\n",
      "Adjusted F1 Score: 0.5580838323353292\n",
      "\n",
      "\n"
     ]
    },
    {
     "data": {
      "image/png": "[encoded data removed]",
      "text/plain": [
       "<Figure size 432x288 with 1 Axes>"
      ]
     },
     "metadata": {
      "needs_background": "light"
     },
     "output_type": "display_data"
    }
   ],
   "source": [
    "y_adj_val3, cm3 = adjust_threshold_and_score (y_val, y_val_prob3, .8, RNN = True)"
   ]
  },
  {
   "cell_type": "markdown",
   "metadata": {},
   "source": [
    "## RNN 3b - Upsampling   \n",
    "increased learning rate to .0001 before, which increased adj F1 to .58... now decreasing again.\n",
    "\n",
    "Decreased learning rate to .00001-->  decreased adjusted F1 to .51\n",
    "\n",
    "Now increasing learning rate to .001  --> reduced F1 to .42 \n",
    "\n",
    "(lr=.0001) and batch size 100 -->. adj F1 is .57 -- maybe reduce batch size again?  \n",
    "\n",
    " ---> reduced batch size to 50 and got F1 of .58, but graph is all straight lines.... try reducing learning rate again to .00001?  --> curved lines, but reduced F1 to .47 by doing this\n",
    " \n",
    " now trying to add dropout - add two dropout layers of .01, and got adjusted F1 to .55\n",
    " \n",
    " now trying to increase dropout to .2"
   ]
  },
  {
   "cell_type": "code",
   "execution_count": 155,
   "metadata": {},
   "outputs": [
    {
     "name": "stdout",
     "output_type": "stream",
     "text": [
      "WARNING:tensorflow:From /Users/flatironschool/anaconda3/lib/python3.7/site-packages/keras/backend/tensorflow_backend.py:3445: calling dropout (from tensorflow.python.ops.nn_ops) with keep_prob is deprecated and will be removed in a future version.\n",
      "Instructions for updating:\n",
      "Please use `rate` instead of `keep_prob`. Rate should be set to `rate = 1 - keep_prob`.\n",
      "_________________________________________________________________\n",
      "Layer (type)                 Output Shape              Param #   \n",
      "=================================================================\n",
      "embedding_12 (Embedding)     (None, 39, 300)           11338500  \n",
      "_________________________________________________________________\n",
      "lstm_21 (LSTM)               (None, 39, 64)            93440     \n",
      "_________________________________________________________________\n",
      "batch_normalization_20 (Batc (None, 39, 64)            256       \n",
      "_________________________________________________________________\n",
      "dropout_1 (Dropout)          (None, 39, 64)            0         \n",
      "_________________________________________________________________\n",
      "lstm_22 (LSTM)               (None, 64)                33024     \n",
      "_________________________________________________________________\n",
      "batch_normalization_21 (Batc (None, 64)                256       \n",
      "_________________________________________________________________\n",
      "dropout_2 (Dropout)          (None, 64)                0         \n",
      "_________________________________________________________________\n",
      "dense_10 (Dense)             (None, 1)                 65        \n",
      "=================================================================\n",
      "Total params: 11,465,541\n",
      "Trainable params: 126,785\n",
      "Non-trainable params: 11,338,756\n",
      "_________________________________________________________________\n",
      "None\n"
     ]
    }
   ],
   "source": [
    "model3b = Sequential()\n",
    "\n",
    "# filepath = 'results/RNN/weights.best.hdf5'\n",
    "\n",
    "callbacks = [EarlyStopping(monitor='val_loss', patience = 10), \n",
    "             ReduceLROnPlateau(monitor='val_loss', patience = 10)]\n",
    "#              ModelCheckpoint(filepath, save_best_only = True, save_weights_only = True)]\n",
    "\n",
    "model3b.add(Embedding(num_words, 300, weights=[embedding_matrix300], input_length= 39, trainable=False))\n",
    "\n",
    "model3b.add(LSTM(64, activation='relu', return_sequences=True))\n",
    "model3b.add(BatchNormalization())\n",
    "model3b.add(Dropout(.2))\n",
    "\n",
    "model3b.add(LSTM(64, activation='relu'))\n",
    "model3b.add(BatchNormalization())\n",
    "model3b.add(Dropout(.2))\n",
    "\n",
    "model3b.add(Dense(1, activation='sigmoid'))\n",
    "\n",
    "model3b.compile(loss='binary_crossentropy', optimizer = rmsprop(lr=.0001), metrics=['accuracy']) \n",
    "\n",
    "print(model3b.summary())"
   ]
  },
  {
   "cell_type": "code",
   "execution_count": 156,
   "metadata": {},
   "outputs": [
    {
     "name": "stdout",
     "output_type": "stream",
     "text": [
      "Train on 38040 samples, validate on 5114 samples\n",
      "Epoch 1/200\n",
      "38040/38040 [==============================] - 341s 9ms/step - loss: 0.4468 - acc: 0.7858 - val_loss: 0.3630 - val_acc: 0.8479\n",
      "Epoch 2/200\n",
      "38040/38040 [==============================] - 257s 7ms/step - loss: 0.3503 - acc: 0.8524 - val_loss: 0.3595 - val_acc: 0.8352\n",
      "Epoch 3/200\n",
      "38040/38040 [==============================] - 264s 7ms/step - loss: 0.3052 - acc: 0.8739 - val_loss: 0.3112 - val_acc: 0.8784\n",
      "Epoch 4/200\n",
      "38040/38040 [==============================] - 256s 7ms/step - loss: 0.2722 - acc: 0.8878 - val_loss: 0.3284 - val_acc: 0.8510\n",
      "Epoch 5/200\n",
      "38040/38040 [==============================] - 257s 7ms/step - loss: 0.2509 - acc: 0.9005 - val_loss: 0.2538 - val_acc: 0.8936\n",
      "Epoch 6/200\n",
      "38040/38040 [==============================] - 255s 7ms/step - loss: 0.2409 - acc: 0.9064 - val_loss: 0.3507 - val_acc: 0.8442\n",
      "Epoch 7/200\n",
      "38040/38040 [==============================] - 253s 7ms/step - loss: 0.2411 - acc: 0.9049 - val_loss: 0.3225 - val_acc: 0.8723\n",
      "Epoch 8/200\n",
      "38040/38040 [==============================] - 255s 7ms/step - loss: 0.2539 - acc: 0.8990 - val_loss: 0.3853 - val_acc: 0.8487\n",
      "Epoch 9/200\n",
      "38040/38040 [==============================] - 260s 7ms/step - loss: 0.2485 - acc: 0.9007 - val_loss: 0.2992 - val_acc: 0.8758\n",
      "Epoch 10/200\n",
      "38040/38040 [==============================] - 254s 7ms/step - loss: 0.2414 - acc: 0.9054 - val_loss: 0.3423 - val_acc: 0.8563\n",
      "Epoch 11/200\n",
      "38040/38040 [==============================] - 255s 7ms/step - loss: 0.2327 - acc: 0.9100 - val_loss: 0.2187 - val_acc: 0.9230\n",
      "Epoch 12/200\n",
      "38040/38040 [==============================] - 254s 7ms/step - loss: 0.2288 - acc: 0.9115 - val_loss: 0.3065 - val_acc: 0.8760\n",
      "Epoch 13/200\n",
      "38040/38040 [==============================] - 254s 7ms/step - loss: 0.2142 - acc: 0.9193 - val_loss: 0.2531 - val_acc: 0.8936\n",
      "Epoch 14/200\n",
      "38040/38040 [==============================] - 258s 7ms/step - loss: 0.2031 - acc: 0.9242 - val_loss: 0.2191 - val_acc: 0.9194\n",
      "Epoch 15/200\n",
      "38040/38040 [==============================] - 256s 7ms/step - loss: 0.1980 - acc: 0.9272 - val_loss: 0.2428 - val_acc: 0.8969\n",
      "Epoch 16/200\n",
      "38040/38040 [==============================] - 259s 7ms/step - loss: 0.1822 - acc: 0.9341 - val_loss: 0.2437 - val_acc: 0.9054\n",
      "Epoch 17/200\n",
      "38040/38040 [==============================] - 255s 7ms/step - loss: 0.1734 - acc: 0.9380 - val_loss: 0.2450 - val_acc: 0.9054\n",
      "Epoch 18/200\n",
      "38040/38040 [==============================] - 255s 7ms/step - loss: 0.1681 - acc: 0.9413 - val_loss: 0.2420 - val_acc: 0.8936\n",
      "Epoch 19/200\n",
      "38040/38040 [==============================] - 256s 7ms/step - loss: 0.1523 - acc: 0.9468 - val_loss: 0.2159 - val_acc: 0.9048\n",
      "Epoch 20/200\n",
      "38040/38040 [==============================] - 257s 7ms/step - loss: 0.1532 - acc: 0.9481 - val_loss: 0.2635 - val_acc: 0.8956\n",
      "Epoch 21/200\n",
      "38040/38040 [==============================] - 256s 7ms/step - loss: 0.1417 - acc: 0.9520 - val_loss: 0.2433 - val_acc: 0.8940\n",
      "Epoch 22/200\n",
      "38040/38040 [==============================] - 259s 7ms/step - loss: 0.1440 - acc: 0.9514 - val_loss: 0.2299 - val_acc: 0.8926\n",
      "Epoch 23/200\n",
      "38040/38040 [==============================] - 255s 7ms/step - loss: 0.1376 - acc: 0.9535 - val_loss: 0.2916 - val_acc: 0.8805\n",
      "Epoch 24/200\n",
      "38040/38040 [==============================] - 254s 7ms/step - loss: 0.1338 - acc: 0.9553 - val_loss: 0.2600 - val_acc: 0.8932\n",
      "Epoch 25/200\n",
      "38040/38040 [==============================] - 257s 7ms/step - loss: 0.1264 - acc: 0.9593 - val_loss: 0.2278 - val_acc: 0.9190\n",
      "Epoch 26/200\n",
      "38040/38040 [==============================] - 255s 7ms/step - loss: 0.1226 - acc: 0.9598 - val_loss: 0.4111 - val_acc: 0.8254\n",
      "Epoch 27/200\n",
      "38040/38040 [==============================] - 255s 7ms/step - loss: 0.1143 - acc: 0.9646 - val_loss: 0.1980 - val_acc: 0.9214\n",
      "Epoch 28/200\n",
      "38040/38040 [==============================] - 257s 7ms/step - loss: 0.1057 - acc: 0.9667 - val_loss: 0.1899 - val_acc: 0.9333\n",
      "Epoch 29/200\n",
      "38040/38040 [==============================] - 257s 7ms/step - loss: 0.1024 - acc: 0.9683 - val_loss: 0.1913 - val_acc: 0.9275\n",
      "Epoch 30/200\n",
      "38040/38040 [==============================] - 254s 7ms/step - loss: 0.1013 - acc: 0.9683 - val_loss: 0.2134 - val_acc: 0.9235\n",
      "Epoch 31/200\n",
      "38040/38040 [==============================] - 262s 7ms/step - loss: 0.0940 - acc: 0.9712 - val_loss: 0.1935 - val_acc: 0.9431\n",
      "Epoch 32/200\n",
      "38040/38040 [==============================] - 265s 7ms/step - loss: 0.0906 - acc: 0.9725 - val_loss: 0.2354 - val_acc: 0.9142\n",
      "Epoch 33/200\n",
      "38040/38040 [==============================] - 257s 7ms/step - loss: 0.0872 - acc: 0.9731 - val_loss: 0.2501 - val_acc: 0.9110\n",
      "Epoch 34/200\n",
      "38040/38040 [==============================] - 258s 7ms/step - loss: 0.0880 - acc: 0.9734 - val_loss: 0.1978 - val_acc: 0.9349\n",
      "Epoch 35/200\n",
      "38040/38040 [==============================] - 255s 7ms/step - loss: 0.0801 - acc: 0.9759 - val_loss: 0.2357 - val_acc: 0.9206\n",
      "Epoch 36/200\n",
      "38040/38040 [==============================] - 256s 7ms/step - loss: 0.0798 - acc: 0.9766 - val_loss: 0.2368 - val_acc: 0.9167\n",
      "Epoch 37/200\n",
      "38040/38040 [==============================] - 254s 7ms/step - loss: 0.0813 - acc: 0.9756 - val_loss: 0.2090 - val_acc: 0.9312\n",
      "Epoch 38/200\n",
      "38040/38040 [==============================] - 255s 7ms/step - loss: 0.0807 - acc: 0.9757 - val_loss: 0.2880 - val_acc: 0.9065\n"
     ]
    }
   ],
   "source": [
    "history = model3b.fit(X_train_up, \n",
    "                    y_train_up,\n",
    "                    epochs=200,\n",
    "                    batch_size=50,\n",
    "                    callbacks=callbacks,\n",
    "                    validation_data=(X_val, y_val))"
   ]
  },
  {
   "cell_type": "code",
   "execution_count": 157,
   "metadata": {},
   "outputs": [],
   "source": [
    "model3b.save('results/RNN/models/model3b.h5', overwrite = True)\n",
    "model3b.save_weights('results/RNN/models/model3b.weights.h5', overwrite = True)\n",
    "# model3b = load_model('results/RNN/models/model3b.h5')"
   ]
  },
  {
   "cell_type": "code",
   "execution_count": 158,
   "metadata": {},
   "outputs": [
    {
     "data": {
      "image/png": "[encoded data removed]",
      "text/plain": [
       "<Figure size 720x288 with 2 Axes>"
      ]
     },
     "metadata": {
      "needs_background": "light"
     },
     "output_type": "display_data"
    }
   ],
   "source": [
    "plot_accuracy_loss ('Model3b', model3b, (0,1), (0,1))"
   ]
  },
  {
   "cell_type": "code",
   "execution_count": 159,
   "metadata": {},
   "outputs": [],
   "source": [
    "y_train_pred3b = model3b.predict_classes(X_train_up, batch_size = 38040)\n",
    "y_val_pred3b = model3b.predict_classes(X_val, batch_size = 5114)\n",
    "y_train_prob3b = model3b.predict_proba(X_train_up, batch_size = 5114)\n",
    "y_val_prob3b = model3b.predict_proba(X_val, batch_size = 38040)"
   ]
  },
  {
   "cell_type": "code",
   "execution_count": 160,
   "metadata": {},
   "outputs": [
    {
     "data": {
      "text/html": [
       "<div>\n",
       "<style scoped>\n",
       "    .dataframe tbody tr th:only-of-type {\n",
       "        vertical-align: middle;\n",
       "    }\n",
       "\n",
       "    .dataframe tbody tr th {\n",
       "        vertical-align: top;\n",
       "    }\n",
       "\n",
       "    .dataframe thead th {\n",
       "        text-align: right;\n",
       "    }\n",
       "</style>\n",
       "<table border=\"1\" class=\"dataframe\">\n",
       "  <thead>\n",
       "    <tr style=\"text-align: right;\">\n",
       "      <th></th>\n",
       "      <th>0</th>\n",
       "    </tr>\n",
       "  </thead>\n",
       "  <tbody>\n",
       "    <tr>\n",
       "      <th>count</th>\n",
       "      <td>38040.000000</td>\n",
       "    </tr>\n",
       "    <tr>\n",
       "      <th>mean</th>\n",
       "      <td>0.514009</td>\n",
       "    </tr>\n",
       "    <tr>\n",
       "      <th>std</th>\n",
       "      <td>0.477402</td>\n",
       "    </tr>\n",
       "    <tr>\n",
       "      <th>min</th>\n",
       "      <td>0.000000</td>\n",
       "    </tr>\n",
       "    <tr>\n",
       "      <th>25%</th>\n",
       "      <td>0.003928</td>\n",
       "    </tr>\n",
       "    <tr>\n",
       "      <th>50%</th>\n",
       "      <td>0.901771</td>\n",
       "    </tr>\n",
       "    <tr>\n",
       "      <th>75%</th>\n",
       "      <td>0.980069</td>\n",
       "    </tr>\n",
       "    <tr>\n",
       "      <th>max</th>\n",
       "      <td>1.000000</td>\n",
       "    </tr>\n",
       "  </tbody>\n",
       "</table>\n",
       "</div>"
      ],
      "text/plain": [
       "                  0\n",
       "count  38040.000000\n",
       "mean       0.514009\n",
       "std        0.477402\n",
       "min        0.000000\n",
       "25%        0.003928\n",
       "50%        0.901771\n",
       "75%        0.980069\n",
       "max        1.000000"
      ]
     },
     "execution_count": 160,
     "metadata": {},
     "output_type": "execute_result"
    }
   ],
   "source": [
    "pd.DataFrame(y_train_prob3b).describe()"
   ]
  },
  {
   "cell_type": "code",
   "execution_count": 162,
   "metadata": {},
   "outputs": [
    {
     "data": {
      "image/png": "[encoded data removed]",
      "text/plain": [
       "<Figure size 432x288 with 1 Axes>"
      ]
     },
     "metadata": {
      "needs_background": "light"
     },
     "output_type": "display_data"
    }
   ],
   "source": [
    "seaborn_confusion_matrix(y_val, y_val_pred3b)"
   ]
  },
  {
   "cell_type": "code",
   "execution_count": 163,
   "metadata": {},
   "outputs": [
    {
     "data": {
      "text/plain": [
       "{'Train Accuracy': 0.98,\n",
       " 'Train Precision': 0.95,\n",
       " 'Train Recall': 1.0,\n",
       " 'Train F1': 0.98,\n",
       " 'Validation Accuracy': 0.91,\n",
       " 'Validation Precision': 0.41,\n",
       " 'Validation Recall': 0.76,\n",
       " 'Validation F1': 0.53}"
      ]
     },
     "execution_count": 163,
     "metadata": {},
     "output_type": "execute_result"
    }
   ],
   "source": [
    "compare_classification_metrics(y_train_up, y_train_pred3b, y_val, y_val_pred3b)"
   ]
  },
  {
   "cell_type": "code",
   "execution_count": 164,
   "metadata": {},
   "outputs": [
    {
     "name": "stdout",
     "output_type": "stream",
     "text": [
      "Adjusted Accuracy: 0.9225655064528745\n",
      "Adjusted Precision: 0.466786355475763\n",
      "Adjusted Recall: 0.724233983286908\n",
      "Adjusted F1 Score: 0.5676855895196506\n",
      "\n",
      "\n"
     ]
    },
    {
     "data": {
      "image/png": "[encoded data removed]",
      "text/plain": [
       "<Figure size 432x288 with 1 Axes>"
      ]
     },
     "metadata": {
      "needs_background": "light"
     },
     "output_type": "display_data"
    }
   ],
   "source": [
    "y_adj_val3b, cm3b = adjust_threshold_and_score(y_val, y_val_prob3b, .8, RNN = True)"
   ]
  },
  {
   "cell_type": "markdown",
   "metadata": {},
   "source": [
    "## RNN 3c - upsampling - removing dropout"
   ]
  },
  {
   "cell_type": "code",
   "execution_count": 166,
   "metadata": {},
   "outputs": [
    {
     "name": "stdout",
     "output_type": "stream",
     "text": [
      "_________________________________________________________________\n",
      "Layer (type)                 Output Shape              Param #   \n",
      "=================================================================\n",
      "embedding_13 (Embedding)     (None, 39, 300)           11338500  \n",
      "_________________________________________________________________\n",
      "lstm_23 (LSTM)               (None, 39, 64)            93440     \n",
      "_________________________________________________________________\n",
      "batch_normalization_22 (Batc (None, 39, 64)            256       \n",
      "_________________________________________________________________\n",
      "lstm_24 (LSTM)               (None, 64)                33024     \n",
      "_________________________________________________________________\n",
      "batch_normalization_23 (Batc (None, 64)                256       \n",
      "_________________________________________________________________\n",
      "dense_11 (Dense)             (None, 1)                 65        \n",
      "=================================================================\n",
      "Total params: 11,465,541\n",
      "Trainable params: 126,785\n",
      "Non-trainable params: 11,338,756\n",
      "_________________________________________________________________\n",
      "None\n"
     ]
    }
   ],
   "source": [
    "model3c = Sequential()\n",
    "\n",
    "# filepath = 'results/RNN/weights_3c.best.hdf5'\n",
    "\n",
    "callbacks = [EarlyStopping(monitor='val_loss', patience = 10), \n",
    "             ReduceLROnPlateau(monitor='val_loss', patience = 10)]\n",
    "#              ModelCheckpoint(filepath, save_best_only = True, save_weights_only = True)]\n",
    "\n",
    "model3c.add(Embedding(num_words, 300, weights=[embedding_matrix300], input_length= 39, trainable=False))\n",
    "\n",
    "model3c.add(LSTM(64, activation='relu', return_sequences=True))\n",
    "model3c.add(BatchNormalization())\n",
    "\n",
    "model3c.add(LSTM(64, activation='relu'))\n",
    "model3c.add(BatchNormalization())\n",
    "\n",
    "model3c.add(Dense(1, activation='sigmoid'))\n",
    "\n",
    "model3c.compile(loss='binary_crossentropy', optimizer = rmsprop(lr=.0001), metrics=['accuracy']) #optimizer=Adam\n",
    "\n",
    "print(model3c.summary())"
   ]
  },
  {
   "cell_type": "code",
   "execution_count": 167,
   "metadata": {},
   "outputs": [
    {
     "name": "stdout",
     "output_type": "stream",
     "text": [
      "Train on 38040 samples, validate on 5114 samples\n",
      "Epoch 1/200\n",
      "38040/38040 [==============================] - 316s 8ms/step - loss: 0.4111 - acc: 0.8128 - val_loss: 0.3496 - val_acc: 0.8481\n",
      "Epoch 2/200\n",
      "38040/38040 [==============================] - 286s 8ms/step - loss: 0.3003 - acc: 0.8754 - val_loss: 0.2994 - val_acc: 0.8887\n",
      "Epoch 3/200\n",
      "38040/38040 [==============================] - 279s 7ms/step - loss: 0.2476 - acc: 0.9021 - val_loss: 0.3965 - val_acc: 0.8283\n",
      "Epoch 4/200\n",
      "38040/38040 [==============================] - 282s 7ms/step - loss: 0.2000 - acc: 0.9252 - val_loss: 0.1809 - val_acc: 0.9345\n",
      "Epoch 5/200\n",
      "38040/38040 [==============================] - 7726s 203ms/step - loss: 0.1670 - acc: 0.9400 - val_loss: 0.3994 - val_acc: 0.8387\n",
      "Epoch 6/200\n",
      "38040/38040 [==============================] - 328s 9ms/step - loss: 0.1377 - acc: 0.9537 - val_loss: 0.2566 - val_acc: 0.9126\n",
      "Epoch 7/200\n",
      "38040/38040 [==============================] - 300s 8ms/step - loss: 0.1164 - acc: 0.9626 - val_loss: 0.2043 - val_acc: 0.9288\n",
      "Epoch 8/200\n",
      "38040/38040 [==============================] - 277s 7ms/step - loss: 0.1054 - acc: 0.9662 - val_loss: 0.2341 - val_acc: 0.9278\n",
      "Epoch 9/200\n",
      "38040/38040 [==============================] - 336s 9ms/step - loss: 0.0926 - acc: 0.9719 - val_loss: 0.2583 - val_acc: 0.9145\n",
      "Epoch 10/200\n",
      "38040/38040 [==============================] - 297s 8ms/step - loss: 0.0822 - acc: 0.9757 - val_loss: 0.2423 - val_acc: 0.9320\n",
      "Epoch 11/200\n",
      "38040/38040 [==============================] - 294s 8ms/step - loss: 0.0737 - acc: 0.9779 - val_loss: 0.2310 - val_acc: 0.9359\n",
      "Epoch 12/200\n",
      "38040/38040 [==============================] - 291s 8ms/step - loss: 0.0685 - acc: 0.9798 - val_loss: 0.3470 - val_acc: 0.8995\n",
      "Epoch 13/200\n",
      "38040/38040 [==============================] - 292s 8ms/step - loss: 0.0628 - acc: 0.9826 - val_loss: 0.2486 - val_acc: 0.9357\n",
      "Epoch 14/200\n",
      "38040/38040 [==============================] - 293s 8ms/step - loss: 0.0573 - acc: 0.9840 - val_loss: 0.2497 - val_acc: 0.9372\n"
     ]
    }
   ],
   "source": [
    "history = model3c.fit(X_train_up, \n",
    "                    y_train_up,\n",
    "                    epochs=200,\n",
    "                    batch_size=50,\n",
    "                    callbacks=callbacks,\n",
    "                    validation_data=(X_val, y_val))"
   ]
  },
  {
   "cell_type": "code",
   "execution_count": 168,
   "metadata": {},
   "outputs": [],
   "source": [
    "model3c.save('results/RNN/models/model3c.h5', overwrite = True)\n",
    "model3c.save_weights('results/RNN/models/model3c.weights.h5', overwrite = True)\n",
    "# model3 = load_model('results/RNN/models/model3c.h5')"
   ]
  },
  {
   "cell_type": "code",
   "execution_count": 188,
   "metadata": {},
   "outputs": [
    {
     "data": {
      "image/png": "[encoded data removed]",
      "text/plain": [
       "<Figure size 720x288 with 2 Axes>"
      ]
     },
     "metadata": {
      "needs_background": "light"
     },
     "output_type": "display_data"
    }
   ],
   "source": [
    "plot_accuracy_loss ('Model3c', model3c, (0,1), (0,1))"
   ]
  },
  {
   "cell_type": "code",
   "execution_count": 170,
   "metadata": {},
   "outputs": [],
   "source": [
    "y_train_pred3c = model3c.predict_classes(X_train_up, batch_size = 38040)\n",
    "y_val_pred3c = model3c.predict_classes(X_val, batch_size = 5114)\n",
    "y_train_prob3c = model3c.predict_proba(X_train_up, batch_size = 38040)\n",
    "y_val_prob3c = model3c.predict_proba(X_val, batch_size = 5114)"
   ]
  },
  {
   "cell_type": "code",
   "execution_count": 171,
   "metadata": {
    "collapsed": true
   },
   "outputs": [
    {
     "data": {
      "text/html": [
       "<div>\n",
       "<style scoped>\n",
       "    .dataframe tbody tr th:only-of-type {\n",
       "        vertical-align: middle;\n",
       "    }\n",
       "\n",
       "    .dataframe tbody tr th {\n",
       "        vertical-align: top;\n",
       "    }\n",
       "\n",
       "    .dataframe thead th {\n",
       "        text-align: right;\n",
       "    }\n",
       "</style>\n",
       "<table border=\"1\" class=\"dataframe\">\n",
       "  <thead>\n",
       "    <tr style=\"text-align: right;\">\n",
       "      <th></th>\n",
       "      <th>0</th>\n",
       "    </tr>\n",
       "  </thead>\n",
       "  <tbody>\n",
       "    <tr>\n",
       "      <th>count</th>\n",
       "      <td>38040.000000</td>\n",
       "    </tr>\n",
       "    <tr>\n",
       "      <th>mean</th>\n",
       "      <td>0.501919</td>\n",
       "    </tr>\n",
       "    <tr>\n",
       "      <th>std</th>\n",
       "      <td>0.500003</td>\n",
       "    </tr>\n",
       "    <tr>\n",
       "      <th>min</th>\n",
       "      <td>0.000000</td>\n",
       "    </tr>\n",
       "    <tr>\n",
       "      <th>25%</th>\n",
       "      <td>0.000000</td>\n",
       "    </tr>\n",
       "    <tr>\n",
       "      <th>50%</th>\n",
       "      <td>1.000000</td>\n",
       "    </tr>\n",
       "    <tr>\n",
       "      <th>75%</th>\n",
       "      <td>1.000000</td>\n",
       "    </tr>\n",
       "    <tr>\n",
       "      <th>max</th>\n",
       "      <td>1.000000</td>\n",
       "    </tr>\n",
       "  </tbody>\n",
       "</table>\n",
       "</div>"
      ],
      "text/plain": [
       "                  0\n",
       "count  38040.000000\n",
       "mean       0.501919\n",
       "std        0.500003\n",
       "min        0.000000\n",
       "25%        0.000000\n",
       "50%        1.000000\n",
       "75%        1.000000\n",
       "max        1.000000"
      ]
     },
     "execution_count": 171,
     "metadata": {},
     "output_type": "execute_result"
    }
   ],
   "source": [
    "pd.DataFrame(y_train_pred3c).describe()"
   ]
  },
  {
   "cell_type": "code",
   "execution_count": 174,
   "metadata": {},
   "outputs": [
    {
     "data": {
      "text/plain": [
       "{'Train Accuracy': 0.99,\n",
       " 'Train Precision': 0.99,\n",
       " 'Train Recall': 0.99,\n",
       " 'Train F1': 0.99,\n",
       " 'Validation Accuracy': 0.94,\n",
       " 'Validation Precision': 0.55,\n",
       " 'Validation Recall': 0.62,\n",
       " 'Validation F1': 0.58}"
      ]
     },
     "execution_count": 174,
     "metadata": {},
     "output_type": "execute_result"
    }
   ],
   "source": [
    "compare_classification_metrics(y_train_up, y_train_pred3c, y_val, y_val_pred3c)"
   ]
  },
  {
   "cell_type": "code",
   "execution_count": 185,
   "metadata": {},
   "outputs": [
    {
     "name": "stdout",
     "output_type": "stream",
     "text": [
      "Adjusted Accuracy: 0.9372311302307391\n",
      "Adjusted Precision: 0.5467980295566502\n",
      "Adjusted Recall: 0.6183844011142061\n",
      "Adjusted F1 Score: 0.580392156862745\n",
      "\n",
      "\n"
     ]
    },
    {
     "data": {
      "image/png": "[encoded data removed]",
      "text/plain": [
       "<Figure size 432x288 with 1 Axes>"
      ]
     },
     "metadata": {
      "needs_background": "light"
     },
     "output_type": "display_data"
    }
   ],
   "source": [
    "y_adj_val3c, cm3c = adjust_threshold_and_score(y_val, y_val_pred3c, .001, RNN = True)"
   ]
  },
  {
   "cell_type": "markdown",
   "metadata": {},
   "source": [
    "## RNN 3c2c - upsampling with increased patience, epochs and lower learning rate"
   ]
  },
  {
   "cell_type": "code",
   "execution_count": 226,
   "metadata": {},
   "outputs": [
    {
     "name": "stdout",
     "output_type": "stream",
     "text": [
      "_________________________________________________________________\n",
      "Layer (type)                 Output Shape              Param #   \n",
      "=================================================================\n",
      "embedding_21 (Embedding)     (None, 39, 300)           11338500  \n",
      "_________________________________________________________________\n",
      "lstm_36 (LSTM)               (None, 39, 64)            93440     \n",
      "_________________________________________________________________\n",
      "batch_normalization_35 (Batc (None, 39, 64)            256       \n",
      "_________________________________________________________________\n",
      "lstm_37 (LSTM)               (None, 64)                33024     \n",
      "_________________________________________________________________\n",
      "batch_normalization_36 (Batc (None, 64)                256       \n",
      "_________________________________________________________________\n",
      "dense_17 (Dense)             (None, 1)                 65        \n",
      "=================================================================\n",
      "Total params: 11,465,541\n",
      "Trainable params: 126,785\n",
      "Non-trainable params: 11,338,756\n",
      "_________________________________________________________________\n",
      "None\n"
     ]
    }
   ],
   "source": [
    "model3c2c = Sequential()\n",
    "\n",
    "# filepath = 'results/RNN/weights_3c2c.best.hdf5'\n",
    "\n",
    "callbacks = [EarlyStopping(monitor='val_loss', patience = 30), \n",
    "             ReduceLROnPlateau(monitor='val_loss', patience = 30)]\n",
    "#              ModelCheckpoint(filepath, save_best_only = True, save_weights_only = True)]\n",
    "\n",
    "model3c2c.add(Embedding(num_words, 300, weights=[embedding_matrix300], input_length= 39, trainable=False))\n",
    "\n",
    "model3c2c.add(LSTM(64, activation='relu', return_sequences=True))\n",
    "model3c2c.add(BatchNormalization())\n",
    "\n",
    "model3c2c.add(LSTM(64, activation='relu'))\n",
    "model3c2c.add(BatchNormalization())\n",
    "\n",
    "model3c2c.add(Dense(1, activation='sigmoid'))\n",
    "\n",
    "model3c2c.compile(loss='binary_crossentropy', optimizer = rmsprop(lr=.00001), metrics=['accuracy']) #optimizer=Adam\n",
    "\n",
    "print(model3c2c.summary())"
   ]
  },
  {
   "cell_type": "code",
   "execution_count": 227,
   "metadata": {},
   "outputs": [
    {
     "name": "stdout",
     "output_type": "stream",
     "text": [
      "Train on 38040 samples, validate on 5114 samples\n",
      "Epoch 1/250\n",
      "38040/38040 [==============================] - 259s 7ms/step - loss: 0.6697 - acc: 0.6157 - val_loss: 0.6976 - val_acc: 0.5624\n",
      "Epoch 2/250\n",
      "38040/38040 [==============================] - 219s 6ms/step - loss: 0.4842 - acc: 0.7832 - val_loss: 0.4969 - val_acc: 0.7673\n",
      "Epoch 3/250\n",
      "38040/38040 [==============================] - 215s 6ms/step - loss: 0.3915 - acc: 0.8254 - val_loss: 0.3985 - val_acc: 0.8224\n",
      "Epoch 4/250\n",
      "38040/38040 [==============================] - 215s 6ms/step - loss: 0.3634 - acc: 0.8406 - val_loss: 0.3644 - val_acc: 0.8412\n",
      "Epoch 5/250\n",
      "38040/38040 [==============================] - 214s 6ms/step - loss: 0.3479 - acc: 0.8511 - val_loss: 0.3937 - val_acc: 0.8219\n",
      "Epoch 6/250\n",
      "38040/38040 [==============================] - 214s 6ms/step - loss: 0.3365 - acc: 0.8560 - val_loss: 0.4000 - val_acc: 0.8156\n",
      "Epoch 7/250\n",
      "38040/38040 [==============================] - 214s 6ms/step - loss: 0.3272 - acc: 0.8620 - val_loss: 0.3635 - val_acc: 0.8367\n",
      "Epoch 8/250\n",
      "38040/38040 [==============================] - 215s 6ms/step - loss: 0.3172 - acc: 0.8667 - val_loss: 0.3974 - val_acc: 0.8164\n",
      "Epoch 9/250\n",
      "38040/38040 [==============================] - 216s 6ms/step - loss: 0.3097 - acc: 0.8709 - val_loss: 0.3604 - val_acc: 0.8434\n",
      "Epoch 10/250\n",
      "38040/38040 [==============================] - 214s 6ms/step - loss: 0.3026 - acc: 0.8740 - val_loss: 0.3271 - val_acc: 0.8584\n",
      "Epoch 11/250\n",
      "38040/38040 [==============================] - 215s 6ms/step - loss: 0.2945 - acc: 0.8804 - val_loss: 0.3273 - val_acc: 0.8569\n",
      "Epoch 12/250\n",
      "38040/38040 [==============================] - 215s 6ms/step - loss: 0.2858 - acc: 0.8832 - val_loss: 0.3317 - val_acc: 0.8531\n",
      "Epoch 13/250\n",
      "38040/38040 [==============================] - 214s 6ms/step - loss: 0.2789 - acc: 0.8864 - val_loss: 0.3325 - val_acc: 0.8526\n",
      "Epoch 14/250\n",
      "38040/38040 [==============================] - 214s 6ms/step - loss: 0.2683 - acc: 0.8920 - val_loss: 0.3411 - val_acc: 0.8443\n",
      "Epoch 15/250\n",
      "38040/38040 [==============================] - 215s 6ms/step - loss: 0.2650 - acc: 0.8948 - val_loss: 0.3088 - val_acc: 0.8635\n",
      "Epoch 16/250\n",
      "38040/38040 [==============================] - 215s 6ms/step - loss: 0.2562 - acc: 0.8988 - val_loss: 0.2976 - val_acc: 0.8682\n",
      "Epoch 17/250\n",
      "38040/38040 [==============================] - 216s 6ms/step - loss: 0.2512 - acc: 0.9009 - val_loss: 0.3065 - val_acc: 0.8666\n",
      "Epoch 18/250\n",
      "38040/38040 [==============================] - 215s 6ms/step - loss: 0.2431 - acc: 0.9042 - val_loss: 0.2971 - val_acc: 0.8719\n",
      "Epoch 19/250\n",
      "38040/38040 [==============================] - 215s 6ms/step - loss: 0.2362 - acc: 0.9081 - val_loss: 0.3295 - val_acc: 0.8567\n",
      "Epoch 20/250\n",
      "38040/38040 [==============================] - 215s 6ms/step - loss: 0.2286 - acc: 0.9118 - val_loss: 0.3056 - val_acc: 0.8706\n",
      "Epoch 21/250\n",
      "38040/38040 [==============================] - 214s 6ms/step - loss: 0.2232 - acc: 0.9154 - val_loss: 0.3203 - val_acc: 0.8629\n",
      "Epoch 22/250\n",
      "38040/38040 [==============================] - 215s 6ms/step - loss: 0.2152 - acc: 0.9193 - val_loss: 0.3155 - val_acc: 0.8637\n",
      "Epoch 23/250\n",
      "38040/38040 [==============================] - 214s 6ms/step - loss: 0.2094 - acc: 0.9217 - val_loss: 0.2840 - val_acc: 0.8805\n",
      "Epoch 24/250\n",
      "38040/38040 [==============================] - 216s 6ms/step - loss: 0.2016 - acc: 0.9268 - val_loss: 0.2949 - val_acc: 0.8743\n",
      "Epoch 25/250\n",
      "38040/38040 [==============================] - 215s 6ms/step - loss: 0.1983 - acc: 0.9263 - val_loss: 0.3000 - val_acc: 0.8727\n",
      "Epoch 26/250\n",
      "38040/38040 [==============================] - 215s 6ms/step - loss: 0.1929 - acc: 0.9297 - val_loss: 0.2946 - val_acc: 0.8797\n",
      "Epoch 27/250\n",
      "38040/38040 [==============================] - 215s 6ms/step - loss: 0.1886 - acc: 0.9311 - val_loss: 0.2703 - val_acc: 0.8893\n",
      "Epoch 28/250\n",
      "38040/38040 [==============================] - 214s 6ms/step - loss: 0.1816 - acc: 0.9357 - val_loss: 0.3233 - val_acc: 0.8739\n",
      "Epoch 29/250\n",
      "38040/38040 [==============================] - 216s 6ms/step - loss: 0.1777 - acc: 0.9365 - val_loss: 0.2612 - val_acc: 0.8926\n",
      "Epoch 30/250\n",
      "38040/38040 [==============================] - 214s 6ms/step - loss: 0.1725 - acc: 0.9393 - val_loss: 0.3039 - val_acc: 0.8819\n",
      "Epoch 31/250\n",
      "38040/38040 [==============================] - 215s 6ms/step - loss: 0.1666 - acc: 0.9417 - val_loss: 0.2891 - val_acc: 0.8819\n",
      "Epoch 32/250\n",
      "38040/38040 [==============================] - 215s 6ms/step - loss: 0.1619 - acc: 0.9447 - val_loss: 0.2910 - val_acc: 0.8860\n",
      "Epoch 33/250\n",
      "38040/38040 [==============================] - 215s 6ms/step - loss: 0.1584 - acc: 0.9470 - val_loss: 0.2401 - val_acc: 0.9028\n",
      "Epoch 34/250\n",
      "38040/38040 [==============================] - 215s 6ms/step - loss: 0.1532 - acc: 0.9487 - val_loss: 0.2548 - val_acc: 0.9036\n",
      "Epoch 35/250\n",
      "38040/38040 [==============================] - 214s 6ms/step - loss: 0.1501 - acc: 0.9494 - val_loss: 0.2602 - val_acc: 0.8977\n",
      "Epoch 36/250\n",
      "38040/38040 [==============================] - 215s 6ms/step - loss: 0.1439 - acc: 0.9521 - val_loss: 0.2645 - val_acc: 0.8964\n",
      "Epoch 37/250\n",
      "38040/38040 [==============================] - 216s 6ms/step - loss: 0.1416 - acc: 0.9538 - val_loss: 0.2467 - val_acc: 0.9046\n",
      "Epoch 38/250\n",
      "38040/38040 [==============================] - 215s 6ms/step - loss: 0.1395 - acc: 0.9543 - val_loss: 0.2626 - val_acc: 0.8968\n",
      "Epoch 39/250\n",
      "38040/38040 [==============================] - 215s 6ms/step - loss: 0.1327 - acc: 0.9561 - val_loss: 0.2768 - val_acc: 0.8975\n",
      "Epoch 40/250\n",
      "38040/38040 [==============================] - 215s 6ms/step - loss: 0.1310 - acc: 0.9581 - val_loss: 0.3062 - val_acc: 0.8876\n",
      "Epoch 41/250\n",
      "38040/38040 [==============================] - 219s 6ms/step - loss: 0.1283 - acc: 0.9592 - val_loss: 0.2934 - val_acc: 0.8907\n",
      "Epoch 42/250\n",
      "38040/38040 [==============================] - 216s 6ms/step - loss: 0.1242 - acc: 0.9599 - val_loss: 0.2813 - val_acc: 0.8964\n",
      "Epoch 43/250\n",
      "38040/38040 [==============================] - 216s 6ms/step - loss: 0.1217 - acc: 0.9615 - val_loss: 0.2483 - val_acc: 0.9059\n",
      "Epoch 44/250\n",
      "38040/38040 [==============================] - 216s 6ms/step - loss: 0.1171 - acc: 0.9629 - val_loss: 0.2772 - val_acc: 0.9014\n",
      "Epoch 45/250\n",
      "38040/38040 [==============================] - 215s 6ms/step - loss: 0.1138 - acc: 0.9639 - val_loss: 0.2495 - val_acc: 0.9120\n",
      "Epoch 46/250\n",
      "38040/38040 [==============================] - 215s 6ms/step - loss: 0.1124 - acc: 0.9660 - val_loss: 0.2432 - val_acc: 0.9196\n",
      "Epoch 47/250\n",
      "38040/38040 [==============================] - 216s 6ms/step - loss: 0.1086 - acc: 0.9667 - val_loss: 0.3175 - val_acc: 0.8911\n",
      "Epoch 48/250\n",
      "38040/38040 [==============================] - 215s 6ms/step - loss: 0.1070 - acc: 0.9666 - val_loss: 0.2279 - val_acc: 0.9216\n",
      "Epoch 49/250\n",
      "38040/38040 [==============================] - 215s 6ms/step - loss: 0.1035 - acc: 0.9685 - val_loss: 0.2384 - val_acc: 0.9194\n",
      "Epoch 50/250\n",
      "38040/38040 [==============================] - 215s 6ms/step - loss: 0.1015 - acc: 0.9687 - val_loss: 0.2446 - val_acc: 0.9153\n",
      "Epoch 51/250\n",
      "38040/38040 [==============================] - 216s 6ms/step - loss: 0.1000 - acc: 0.9698 - val_loss: 0.2648 - val_acc: 0.9093\n",
      "Epoch 52/250\n",
      "38040/38040 [==============================] - 215s 6ms/step - loss: 0.0965 - acc: 0.9713 - val_loss: 0.2792 - val_acc: 0.9057\n",
      "Epoch 53/250\n",
      "38040/38040 [==============================] - 215s 6ms/step - loss: 0.0959 - acc: 0.9711 - val_loss: 0.2600 - val_acc: 0.9101\n",
      "Epoch 54/250\n",
      "38040/38040 [==============================] - 216s 6ms/step - loss: 0.0941 - acc: 0.9715 - val_loss: 0.2679 - val_acc: 0.9083\n",
      "Epoch 55/250\n",
      "38040/38040 [==============================] - 215s 6ms/step - loss: 0.0910 - acc: 0.9730 - val_loss: 0.2817 - val_acc: 0.9104\n",
      "Epoch 56/250\n",
      "38040/38040 [==============================] - 215s 6ms/step - loss: 0.0890 - acc: 0.9741 - val_loss: 0.2780 - val_acc: 0.9091\n",
      "Epoch 57/250\n",
      "38040/38040 [==============================] - 215s 6ms/step - loss: 0.0851 - acc: 0.9761 - val_loss: 0.2825 - val_acc: 0.9075\n",
      "Epoch 58/250\n",
      "38040/38040 [==============================] - 215s 6ms/step - loss: 0.0839 - acc: 0.9753 - val_loss: 0.2792 - val_acc: 0.9130\n",
      "Epoch 59/250\n"
     ]
    },
    {
     "name": "stdout",
     "output_type": "stream",
     "text": [
      "38040/38040 [==============================] - 214s 6ms/step - loss: 0.0847 - acc: 0.9755 - val_loss: 0.2416 - val_acc: 0.9265\n",
      "Epoch 60/250\n",
      "38040/38040 [==============================] - 213s 6ms/step - loss: 0.0795 - acc: 0.9771 - val_loss: 0.2582 - val_acc: 0.9247\n",
      "Epoch 61/250\n",
      "38040/38040 [==============================] - 214s 6ms/step - loss: 0.0789 - acc: 0.9770 - val_loss: 0.2518 - val_acc: 0.9237\n",
      "Epoch 62/250\n",
      "38040/38040 [==============================] - 215s 6ms/step - loss: 0.0770 - acc: 0.9781 - val_loss: 0.2460 - val_acc: 0.9284\n",
      "Epoch 63/250\n",
      "38040/38040 [==============================] - 214s 6ms/step - loss: 0.0765 - acc: 0.9780 - val_loss: 0.2542 - val_acc: 0.9273\n",
      "Epoch 64/250\n",
      "38040/38040 [==============================] - 214s 6ms/step - loss: 0.0742 - acc: 0.9787 - val_loss: 0.2773 - val_acc: 0.9185\n",
      "Epoch 65/250\n",
      "38040/38040 [==============================] - 215s 6ms/step - loss: 0.0718 - acc: 0.9797 - val_loss: 0.2676 - val_acc: 0.9183\n",
      "Epoch 66/250\n",
      "38040/38040 [==============================] - 214s 6ms/step - loss: 0.0704 - acc: 0.9804 - val_loss: 0.2485 - val_acc: 0.9271\n",
      "Epoch 67/250\n",
      "38040/38040 [==============================] - 215s 6ms/step - loss: 0.0701 - acc: 0.9793 - val_loss: 0.2649 - val_acc: 0.9247\n",
      "Epoch 68/250\n",
      "38040/38040 [==============================] - 214s 6ms/step - loss: 0.0680 - acc: 0.9810 - val_loss: 0.2446 - val_acc: 0.9312\n",
      "Epoch 69/250\n",
      "38040/38040 [==============================] - 214s 6ms/step - loss: 0.0668 - acc: 0.9811 - val_loss: 0.2751 - val_acc: 0.9218\n",
      "Epoch 70/250\n",
      "38040/38040 [==============================] - 214s 6ms/step - loss: 0.0649 - acc: 0.9816 - val_loss: 0.2772 - val_acc: 0.9222\n",
      "Epoch 71/250\n",
      "38040/38040 [==============================] - 214s 6ms/step - loss: 0.0624 - acc: 0.9830 - val_loss: 0.2706 - val_acc: 0.9253\n",
      "Epoch 72/250\n",
      "38040/38040 [==============================] - 215s 6ms/step - loss: 0.0618 - acc: 0.9828 - val_loss: 0.2803 - val_acc: 0.9259\n",
      "Epoch 73/250\n",
      "38040/38040 [==============================] - 215s 6ms/step - loss: 0.0613 - acc: 0.9825 - val_loss: 0.2684 - val_acc: 0.9292\n",
      "Epoch 74/250\n",
      "38040/38040 [==============================] - 215s 6ms/step - loss: 0.0611 - acc: 0.9827 - val_loss: 0.2944 - val_acc: 0.9222\n",
      "Epoch 75/250\n",
      "38040/38040 [==============================] - 215s 6ms/step - loss: 0.0588 - acc: 0.9834 - val_loss: 0.3044 - val_acc: 0.9226\n",
      "Epoch 76/250\n",
      "38040/38040 [==============================] - 215s 6ms/step - loss: 0.0571 - acc: 0.9844 - val_loss: 0.2686 - val_acc: 0.9290\n",
      "Epoch 77/250\n",
      "38040/38040 [==============================] - 216s 6ms/step - loss: 0.0572 - acc: 0.9844 - val_loss: 0.2467 - val_acc: 0.9351\n",
      "Epoch 78/250\n",
      "38040/38040 [==============================] - 215s 6ms/step - loss: 0.0534 - acc: 0.9852 - val_loss: 0.3236 - val_acc: 0.9138\n"
     ]
    }
   ],
   "source": [
    "history = model3c2c.fit(X_train_up, \n",
    "                    y_train_up,\n",
    "                    epochs=250,\n",
    "                    batch_size=50,\n",
    "                    callbacks=callbacks,\n",
    "                    validation_data=(X_val, y_val))"
   ]
  },
  {
   "cell_type": "code",
   "execution_count": 228,
   "metadata": {},
   "outputs": [],
   "source": [
    "model3c2c.save('results/RNN/models/model3c2c.h5', overwrite = True)\n",
    "model3c2c.save_weights('results/RNN/models/model3c2c.weights.h5', overwrite = True)\n",
    "# model3c2c = load_model('results/RNN/models/model3c2c.h5')"
   ]
  },
  {
   "cell_type": "code",
   "execution_count": 229,
   "metadata": {},
   "outputs": [
    {
     "data": {
      "image/png": "[encoded data removed]",
      "text/plain": [
       "<Figure size 720x288 with 2 Axes>"
      ]
     },
     "metadata": {
      "needs_background": "light"
     },
     "output_type": "display_data"
    }
   ],
   "source": [
    "plot_accuracy_loss('Model 3c2c', model3c2c, (.2, 1), ((.2, .8)))"
   ]
  },
  {
   "cell_type": "code",
   "execution_count": 230,
   "metadata": {},
   "outputs": [],
   "source": [
    "y_train_pred3c2c= model3c2c.predict_classes(X_train_up, batch_size = 38040)\n",
    "y_val_pred3c2c= model3c2c.predict_classes(X_val, batch_size = 5114)\n",
    "y_train_prob3c2c = model3c2c.predict_proba(X_train_up, batch_size = 38040)\n",
    "y_val_prob3c2c = model3c2c.predict_proba(X_val, batch_size = 5114)"
   ]
  },
  {
   "cell_type": "code",
   "execution_count": 231,
   "metadata": {
    "scrolled": true
   },
   "outputs": [
    {
     "data": {
      "text/plain": [
       "{'Train Accuracy': 0.98,\n",
       " 'Train Precision': 0.97,\n",
       " 'Train Recall': 1.0,\n",
       " 'Train F1': 0.98,\n",
       " 'Validation Accuracy': 0.91,\n",
       " 'Validation Precision': 0.43,\n",
       " 'Validation Recall': 0.7,\n",
       " 'Validation F1': 0.53}"
      ]
     },
     "execution_count": 231,
     "metadata": {},
     "output_type": "execute_result"
    }
   ],
   "source": [
    "compare_classification_metrics(y_train_up, y_train_pred3c2c, y_val, y_val_pred3c2c)"
   ]
  },
  {
   "cell_type": "code",
   "execution_count": 232,
   "metadata": {},
   "outputs": [
    {
     "name": "stdout",
     "output_type": "stream",
     "text": [
      "Adjusted Accuracy: 0.9309737974188502\n",
      "Adjusted Precision: 0.5065217391304347\n",
      "Adjusted Recall: 0.649025069637883\n",
      "Adjusted F1 Score: 0.5689865689865689\n",
      "\n",
      "\n"
     ]
    },
    {
     "data": {
      "image/png": "[encoded data removed]",
      "text/plain": [
       "<Figure size 432x288 with 1 Axes>"
      ]
     },
     "metadata": {
      "needs_background": "light"
     },
     "output_type": "display_data"
    }
   ],
   "source": [
    "adj3c2c, cm3c2c = adjust_threshold_and_score(y_val, y_val_prob3c2c, .9, RNN = True)"
   ]
  },
  {
   "cell_type": "markdown",
   "metadata": {},
   "source": [
    "## RNN 3c2b - upsampling with increased patience, dropout .01"
   ]
  },
  {
   "cell_type": "code",
   "execution_count": 219,
   "metadata": {},
   "outputs": [
    {
     "name": "stdout",
     "output_type": "stream",
     "text": [
      "_________________________________________________________________\n",
      "Layer (type)                 Output Shape              Param #   \n",
      "=================================================================\n",
      "embedding_20 (Embedding)     (None, 39, 300)           11338500  \n",
      "_________________________________________________________________\n",
      "lstm_34 (LSTM)               (None, 39, 64)            93440     \n",
      "_________________________________________________________________\n",
      "batch_normalization_33 (Batc (None, 39, 64)            256       \n",
      "_________________________________________________________________\n",
      "dropout_5 (Dropout)          (None, 39, 64)            0         \n",
      "_________________________________________________________________\n",
      "lstm_35 (LSTM)               (None, 64)                33024     \n",
      "_________________________________________________________________\n",
      "batch_normalization_34 (Batc (None, 64)                256       \n",
      "_________________________________________________________________\n",
      "dropout_6 (Dropout)          (None, 64)                0         \n",
      "_________________________________________________________________\n",
      "dense_16 (Dense)             (None, 1)                 65        \n",
      "=================================================================\n",
      "Total params: 11,465,541\n",
      "Trainable params: 126,785\n",
      "Non-trainable params: 11,338,756\n",
      "_________________________________________________________________\n",
      "None\n"
     ]
    }
   ],
   "source": [
    "model3c2b = Sequential()\n",
    "\n",
    "# filepath = 'results/RNN/models/weights_3c2b.best.hdf5'\n",
    "\n",
    "callbacks = [EarlyStopping(monitor='val_loss', patience = 30), \n",
    "             ReduceLROnPlateau(monitor='val_loss', patience = 30)]\n",
    "#              ModelCheckpoint(filepath, save_best_only = True, save_weights_only = True)]\n",
    "\n",
    "model3c2b.add(Embedding(num_words, 300, weights=[embedding_matrix300], input_length= 39, trainable=False))\n",
    "\n",
    "model3c2b.add(LSTM(64, activation='relu', return_sequences=True))\n",
    "model3c2b.add(BatchNormalization())\n",
    "model3c2b.add(Dropout(.01))\n",
    "\n",
    "model3c2b.add(LSTM(64, activation='relu'))\n",
    "model3c2b.add(BatchNormalization())\n",
    "model3c2b.add(Dropout(.01))\n",
    "\n",
    "model3c2b.add(Dense(1, activation='sigmoid'))\n",
    "\n",
    "model3c2b.compile(loss='binary_crossentropy', optimizer = rmsprop(lr=.00001), metrics=['accuracy']) #optimizer=Adam\n",
    "\n",
    "print(model3c2b.summary())"
   ]
  },
  {
   "cell_type": "code",
   "execution_count": 220,
   "metadata": {},
   "outputs": [
    {
     "name": "stdout",
     "output_type": "stream",
     "text": [
      "Train on 38040 samples, validate on 5114 samples\n",
      "Epoch 1/250\n",
      "38040/38040 [==============================] - 332s 9ms/step - loss: 0.6869 - acc: 0.5688 - val_loss: 0.7314 - val_acc: 0.2147\n",
      "Epoch 2/250\n",
      "38040/38040 [==============================] - 285s 7ms/step - loss: 0.6031 - acc: 0.6916 - val_loss: 0.6217 - val_acc: 0.6871\n",
      "Epoch 3/250\n",
      "38040/38040 [==============================] - 287s 8ms/step - loss: 0.4611 - acc: 0.7921 - val_loss: 0.4283 - val_acc: 0.8005\n",
      "Epoch 4/250\n",
      "38040/38040 [==============================] - 283s 7ms/step - loss: 0.4043 - acc: 0.8160 - val_loss: 0.4086 - val_acc: 0.8043\n",
      "Epoch 5/250\n",
      "38040/38040 [==============================] - 280s 7ms/step - loss: 0.3821 - acc: 0.8276 - val_loss: 0.4202 - val_acc: 0.8021\n",
      "Epoch 6/250\n",
      "38040/38040 [==============================] - 279s 7ms/step - loss: 0.3668 - acc: 0.8356 - val_loss: 0.3782 - val_acc: 0.8285\n",
      "Epoch 7/250\n",
      "38040/38040 [==============================] - 279s 7ms/step - loss: 0.3581 - acc: 0.8426 - val_loss: 0.3982 - val_acc: 0.8224\n",
      "Epoch 8/250\n",
      "38040/38040 [==============================] - 280s 7ms/step - loss: 0.3485 - acc: 0.8489 - val_loss: 0.3708 - val_acc: 0.8342\n",
      "Epoch 9/250\n",
      "38040/38040 [==============================] - 251s 7ms/step - loss: 0.3396 - acc: 0.8527 - val_loss: 0.3622 - val_acc: 0.8432\n",
      "Epoch 10/250\n",
      "38040/38040 [==============================] - 236s 6ms/step - loss: 0.3308 - acc: 0.8567 - val_loss: 0.3275 - val_acc: 0.8594\n",
      "Epoch 11/250\n",
      "38040/38040 [==============================] - 234s 6ms/step - loss: 0.3206 - acc: 0.8640 - val_loss: 0.3348 - val_acc: 0.8571\n",
      "Epoch 12/250\n",
      "38040/38040 [==============================] - 234s 6ms/step - loss: 0.3153 - acc: 0.8675 - val_loss: 0.3291 - val_acc: 0.8582\n",
      "Epoch 13/250\n",
      "38040/38040 [==============================] - 234s 6ms/step - loss: 0.3060 - acc: 0.8727 - val_loss: 0.3395 - val_acc: 0.8565\n",
      "Epoch 14/250\n",
      "38040/38040 [==============================] - 234s 6ms/step - loss: 0.3024 - acc: 0.8750 - val_loss: 0.3053 - val_acc: 0.8741\n",
      "Epoch 15/250\n",
      "38040/38040 [==============================] - 226s 6ms/step - loss: 0.2942 - acc: 0.8785 - val_loss: 0.2834 - val_acc: 0.8880\n",
      "Epoch 16/250\n",
      "38040/38040 [==============================] - 421s 11ms/step - loss: 0.2900 - acc: 0.8818 - val_loss: 0.3117 - val_acc: 0.8704\n",
      "Epoch 17/250\n",
      "38040/38040 [==============================] - 258s 7ms/step - loss: 0.2831 - acc: 0.8846 - val_loss: 0.3141 - val_acc: 0.8682\n",
      "Epoch 18/250\n",
      "38040/38040 [==============================] - 302s 8ms/step - loss: 0.2753 - acc: 0.8891 - val_loss: 0.2891 - val_acc: 0.8811\n",
      "Epoch 19/250\n",
      "38040/38040 [==============================] - 259s 7ms/step - loss: 0.2673 - acc: 0.8937 - val_loss: 0.2813 - val_acc: 0.8883\n",
      "Epoch 20/250\n",
      "38040/38040 [==============================] - 228s 6ms/step - loss: 0.2616 - acc: 0.8959 - val_loss: 0.2731 - val_acc: 0.8903\n",
      "Epoch 21/250\n",
      "38040/38040 [==============================] - 222s 6ms/step - loss: 0.2577 - acc: 0.8985 - val_loss: 0.2837 - val_acc: 0.8885\n",
      "Epoch 22/250\n",
      "38040/38040 [==============================] - 239s 6ms/step - loss: 0.2538 - acc: 0.9009 - val_loss: 0.2953 - val_acc: 0.8833\n",
      "Epoch 23/250\n",
      "38040/38040 [==============================] - 238s 6ms/step - loss: 0.2456 - acc: 0.9064 - val_loss: 0.2879 - val_acc: 0.8887\n",
      "Epoch 24/250\n",
      "38040/38040 [==============================] - 233s 6ms/step - loss: 0.2427 - acc: 0.9054 - val_loss: 0.2668 - val_acc: 0.8942\n",
      "Epoch 25/250\n",
      "38040/38040 [==============================] - 248s 7ms/step - loss: 0.2362 - acc: 0.9106 - val_loss: 0.2455 - val_acc: 0.9071\n",
      "Epoch 26/250\n",
      "38040/38040 [==============================] - 265s 7ms/step - loss: 0.2305 - acc: 0.9131 - val_loss: 0.2602 - val_acc: 0.8964\n",
      "Epoch 27/250\n",
      "38040/38040 [==============================] - 259s 7ms/step - loss: 0.2238 - acc: 0.9164 - val_loss: 0.2689 - val_acc: 0.8921\n",
      "Epoch 28/250\n",
      "38040/38040 [==============================] - 230s 6ms/step - loss: 0.2206 - acc: 0.9178 - val_loss: 0.2584 - val_acc: 0.8942\n",
      "Epoch 29/250\n",
      "38040/38040 [==============================] - 230s 6ms/step - loss: 0.2127 - acc: 0.9206 - val_loss: 0.2760 - val_acc: 0.8911\n",
      "Epoch 30/250\n",
      "38040/38040 [==============================] - 230s 6ms/step - loss: 0.2107 - acc: 0.9204 - val_loss: 0.2404 - val_acc: 0.9071\n",
      "Epoch 31/250\n",
      "38040/38040 [==============================] - 229s 6ms/step - loss: 0.2043 - acc: 0.9234 - val_loss: 0.2725 - val_acc: 0.8928\n",
      "Epoch 32/250\n",
      "38040/38040 [==============================] - 229s 6ms/step - loss: 0.1988 - acc: 0.9280 - val_loss: 0.2628 - val_acc: 0.8950\n",
      "Epoch 33/250\n",
      "38040/38040 [==============================] - 229s 6ms/step - loss: 0.1938 - acc: 0.9284 - val_loss: 0.2458 - val_acc: 0.9048\n",
      "Epoch 34/250\n",
      "38040/38040 [==============================] - 230s 6ms/step - loss: 0.1894 - acc: 0.9310 - val_loss: 0.2749 - val_acc: 0.8934\n",
      "Epoch 35/250\n",
      "38040/38040 [==============================] - 229s 6ms/step - loss: 0.1840 - acc: 0.9332 - val_loss: 0.2335 - val_acc: 0.9138\n",
      "Epoch 36/250\n",
      "38040/38040 [==============================] - 228s 6ms/step - loss: 0.1778 - acc: 0.9364 - val_loss: 0.2365 - val_acc: 0.9140\n",
      "Epoch 37/250\n",
      "38040/38040 [==============================] - 227s 6ms/step - loss: 0.1737 - acc: 0.9382 - val_loss: 0.2765 - val_acc: 0.8999\n",
      "Epoch 38/250\n",
      "38040/38040 [==============================] - 224s 6ms/step - loss: 0.1703 - acc: 0.9391 - val_loss: 0.2329 - val_acc: 0.9134\n",
      "Epoch 39/250\n",
      "38040/38040 [==============================] - 226s 6ms/step - loss: 0.1637 - acc: 0.9436 - val_loss: 0.2469 - val_acc: 0.9095\n",
      "Epoch 40/250\n",
      "38040/38040 [==============================] - 224s 6ms/step - loss: 0.1626 - acc: 0.9443 - val_loss: 0.2567 - val_acc: 0.9067\n",
      "Epoch 41/250\n",
      "38040/38040 [==============================] - 225s 6ms/step - loss: 0.1572 - acc: 0.9453 - val_loss: 0.2619 - val_acc: 0.9057\n",
      "Epoch 42/250\n",
      "38040/38040 [==============================] - 225s 6ms/step - loss: 0.1525 - acc: 0.9483 - val_loss: 0.2628 - val_acc: 0.9056\n",
      "Epoch 43/250\n",
      "38040/38040 [==============================] - 224s 6ms/step - loss: 0.1496 - acc: 0.9502 - val_loss: 0.2489 - val_acc: 0.9118\n",
      "Epoch 44/250\n",
      "38040/38040 [==============================] - 225s 6ms/step - loss: 0.1440 - acc: 0.9526 - val_loss: 0.2395 - val_acc: 0.9163\n",
      "Epoch 45/250\n",
      "38040/38040 [==============================] - 225s 6ms/step - loss: 0.1444 - acc: 0.9518 - val_loss: 0.2894 - val_acc: 0.9018\n",
      "Epoch 46/250\n",
      "38040/38040 [==============================] - 228s 6ms/step - loss: 0.1371 - acc: 0.9551 - val_loss: 0.2468 - val_acc: 0.9122\n",
      "Epoch 47/250\n",
      "38040/38040 [==============================] - 227s 6ms/step - loss: 0.1350 - acc: 0.9554 - val_loss: 0.2488 - val_acc: 0.9102\n",
      "Epoch 48/250\n",
      "38040/38040 [==============================] - 227s 6ms/step - loss: 0.1322 - acc: 0.9567 - val_loss: 0.2746 - val_acc: 0.9063\n",
      "Epoch 49/250\n",
      "38040/38040 [==============================] - 227s 6ms/step - loss: 0.1304 - acc: 0.9578 - val_loss: 0.2433 - val_acc: 0.9190\n",
      "Epoch 50/250\n",
      "38040/38040 [==============================] - 225s 6ms/step - loss: 0.1258 - acc: 0.9591 - val_loss: 0.2723 - val_acc: 0.9097\n",
      "Epoch 51/250\n",
      "38040/38040 [==============================] - 223s 6ms/step - loss: 0.1221 - acc: 0.9618 - val_loss: 0.2651 - val_acc: 0.9147\n",
      "Epoch 52/250\n",
      "38040/38040 [==============================] - 225s 6ms/step - loss: 0.1202 - acc: 0.9616 - val_loss: 0.2516 - val_acc: 0.9192\n",
      "Epoch 53/250\n",
      "38040/38040 [==============================] - 228s 6ms/step - loss: 0.1158 - acc: 0.9643 - val_loss: 0.2587 - val_acc: 0.9177\n",
      "Epoch 54/250\n",
      "38040/38040 [==============================] - 224s 6ms/step - loss: 0.1154 - acc: 0.9637 - val_loss: 0.2586 - val_acc: 0.9157\n",
      "Epoch 55/250\n",
      "38040/38040 [==============================] - 225s 6ms/step - loss: 0.1117 - acc: 0.9662 - val_loss: 0.2452 - val_acc: 0.9228\n",
      "Epoch 56/250\n",
      "38040/38040 [==============================] - 224s 6ms/step - loss: 0.1084 - acc: 0.9668 - val_loss: 0.2811 - val_acc: 0.9142\n",
      "Epoch 57/250\n",
      "38040/38040 [==============================] - 225s 6ms/step - loss: 0.1061 - acc: 0.9680 - val_loss: 0.2659 - val_acc: 0.9171\n",
      "Epoch 58/250\n",
      "38040/38040 [==============================] - 224s 6ms/step - loss: 0.1044 - acc: 0.9683 - val_loss: 0.2553 - val_acc: 0.9220\n",
      "Epoch 59/250\n"
     ]
    },
    {
     "name": "stdout",
     "output_type": "stream",
     "text": [
      "38040/38040 [==============================] - 224s 6ms/step - loss: 0.1025 - acc: 0.9691 - val_loss: 0.2481 - val_acc: 0.9226\n",
      "Epoch 60/250\n",
      "38040/38040 [==============================] - 224s 6ms/step - loss: 0.0993 - acc: 0.9702 - val_loss: 0.2699 - val_acc: 0.9181\n",
      "Epoch 61/250\n",
      "38040/38040 [==============================] - 224s 6ms/step - loss: 0.0986 - acc: 0.9709 - val_loss: 0.2784 - val_acc: 0.9181\n",
      "Epoch 62/250\n",
      "38040/38040 [==============================] - 224s 6ms/step - loss: 0.0968 - acc: 0.9704 - val_loss: 0.2840 - val_acc: 0.9165\n",
      "Epoch 63/250\n",
      "38040/38040 [==============================] - 224s 6ms/step - loss: 0.0914 - acc: 0.9734 - val_loss: 0.2809 - val_acc: 0.9185\n",
      "Epoch 64/250\n",
      "38040/38040 [==============================] - 224s 6ms/step - loss: 0.0931 - acc: 0.9723 - val_loss: 0.2774 - val_acc: 0.9187\n",
      "Epoch 65/250\n",
      "38040/38040 [==============================] - 224s 6ms/step - loss: 0.0905 - acc: 0.9733 - val_loss: 0.2839 - val_acc: 0.9214\n",
      "Epoch 66/250\n",
      "38040/38040 [==============================] - 224s 6ms/step - loss: 0.0897 - acc: 0.9736 - val_loss: 0.2797 - val_acc: 0.9185\n",
      "Epoch 67/250\n",
      "38040/38040 [==============================] - 224s 6ms/step - loss: 0.0866 - acc: 0.9747 - val_loss: 0.2875 - val_acc: 0.9194\n",
      "Epoch 68/250\n",
      "38040/38040 [==============================] - 225s 6ms/step - loss: 0.0860 - acc: 0.9756 - val_loss: 0.2982 - val_acc: 0.9132\n"
     ]
    }
   ],
   "source": [
    "history = model3c2b.fit(X_train_up, \n",
    "                    y_train_up,\n",
    "                    epochs=250,\n",
    "                    batch_size=50,\n",
    "                    callbacks=callbacks,\n",
    "                    validation_data=(X_val, y_val))"
   ]
  },
  {
   "cell_type": "code",
   "execution_count": 221,
   "metadata": {},
   "outputs": [],
   "source": [
    "model3c2b.save('results/RNN/models/model3c2b.h5', overwrite = True)\n",
    "model3c2b.save_weights('results/RNN/models/model3c2b_weights.h5', overwrite = True)\n",
    "# model3c2b = model.load('results/RNN/models/model3c2b.h5')"
   ]
  },
  {
   "cell_type": "code",
   "execution_count": 222,
   "metadata": {},
   "outputs": [
    {
     "data": {
      "image/png": "[encoded data removed]",
      "text/plain": [
       "<Figure size 720x288 with 2 Axes>"
      ]
     },
     "metadata": {
      "needs_background": "light"
     },
     "output_type": "display_data"
    }
   ],
   "source": [
    "plot_accuracy_loss('Model 3c2b', model3c2b, (.5, 1), (0,.7))"
   ]
  },
  {
   "cell_type": "code",
   "execution_count": 223,
   "metadata": {},
   "outputs": [],
   "source": [
    "y_train_pred3c2b = model3c2b.predict_classes(X_train_up, batch_size = 38040)\n",
    "y_val_pred3c2b = model3c2b.predict_classes(X_val, batch_size = 5114)\n",
    "y_train_prob3c2b = model3c2b.predict_proba(X_train_up, batch_size = 38040)\n",
    "y_val_prob3c2b = model3c2b.predict_proba(X_val, batch_size = 5114)"
   ]
  },
  {
   "cell_type": "code",
   "execution_count": 224,
   "metadata": {
    "scrolled": true
   },
   "outputs": [
    {
     "data": {
      "text/plain": [
       "{'Train Accuracy': 0.98,\n",
       " 'Train Precision': 0.96,\n",
       " 'Train Recall': 1.0,\n",
       " 'Train F1': 0.98,\n",
       " 'Validation Accuracy': 0.91,\n",
       " 'Validation Precision': 0.43,\n",
       " 'Validation Recall': 0.73,\n",
       " 'Validation F1': 0.54}"
      ]
     },
     "execution_count": 224,
     "metadata": {},
     "output_type": "execute_result"
    }
   ],
   "source": [
    "compare_classification_metrics(y_train_up, y_train_pred3c2b, y_val, y_val_pred3c2b)"
   ]
  },
  {
   "cell_type": "code",
   "execution_count": 225,
   "metadata": {},
   "outputs": [
    {
     "name": "stdout",
     "output_type": "stream",
     "text": [
      "Adjusted Accuracy: 0.9350801720766523\n",
      "Adjusted Precision: 0.5306122448979592\n",
      "Adjusted Recall: 0.6518105849582173\n",
      "Adjusted F1 Score: 0.5850000000000001\n",
      "\n",
      "\n"
     ]
    },
    {
     "data": {
      "image/png": "[encoded data removed]",
      "text/plain": [
       "<Figure size 432x288 with 1 Axes>"
      ]
     },
     "metadata": {
      "needs_background": "light"
     },
     "output_type": "display_data"
    }
   ],
   "source": [
    "adj3c2b, cm3c2b = adjust_threshold_and_score(y_val, y_val_prob3c2b, .9, RNN = True)"
   ]
  },
  {
   "cell_type": "markdown",
   "metadata": {},
   "source": [
    "## RNN 3c2 - with patience 30"
   ]
  },
  {
   "cell_type": "code",
   "execution_count": 233,
   "metadata": {},
   "outputs": [
    {
     "name": "stdout",
     "output_type": "stream",
     "text": [
      "_________________________________________________________________\n",
      "Layer (type)                 Output Shape              Param #   \n",
      "=================================================================\n",
      "embedding_22 (Embedding)     (None, 39, 300)           11338500  \n",
      "_________________________________________________________________\n",
      "lstm_38 (LSTM)               (None, 39, 64)            93440     \n",
      "_________________________________________________________________\n",
      "batch_normalization_37 (Batc (None, 39, 64)            256       \n",
      "_________________________________________________________________\n",
      "lstm_39 (LSTM)               (None, 64)                33024     \n",
      "_________________________________________________________________\n",
      "batch_normalization_38 (Batc (None, 64)                256       \n",
      "_________________________________________________________________\n",
      "dense_18 (Dense)             (None, 1)                 65        \n",
      "=================================================================\n",
      "Total params: 11,465,541\n",
      "Trainable params: 126,785\n",
      "Non-trainable params: 11,338,756\n",
      "_________________________________________________________________\n",
      "None\n"
     ]
    }
   ],
   "source": [
    "model3c2 = Sequential()\n",
    "\n",
    "# filepath = 'results/RNN/weights_3c2.best.hdf5'\n",
    "\n",
    "callbacks = [EarlyStopping(monitor='val_loss', patience = 30), \n",
    "             ReduceLROnPlateau(monitor='val_loss', patience = 30)]\n",
    "#              ModelCheckpoint(filepath, save_best_only = True, save_weights_only = True)]\n",
    "\n",
    "model3c2.add(Embedding(num_words, 300, weights=[embedding_matrix300], input_length= 39, trainable=False))\n",
    "\n",
    "model3c2.add(LSTM(64, activation='relu', return_sequences=True))\n",
    "model3c2.add(BatchNormalization())\n",
    "\n",
    "model3c2.add(LSTM(64, activation='relu'))\n",
    "model3c2.add(BatchNormalization())\n",
    "\n",
    "model3c2.add(Dense(1, activation='sigmoid'))\n",
    "\n",
    "model3c2.compile(loss='binary_crossentropy', optimizer = rmsprop(lr=.000001), metrics=['accuracy']) #optimizer=Adam\n",
    "\n",
    "print(model3c2.summary())"
   ]
  },
  {
   "cell_type": "code",
   "execution_count": 234,
   "metadata": {},
   "outputs": [
    {
     "name": "stdout",
     "output_type": "stream",
     "text": [
      "Train on 38040 samples, validate on 5114 samples\n",
      "Epoch 1/250\n",
      "38040/38040 [==============================] - 252s 7ms/step - loss: 0.7030 - acc: 0.5036 - val_loss: 0.7184 - val_acc: 0.2337\n",
      "Epoch 2/250\n",
      "38040/38040 [==============================] - 216s 6ms/step - loss: 0.6901 - acc: 0.5491 - val_loss: 0.7201 - val_acc: 0.3019\n",
      "Epoch 3/250\n",
      "38040/38040 [==============================] - 215s 6ms/step - loss: 0.6809 - acc: 0.5987 - val_loss: 0.7016 - val_acc: 0.4333\n",
      "Epoch 4/250\n",
      "38040/38040 [==============================] - 216s 6ms/step - loss: 0.6705 - acc: 0.6245 - val_loss: 0.6861 - val_acc: 0.6905\n",
      "Epoch 5/250\n",
      "38040/38040 [==============================] - 216s 6ms/step - loss: 0.6606 - acc: 0.6520 - val_loss: 0.6777 - val_acc: 0.6259\n",
      "Epoch 6/250\n",
      "38040/38040 [==============================] - 215s 6ms/step - loss: 0.6474 - acc: 0.6808 - val_loss: 0.6823 - val_acc: 0.5209\n",
      "Epoch 7/250\n",
      "38040/38040 [==============================] - 219s 6ms/step - loss: 0.6321 - acc: 0.7107 - val_loss: 0.6795 - val_acc: 0.6777\n",
      "Epoch 8/250\n",
      "38040/38040 [==============================] - 216s 6ms/step - loss: 0.6127 - acc: 0.7404 - val_loss: 0.6494 - val_acc: 0.7116\n",
      "Epoch 9/250\n",
      "38040/38040 [==============================] - 216s 6ms/step - loss: 0.5904 - acc: 0.7569 - val_loss: 0.6311 - val_acc: 0.7288\n",
      "Epoch 10/250\n",
      "38040/38040 [==============================] - 215s 6ms/step - loss: 0.5673 - acc: 0.7683 - val_loss: 0.6014 - val_acc: 0.7388\n",
      "Epoch 11/250\n",
      "38040/38040 [==============================] - 216s 6ms/step - loss: 0.5441 - acc: 0.7799 - val_loss: 0.5845 - val_acc: 0.7380\n",
      "Epoch 12/250\n",
      "38040/38040 [==============================] - 217s 6ms/step - loss: 0.5154 - acc: 0.7895 - val_loss: 0.5595 - val_acc: 0.7567\n",
      "Epoch 13/250\n",
      "38040/38040 [==============================] - 216s 6ms/step - loss: 0.4890 - acc: 0.7963 - val_loss: 0.5308 - val_acc: 0.7503\n",
      "Epoch 14/250\n",
      "38040/38040 [==============================] - 216s 6ms/step - loss: 0.4693 - acc: 0.8017 - val_loss: 0.5114 - val_acc: 0.7591\n",
      "Epoch 15/250\n",
      "38040/38040 [==============================] - 216s 6ms/step - loss: 0.4515 - acc: 0.8053 - val_loss: 0.5037 - val_acc: 0.7470\n",
      "Epoch 16/250\n",
      "38040/38040 [==============================] - 216s 6ms/step - loss: 0.4383 - acc: 0.8090 - val_loss: 0.4852 - val_acc: 0.7577\n",
      "Epoch 17/250\n",
      "38040/38040 [==============================] - 216s 6ms/step - loss: 0.4274 - acc: 0.8101 - val_loss: 0.4831 - val_acc: 0.7534\n",
      "Epoch 18/250\n",
      "38040/38040 [==============================] - 216s 6ms/step - loss: 0.4204 - acc: 0.8128 - val_loss: 0.4782 - val_acc: 0.7599\n",
      "Epoch 19/250\n",
      "38040/38040 [==============================] - 217s 6ms/step - loss: 0.4114 - acc: 0.8166 - val_loss: 0.4737 - val_acc: 0.7665\n",
      "Epoch 20/250\n",
      "38040/38040 [==============================] - 216s 6ms/step - loss: 0.4029 - acc: 0.8206 - val_loss: 0.4605 - val_acc: 0.7734\n",
      "Epoch 21/250\n",
      "38040/38040 [==============================] - 216s 6ms/step - loss: 0.3991 - acc: 0.8223 - val_loss: 0.4560 - val_acc: 0.7773\n",
      "Epoch 22/250\n",
      "38040/38040 [==============================] - 216s 6ms/step - loss: 0.3951 - acc: 0.8235 - val_loss: 0.4502 - val_acc: 0.7810\n",
      "Epoch 23/250\n",
      "38040/38040 [==============================] - 215s 6ms/step - loss: 0.3918 - acc: 0.8247 - val_loss: 0.4534 - val_acc: 0.7790\n",
      "Epoch 24/250\n",
      "38040/38040 [==============================] - 217s 6ms/step - loss: 0.3886 - acc: 0.8262 - val_loss: 0.4443 - val_acc: 0.7835\n",
      "Epoch 25/250\n",
      "38040/38040 [==============================] - 217s 6ms/step - loss: 0.3862 - acc: 0.8294 - val_loss: 0.4541 - val_acc: 0.7796\n",
      "Epoch 26/250\n",
      "38040/38040 [==============================] - 244s 6ms/step - loss: 0.3836 - acc: 0.8293 - val_loss: 0.4363 - val_acc: 0.7941\n",
      "Epoch 27/250\n",
      "38040/38040 [==============================] - 264s 7ms/step - loss: 0.3804 - acc: 0.8305 - val_loss: 0.4241 - val_acc: 0.7980\n",
      "Epoch 28/250\n",
      "38040/38040 [==============================] - 263s 7ms/step - loss: 0.3785 - acc: 0.8329 - val_loss: 0.4371 - val_acc: 0.7943\n",
      "Epoch 29/250\n",
      "38040/38040 [==============================] - 263s 7ms/step - loss: 0.3739 - acc: 0.8332 - val_loss: 0.4238 - val_acc: 0.8004\n",
      "Epoch 30/250\n",
      "38040/38040 [==============================] - 262s 7ms/step - loss: 0.3726 - acc: 0.8354 - val_loss: 0.4119 - val_acc: 0.8086\n",
      "Epoch 31/250\n",
      "38040/38040 [==============================] - 260s 7ms/step - loss: 0.3702 - acc: 0.8373 - val_loss: 0.4063 - val_acc: 0.8121\n",
      "Epoch 32/250\n",
      "38040/38040 [==============================] - 222s 6ms/step - loss: 0.3684 - acc: 0.8369 - val_loss: 0.4067 - val_acc: 0.8133\n",
      "Epoch 33/250\n",
      "38040/38040 [==============================] - 215s 6ms/step - loss: 0.3663 - acc: 0.8393 - val_loss: 0.4061 - val_acc: 0.8129\n",
      "Epoch 34/250\n",
      "38040/38040 [==============================] - 9240s 243ms/step - loss: 0.3637 - acc: 0.8404 - val_loss: 0.4024 - val_acc: 0.8140\n",
      "Epoch 35/250\n",
      "38040/38040 [==============================] - 351s 9ms/step - loss: 0.3638 - acc: 0.8403 - val_loss: 0.4074 - val_acc: 0.8095\n",
      "Epoch 36/250\n",
      "38040/38040 [==============================] - 309s 8ms/step - loss: 0.3593 - acc: 0.8426 - val_loss: 0.4032 - val_acc: 0.8146\n",
      "Epoch 37/250\n",
      "38040/38040 [==============================] - 348s 9ms/step - loss: 0.3595 - acc: 0.8421 - val_loss: 0.4052 - val_acc: 0.8131\n",
      "Epoch 38/250\n",
      "38040/38040 [==============================] - 389s 10ms/step - loss: 0.3549 - acc: 0.8445 - val_loss: 0.4024 - val_acc: 0.8138\n",
      "Epoch 39/250\n",
      "38040/38040 [==============================] - 320s 8ms/step - loss: 0.3536 - acc: 0.8450 - val_loss: 0.4063 - val_acc: 0.8123\n",
      "Epoch 40/250\n",
      "38040/38040 [==============================] - 344s 9ms/step - loss: 0.3539 - acc: 0.8451 - val_loss: 0.3939 - val_acc: 0.8205\n",
      "Epoch 41/250\n",
      "38040/38040 [==============================] - 323s 8ms/step - loss: 0.3522 - acc: 0.8457 - val_loss: 0.4100 - val_acc: 0.8123\n",
      "Epoch 42/250\n",
      "38040/38040 [==============================] - 329s 9ms/step - loss: 0.3497 - acc: 0.8476 - val_loss: 0.3944 - val_acc: 0.8211\n",
      "Epoch 43/250\n",
      "38040/38040 [==============================] - 277s 7ms/step - loss: 0.3492 - acc: 0.8508 - val_loss: 0.3857 - val_acc: 0.8250\n",
      "Epoch 44/250\n",
      "38040/38040 [==============================] - 290s 8ms/step - loss: 0.3496 - acc: 0.8490 - val_loss: 0.3783 - val_acc: 0.8281\n",
      "Epoch 45/250\n",
      "38040/38040 [==============================] - 312s 8ms/step - loss: 0.3471 - acc: 0.8500 - val_loss: 0.3856 - val_acc: 0.8244\n",
      "Epoch 46/250\n",
      "38040/38040 [==============================] - 300s 8ms/step - loss: 0.3443 - acc: 0.8503 - val_loss: 0.3825 - val_acc: 0.8264\n",
      "Epoch 47/250\n",
      "38040/38040 [==============================] - 302s 8ms/step - loss: 0.3435 - acc: 0.8505 - val_loss: 0.3843 - val_acc: 0.8246\n",
      "Epoch 48/250\n",
      "38040/38040 [==============================] - 276s 7ms/step - loss: 0.3427 - acc: 0.8524 - val_loss: 0.3762 - val_acc: 0.8328\n",
      "Epoch 49/250\n",
      "38040/38040 [==============================] - 270s 7ms/step - loss: 0.3400 - acc: 0.8529 - val_loss: 0.3799 - val_acc: 0.8281\n",
      "Epoch 50/250\n",
      "38040/38040 [==============================] - 286s 8ms/step - loss: 0.3382 - acc: 0.8534 - val_loss: 0.3860 - val_acc: 0.8254\n",
      "Epoch 51/250\n",
      "38040/38040 [==============================] - 281s 7ms/step - loss: 0.3396 - acc: 0.8533 - val_loss: 0.3884 - val_acc: 0.8258\n",
      "Epoch 52/250\n",
      "38040/38040 [==============================] - 303s 8ms/step - loss: 0.3393 - acc: 0.8555 - val_loss: 0.3846 - val_acc: 0.8269\n",
      "Epoch 53/250\n",
      "38040/38040 [==============================] - 305s 8ms/step - loss: 0.3379 - acc: 0.8557 - val_loss: 0.3764 - val_acc: 0.8293\n",
      "Epoch 54/250\n",
      "38040/38040 [==============================] - 295s 8ms/step - loss: 0.3342 - acc: 0.8570 - val_loss: 0.3790 - val_acc: 0.8297\n",
      "Epoch 55/250\n",
      "38040/38040 [==============================] - 282s 7ms/step - loss: 0.3343 - acc: 0.8571 - val_loss: 0.3710 - val_acc: 0.8307\n",
      "Epoch 56/250\n",
      "38040/38040 [==============================] - 261s 7ms/step - loss: 0.3314 - acc: 0.8570 - val_loss: 0.3798 - val_acc: 0.8303\n",
      "Epoch 57/250\n",
      "38040/38040 [==============================] - 321s 8ms/step - loss: 0.3306 - acc: 0.8590 - val_loss: 0.3791 - val_acc: 0.8295\n",
      "Epoch 58/250\n",
      "38040/38040 [==============================] - 345s 9ms/step - loss: 0.3303 - acc: 0.8591 - val_loss: 0.3741 - val_acc: 0.8340\n",
      "Epoch 59/250\n"
     ]
    },
    {
     "name": "stdout",
     "output_type": "stream",
     "text": [
      "38040/38040 [==============================] - 489s 13ms/step - loss: 0.3318 - acc: 0.8584 - val_loss: 0.3714 - val_acc: 0.8355\n",
      "Epoch 60/250\n",
      "38040/38040 [==============================] - 540s 14ms/step - loss: 0.3284 - acc: 0.8594 - val_loss: 0.3751 - val_acc: 0.8324\n",
      "Epoch 61/250\n",
      "38040/38040 [==============================] - 396s 10ms/step - loss: 0.3259 - acc: 0.8625 - val_loss: 0.3749 - val_acc: 0.8311\n",
      "Epoch 62/250\n",
      "38040/38040 [==============================] - 410s 11ms/step - loss: 0.3249 - acc: 0.8615 - val_loss: 0.3763 - val_acc: 0.8342\n",
      "Epoch 63/250\n",
      "38040/38040 [==============================] - 301s 8ms/step - loss: 0.3265 - acc: 0.8615 - val_loss: 0.3757 - val_acc: 0.8340\n",
      "Epoch 64/250\n",
      "38040/38040 [==============================] - 832s 22ms/step - loss: 0.3257 - acc: 0.8608 - val_loss: 0.3693 - val_acc: 0.8377\n",
      "Epoch 65/250\n",
      "38040/38040 [==============================] - 312s 8ms/step - loss: 0.3234 - acc: 0.8639 - val_loss: 0.3693 - val_acc: 0.8379\n",
      "Epoch 66/250\n",
      "38040/38040 [==============================] - 318s 8ms/step - loss: 0.3231 - acc: 0.8619 - val_loss: 0.3823 - val_acc: 0.8307\n",
      "Epoch 67/250\n",
      "38040/38040 [==============================] - 319s 8ms/step - loss: 0.3215 - acc: 0.8635 - val_loss: 0.3713 - val_acc: 0.8387\n",
      "Epoch 68/250\n",
      "38040/38040 [==============================] - 373s 10ms/step - loss: 0.3184 - acc: 0.8654 - val_loss: 0.3729 - val_acc: 0.8354\n",
      "Epoch 69/250\n",
      "38040/38040 [==============================] - 322s 8ms/step - loss: 0.3181 - acc: 0.8650 - val_loss: 0.3656 - val_acc: 0.8377\n",
      "Epoch 70/250\n",
      "38040/38040 [==============================] - 286s 8ms/step - loss: 0.3186 - acc: 0.8649 - val_loss: 0.3660 - val_acc: 0.8379\n",
      "Epoch 71/250\n",
      "38040/38040 [==============================] - 319s 8ms/step - loss: 0.3187 - acc: 0.8659 - val_loss: 0.3658 - val_acc: 0.8383\n",
      "Epoch 72/250\n",
      "38040/38040 [==============================] - 278s 7ms/step - loss: 0.3148 - acc: 0.8671 - val_loss: 0.3785 - val_acc: 0.8352\n",
      "Epoch 73/250\n",
      "38040/38040 [==============================] - 250s 7ms/step - loss: 0.3145 - acc: 0.8665 - val_loss: 0.3807 - val_acc: 0.8393\n",
      "Epoch 74/250\n",
      "38040/38040 [==============================] - 241s 6ms/step - loss: 0.3140 - acc: 0.8672 - val_loss: 0.3788 - val_acc: 0.8332\n",
      "Epoch 75/250\n",
      "38040/38040 [==============================] - 231s 6ms/step - loss: 0.3116 - acc: 0.8685 - val_loss: 0.3660 - val_acc: 0.8373\n",
      "Epoch 76/250\n",
      "38040/38040 [==============================] - 261s 7ms/step - loss: 0.3111 - acc: 0.8689 - val_loss: 0.3812 - val_acc: 0.8367\n",
      "Epoch 77/250\n",
      "38040/38040 [==============================] - 238s 6ms/step - loss: 0.3126 - acc: 0.8685 - val_loss: 0.3587 - val_acc: 0.8430\n",
      "Epoch 78/250\n",
      "38040/38040 [==============================] - 248s 7ms/step - loss: 0.3075 - acc: 0.8725 - val_loss: 0.3721 - val_acc: 0.8365\n",
      "Epoch 79/250\n",
      "38040/38040 [==============================] - 243s 6ms/step - loss: 0.3074 - acc: 0.8724 - val_loss: 0.3677 - val_acc: 0.8383\n",
      "Epoch 80/250\n",
      "38040/38040 [==============================] - 274s 7ms/step - loss: 0.3084 - acc: 0.8717 - val_loss: 0.3514 - val_acc: 0.8424\n",
      "Epoch 81/250\n",
      "38040/38040 [==============================] - 235s 6ms/step - loss: 0.3060 - acc: 0.8712 - val_loss: 0.3619 - val_acc: 0.8432\n",
      "Epoch 82/250\n",
      "38040/38040 [==============================] - 254s 7ms/step - loss: 0.3075 - acc: 0.8706 - val_loss: 0.3652 - val_acc: 0.8389\n",
      "Epoch 83/250\n",
      "38040/38040 [==============================] - 245s 6ms/step - loss: 0.3057 - acc: 0.8724 - val_loss: 0.3776 - val_acc: 0.8385\n",
      "Epoch 84/250\n",
      "38040/38040 [==============================] - 257s 7ms/step - loss: 0.3052 - acc: 0.8741 - val_loss: 0.3680 - val_acc: 0.8391\n",
      "Epoch 85/250\n",
      "38040/38040 [==============================] - 299s 8ms/step - loss: 0.3008 - acc: 0.8751 - val_loss: 0.3544 - val_acc: 0.8475\n",
      "Epoch 86/250\n",
      "38040/38040 [==============================] - 311s 8ms/step - loss: 0.3023 - acc: 0.8741 - val_loss: 0.3697 - val_acc: 0.8412\n",
      "Epoch 87/250\n",
      "38040/38040 [==============================] - 300s 8ms/step - loss: 0.3004 - acc: 0.8773 - val_loss: 0.3683 - val_acc: 0.8432\n",
      "Epoch 88/250\n",
      "38040/38040 [==============================] - 284s 7ms/step - loss: 0.3005 - acc: 0.8739 - val_loss: 0.3637 - val_acc: 0.8487\n",
      "Epoch 89/250\n",
      "38040/38040 [==============================] - 291s 8ms/step - loss: 0.3008 - acc: 0.8755 - val_loss: 0.3781 - val_acc: 0.8492\n",
      "Epoch 90/250\n",
      "38040/38040 [==============================] - 269s 7ms/step - loss: 0.3003 - acc: 0.8756 - val_loss: 0.3712 - val_acc: 0.8445\n",
      "Epoch 91/250\n",
      "38040/38040 [==============================] - 20128s 529ms/step - loss: 0.3013 - acc: 0.8755 - val_loss: 0.3875 - val_acc: 0.8330\n",
      "Epoch 92/250\n",
      "38040/38040 [==============================] - 275s 7ms/step - loss: 0.2968 - acc: 0.8773 - val_loss: 0.3487 - val_acc: 0.8496\n",
      "Epoch 93/250\n",
      "38040/38040 [==============================] - 251s 7ms/step - loss: 0.2975 - acc: 0.8773 - val_loss: 0.3696 - val_acc: 0.8467\n",
      "Epoch 94/250\n",
      "38040/38040 [==============================] - 256s 7ms/step - loss: 0.2943 - acc: 0.8777 - val_loss: 0.3620 - val_acc: 0.8420\n",
      "Epoch 95/250\n",
      "38040/38040 [==============================] - 217s 6ms/step - loss: 0.2934 - acc: 0.8796 - val_loss: 0.3644 - val_acc: 0.8442\n",
      "Epoch 96/250\n",
      "38040/38040 [==============================] - 271s 7ms/step - loss: 0.2947 - acc: 0.8783 - val_loss: 0.3648 - val_acc: 0.8430\n",
      "Epoch 97/250\n",
      "38040/38040 [==============================] - 257s 7ms/step - loss: 0.2924 - acc: 0.8800 - val_loss: 0.3656 - val_acc: 0.8477\n",
      "Epoch 98/250\n",
      "38040/38040 [==============================] - 256s 7ms/step - loss: 0.2924 - acc: 0.8809 - val_loss: 0.3661 - val_acc: 0.8463\n",
      "Epoch 99/250\n",
      "38040/38040 [==============================] - 268s 7ms/step - loss: 0.2890 - acc: 0.8813 - val_loss: 0.3442 - val_acc: 0.8514\n",
      "Epoch 100/250\n",
      "38040/38040 [==============================] - 266s 7ms/step - loss: 0.2899 - acc: 0.8814 - val_loss: 0.3728 - val_acc: 0.8445\n",
      "Epoch 101/250\n",
      "38040/38040 [==============================] - 296s 8ms/step - loss: 0.2882 - acc: 0.8825 - val_loss: 0.3462 - val_acc: 0.8559\n",
      "Epoch 102/250\n",
      "38040/38040 [==============================] - 248s 7ms/step - loss: 0.2874 - acc: 0.8834 - val_loss: 0.3597 - val_acc: 0.8508\n",
      "Epoch 103/250\n",
      "38040/38040 [==============================] - 306s 8ms/step - loss: 0.2870 - acc: 0.8827 - val_loss: 0.3554 - val_acc: 0.8575\n",
      "Epoch 104/250\n",
      "38040/38040 [==============================] - 240s 6ms/step - loss: 0.2863 - acc: 0.8839 - val_loss: 0.3554 - val_acc: 0.8498\n",
      "Epoch 105/250\n",
      "38040/38040 [==============================] - 244s 6ms/step - loss: 0.2854 - acc: 0.8848 - val_loss: 0.3555 - val_acc: 0.8514\n",
      "Epoch 106/250\n",
      "38040/38040 [==============================] - 245s 6ms/step - loss: 0.2852 - acc: 0.8835 - val_loss: 0.3534 - val_acc: 0.8516\n",
      "Epoch 107/250\n",
      "38040/38040 [==============================] - 262s 7ms/step - loss: 0.2837 - acc: 0.8837 - val_loss: 0.3477 - val_acc: 0.8537\n",
      "Epoch 108/250\n",
      "38040/38040 [==============================] - 235s 6ms/step - loss: 0.2822 - acc: 0.8851 - val_loss: 0.3618 - val_acc: 0.8569\n",
      "Epoch 109/250\n",
      "38040/38040 [==============================] - 233s 6ms/step - loss: 0.2826 - acc: 0.8853 - val_loss: 0.3573 - val_acc: 0.8569\n",
      "Epoch 110/250\n",
      "38040/38040 [==============================] - 251s 7ms/step - loss: 0.2823 - acc: 0.8856 - val_loss: 0.3535 - val_acc: 0.8543\n",
      "Epoch 111/250\n",
      "38040/38040 [==============================] - 252s 7ms/step - loss: 0.2818 - acc: 0.8846 - val_loss: 0.3548 - val_acc: 0.8500\n",
      "Epoch 112/250\n",
      "38040/38040 [==============================] - 314s 8ms/step - loss: 0.2811 - acc: 0.8853 - val_loss: 0.3519 - val_acc: 0.8520\n",
      "Epoch 113/250\n",
      "38040/38040 [==============================] - 285s 7ms/step - loss: 0.2799 - acc: 0.8860 - val_loss: 0.3456 - val_acc: 0.8567\n",
      "Epoch 114/250\n",
      "38040/38040 [==============================] - 256s 7ms/step - loss: 0.2798 - acc: 0.8861 - val_loss: 0.3442 - val_acc: 0.8586\n",
      "Epoch 115/250\n",
      "38040/38040 [==============================] - 294s 8ms/step - loss: 0.2773 - acc: 0.8879 - val_loss: 0.3489 - val_acc: 0.8555\n",
      "Epoch 116/250\n",
      "38040/38040 [==============================] - 238s 6ms/step - loss: 0.2769 - acc: 0.8882 - val_loss: 0.3445 - val_acc: 0.8571\n",
      "Epoch 117/250\n"
     ]
    },
    {
     "name": "stdout",
     "output_type": "stream",
     "text": [
      "38040/38040 [==============================] - 270s 7ms/step - loss: 0.2789 - acc: 0.8858 - val_loss: 0.3510 - val_acc: 0.8553\n",
      "Epoch 118/250\n",
      "38040/38040 [==============================] - 261s 7ms/step - loss: 0.2747 - acc: 0.8890 - val_loss: 0.3579 - val_acc: 0.8535\n",
      "Epoch 119/250\n",
      "38040/38040 [==============================] - 281s 7ms/step - loss: 0.2741 - acc: 0.8898 - val_loss: 0.3463 - val_acc: 0.8580\n",
      "Epoch 120/250\n",
      "38040/38040 [==============================] - 242s 6ms/step - loss: 0.2729 - acc: 0.8913 - val_loss: 0.3482 - val_acc: 0.8571\n",
      "Epoch 121/250\n",
      "38040/38040 [==============================] - 238s 6ms/step - loss: 0.2711 - acc: 0.8915 - val_loss: 0.3381 - val_acc: 0.8619\n",
      "Epoch 122/250\n",
      "38040/38040 [==============================] - 240s 6ms/step - loss: 0.2730 - acc: 0.8908 - val_loss: 0.3375 - val_acc: 0.8580\n",
      "Epoch 123/250\n",
      "38040/38040 [==============================] - 238s 6ms/step - loss: 0.2726 - acc: 0.8900 - val_loss: 0.3304 - val_acc: 0.8629\n",
      "Epoch 124/250\n",
      "38040/38040 [==============================] - 236s 6ms/step - loss: 0.2705 - acc: 0.8904 - val_loss: 0.3443 - val_acc: 0.8614\n",
      "Epoch 125/250\n",
      "38040/38040 [==============================] - 245s 6ms/step - loss: 0.2703 - acc: 0.8919 - val_loss: 0.3278 - val_acc: 0.8655\n",
      "Epoch 126/250\n",
      "38040/38040 [==============================] - 244s 6ms/step - loss: 0.2698 - acc: 0.8914 - val_loss: 0.3342 - val_acc: 0.8592\n",
      "Epoch 127/250\n",
      "38040/38040 [==============================] - 245s 6ms/step - loss: 0.2681 - acc: 0.8925 - val_loss: 0.3363 - val_acc: 0.8600\n",
      "Epoch 128/250\n",
      "38040/38040 [==============================] - 253s 7ms/step - loss: 0.2669 - acc: 0.8926 - val_loss: 0.3343 - val_acc: 0.8600\n",
      "Epoch 129/250\n",
      "38040/38040 [==============================] - 244s 6ms/step - loss: 0.2663 - acc: 0.8932 - val_loss: 0.3389 - val_acc: 0.8600\n",
      "Epoch 130/250\n",
      "38040/38040 [==============================] - 244s 6ms/step - loss: 0.2667 - acc: 0.8924 - val_loss: 0.3380 - val_acc: 0.8596\n",
      "Epoch 131/250\n",
      "38040/38040 [==============================] - 242s 6ms/step - loss: 0.2652 - acc: 0.8937 - val_loss: 0.3342 - val_acc: 0.8580\n",
      "Epoch 132/250\n",
      "38040/38040 [==============================] - 242s 6ms/step - loss: 0.2656 - acc: 0.8925 - val_loss: 0.3433 - val_acc: 0.8604\n",
      "Epoch 133/250\n",
      "38040/38040 [==============================] - 245s 6ms/step - loss: 0.2640 - acc: 0.8947 - val_loss: 0.3331 - val_acc: 0.8631\n",
      "Epoch 134/250\n",
      "38040/38040 [==============================] - 249s 7ms/step - loss: 0.2639 - acc: 0.8966 - val_loss: 0.3261 - val_acc: 0.8635\n",
      "Epoch 135/250\n",
      "38040/38040 [==============================] - 244s 6ms/step - loss: 0.2629 - acc: 0.8948 - val_loss: 0.3263 - val_acc: 0.8635\n",
      "Epoch 136/250\n",
      "38040/38040 [==============================] - 242s 6ms/step - loss: 0.2624 - acc: 0.8968 - val_loss: 0.3260 - val_acc: 0.8619\n",
      "Epoch 137/250\n",
      "38040/38040 [==============================] - 249s 7ms/step - loss: 0.2595 - acc: 0.8972 - val_loss: 0.3337 - val_acc: 0.8600\n",
      "Epoch 138/250\n",
      "38040/38040 [==============================] - 245s 6ms/step - loss: 0.2606 - acc: 0.8956 - val_loss: 0.3355 - val_acc: 0.8619\n",
      "Epoch 139/250\n",
      "38040/38040 [==============================] - 243s 6ms/step - loss: 0.2595 - acc: 0.8962 - val_loss: 0.3124 - val_acc: 0.8657\n",
      "Epoch 140/250\n",
      "38040/38040 [==============================] - 242s 6ms/step - loss: 0.2600 - acc: 0.8965 - val_loss: 0.3292 - val_acc: 0.8647\n",
      "Epoch 141/250\n",
      "38040/38040 [==============================] - 244s 6ms/step - loss: 0.2580 - acc: 0.8980 - val_loss: 0.3191 - val_acc: 0.8623\n",
      "Epoch 142/250\n",
      "38040/38040 [==============================] - 245s 6ms/step - loss: 0.2587 - acc: 0.8980 - val_loss: 0.3374 - val_acc: 0.8590\n",
      "Epoch 143/250\n",
      "38040/38040 [==============================] - 246s 6ms/step - loss: 0.2565 - acc: 0.8982 - val_loss: 0.3347 - val_acc: 0.8625\n",
      "Epoch 144/250\n",
      "38040/38040 [==============================] - 242s 6ms/step - loss: 0.2553 - acc: 0.8984 - val_loss: 0.3224 - val_acc: 0.8621\n",
      "Epoch 145/250\n",
      "38040/38040 [==============================] - 243s 6ms/step - loss: 0.2541 - acc: 0.8993 - val_loss: 0.3247 - val_acc: 0.8618\n",
      "Epoch 146/250\n",
      "38040/38040 [==============================] - 237s 6ms/step - loss: 0.2528 - acc: 0.9003 - val_loss: 0.3253 - val_acc: 0.8621\n",
      "Epoch 147/250\n",
      "38040/38040 [==============================] - 236s 6ms/step - loss: 0.2522 - acc: 0.9004 - val_loss: 0.3146 - val_acc: 0.8659\n",
      "Epoch 148/250\n",
      "38040/38040 [==============================] - 237s 6ms/step - loss: 0.2530 - acc: 0.8994 - val_loss: 0.3275 - val_acc: 0.8616\n",
      "Epoch 149/250\n",
      "38040/38040 [==============================] - 238s 6ms/step - loss: 0.2519 - acc: 0.9001 - val_loss: 0.3187 - val_acc: 0.8641\n",
      "Epoch 150/250\n",
      "38040/38040 [==============================] - 236s 6ms/step - loss: 0.2500 - acc: 0.9009 - val_loss: 0.3237 - val_acc: 0.8616\n",
      "Epoch 151/250\n",
      "38040/38040 [==============================] - 235s 6ms/step - loss: 0.2503 - acc: 0.9010 - val_loss: 0.3194 - val_acc: 0.8625\n",
      "Epoch 152/250\n",
      "38040/38040 [==============================] - 233s 6ms/step - loss: 0.2495 - acc: 0.9017 - val_loss: 0.3238 - val_acc: 0.8633\n",
      "Epoch 153/250\n",
      "38040/38040 [==============================] - 235s 6ms/step - loss: 0.2478 - acc: 0.9021 - val_loss: 0.3165 - val_acc: 0.8653\n",
      "Epoch 154/250\n",
      "38040/38040 [==============================] - 237s 6ms/step - loss: 0.2487 - acc: 0.9014 - val_loss: 0.3160 - val_acc: 0.8666\n",
      "Epoch 155/250\n",
      "38040/38040 [==============================] - 234s 6ms/step - loss: 0.2484 - acc: 0.9028 - val_loss: 0.3127 - val_acc: 0.8696\n",
      "Epoch 156/250\n",
      "38040/38040 [==============================] - 235s 6ms/step - loss: 0.2459 - acc: 0.9034 - val_loss: 0.3162 - val_acc: 0.8682\n",
      "Epoch 157/250\n",
      "38040/38040 [==============================] - 235s 6ms/step - loss: 0.2468 - acc: 0.9020 - val_loss: 0.3116 - val_acc: 0.8674\n",
      "Epoch 158/250\n",
      "38040/38040 [==============================] - 237s 6ms/step - loss: 0.2455 - acc: 0.9022 - val_loss: 0.3127 - val_acc: 0.8649\n",
      "Epoch 159/250\n",
      "38040/38040 [==============================] - 234s 6ms/step - loss: 0.2463 - acc: 0.9026 - val_loss: 0.3153 - val_acc: 0.8731\n",
      "Epoch 160/250\n",
      "38040/38040 [==============================] - 238s 6ms/step - loss: 0.2438 - acc: 0.9044 - val_loss: 0.3187 - val_acc: 0.8668\n",
      "Epoch 161/250\n",
      "38040/38040 [==============================] - 242s 6ms/step - loss: 0.2436 - acc: 0.9051 - val_loss: 0.3219 - val_acc: 0.8661\n",
      "Epoch 162/250\n",
      "38040/38040 [==============================] - 234s 6ms/step - loss: 0.2424 - acc: 0.9049 - val_loss: 0.3282 - val_acc: 0.8670\n",
      "Epoch 163/250\n",
      "38040/38040 [==============================] - 238s 6ms/step - loss: 0.2410 - acc: 0.9058 - val_loss: 0.3144 - val_acc: 0.8688\n",
      "Epoch 164/250\n",
      "38040/38040 [==============================] - 239s 6ms/step - loss: 0.2410 - acc: 0.9053 - val_loss: 0.3154 - val_acc: 0.8698\n",
      "Epoch 165/250\n",
      "38040/38040 [==============================] - 243s 6ms/step - loss: 0.2414 - acc: 0.9053 - val_loss: 0.3184 - val_acc: 0.8666\n",
      "Epoch 166/250\n",
      "38040/38040 [==============================] - 241s 6ms/step - loss: 0.2386 - acc: 0.9066 - val_loss: 0.3131 - val_acc: 0.8686\n",
      "Epoch 167/250\n",
      "38040/38040 [==============================] - 240s 6ms/step - loss: 0.2388 - acc: 0.9070 - val_loss: 0.3064 - val_acc: 0.8715\n",
      "Epoch 168/250\n",
      "38040/38040 [==============================] - 243s 6ms/step - loss: 0.2388 - acc: 0.9066 - val_loss: 0.3120 - val_acc: 0.8702\n",
      "Epoch 169/250\n",
      "38040/38040 [==============================] - 238s 6ms/step - loss: 0.2373 - acc: 0.9074 - val_loss: 0.3116 - val_acc: 0.8686\n",
      "Epoch 170/250\n",
      "38040/38040 [==============================] - 240s 6ms/step - loss: 0.2383 - acc: 0.9076 - val_loss: 0.3019 - val_acc: 0.8749\n",
      "Epoch 171/250\n",
      "38040/38040 [==============================] - 238s 6ms/step - loss: 0.2351 - acc: 0.9084 - val_loss: 0.3074 - val_acc: 0.8731\n",
      "Epoch 172/250\n",
      "38040/38040 [==============================] - 243s 6ms/step - loss: 0.2345 - acc: 0.9087 - val_loss: 0.3138 - val_acc: 0.8717\n",
      "Epoch 173/250\n",
      "38040/38040 [==============================] - 239s 6ms/step - loss: 0.2350 - acc: 0.9097 - val_loss: 0.3057 - val_acc: 0.8743\n",
      "Epoch 174/250\n",
      "38040/38040 [==============================] - 243s 6ms/step - loss: 0.2358 - acc: 0.9085 - val_loss: 0.3057 - val_acc: 0.8717\n",
      "Epoch 175/250\n"
     ]
    },
    {
     "name": "stdout",
     "output_type": "stream",
     "text": [
      "38040/38040 [==============================] - 228s 6ms/step - loss: 0.2334 - acc: 0.9091 - val_loss: 0.3014 - val_acc: 0.8735\n",
      "Epoch 176/250\n",
      "38040/38040 [==============================] - 229s 6ms/step - loss: 0.2338 - acc: 0.9102 - val_loss: 0.3071 - val_acc: 0.8721\n",
      "Epoch 177/250\n",
      "38040/38040 [==============================] - 228s 6ms/step - loss: 0.2345 - acc: 0.9098 - val_loss: 0.3018 - val_acc: 0.8735\n",
      "Epoch 178/250\n",
      "38040/38040 [==============================] - 239s 6ms/step - loss: 0.2327 - acc: 0.9105 - val_loss: 0.3005 - val_acc: 0.8754\n",
      "Epoch 179/250\n",
      "38040/38040 [==============================] - 228s 6ms/step - loss: 0.2305 - acc: 0.9103 - val_loss: 0.3095 - val_acc: 0.8723\n",
      "Epoch 180/250\n",
      "38040/38040 [==============================] - 230s 6ms/step - loss: 0.2322 - acc: 0.9105 - val_loss: 0.3142 - val_acc: 0.8727\n",
      "Epoch 181/250\n",
      "38040/38040 [==============================] - 229s 6ms/step - loss: 0.2301 - acc: 0.9112 - val_loss: 0.3116 - val_acc: 0.8731\n",
      "Epoch 182/250\n",
      "38040/38040 [==============================] - 232s 6ms/step - loss: 0.2293 - acc: 0.9126 - val_loss: 0.3073 - val_acc: 0.8747\n",
      "Epoch 183/250\n",
      "38040/38040 [==============================] - 236s 6ms/step - loss: 0.2286 - acc: 0.9118 - val_loss: 0.2999 - val_acc: 0.8770\n",
      "Epoch 184/250\n",
      "38040/38040 [==============================] - 229s 6ms/step - loss: 0.2290 - acc: 0.9129 - val_loss: 0.3051 - val_acc: 0.8758\n",
      "Epoch 185/250\n",
      "38040/38040 [==============================] - 230s 6ms/step - loss: 0.2274 - acc: 0.9133 - val_loss: 0.3072 - val_acc: 0.8739\n",
      "Epoch 186/250\n",
      "38040/38040 [==============================] - 230s 6ms/step - loss: 0.2273 - acc: 0.9121 - val_loss: 0.3108 - val_acc: 0.8737\n",
      "Epoch 187/250\n",
      "38040/38040 [==============================] - 228s 6ms/step - loss: 0.2267 - acc: 0.9140 - val_loss: 0.3043 - val_acc: 0.8725\n",
      "Epoch 188/250\n",
      "38040/38040 [==============================] - 233s 6ms/step - loss: 0.2252 - acc: 0.9139 - val_loss: 0.3092 - val_acc: 0.8743\n",
      "Epoch 189/250\n",
      "38040/38040 [==============================] - 231s 6ms/step - loss: 0.2265 - acc: 0.9124 - val_loss: 0.2991 - val_acc: 0.8756\n",
      "Epoch 190/250\n",
      "38040/38040 [==============================] - 261s 7ms/step - loss: 0.2258 - acc: 0.9143 - val_loss: 0.2965 - val_acc: 0.8762\n",
      "Epoch 191/250\n",
      "38040/38040 [==============================] - 256s 7ms/step - loss: 0.2247 - acc: 0.9145 - val_loss: 0.2953 - val_acc: 0.8772\n",
      "Epoch 192/250\n",
      "38040/38040 [==============================] - 286s 8ms/step - loss: 0.2239 - acc: 0.9146 - val_loss: 0.2959 - val_acc: 0.8782\n",
      "Epoch 193/250\n",
      "38040/38040 [==============================] - 221s 6ms/step - loss: 0.2221 - acc: 0.9156 - val_loss: 0.3155 - val_acc: 0.8739\n",
      "Epoch 194/250\n",
      "38040/38040 [==============================] - 231s 6ms/step - loss: 0.2205 - acc: 0.9160 - val_loss: 0.2949 - val_acc: 0.8795\n",
      "Epoch 195/250\n",
      "38040/38040 [==============================] - 232s 6ms/step - loss: 0.2220 - acc: 0.9166 - val_loss: 0.2922 - val_acc: 0.8776\n",
      "Epoch 196/250\n",
      "38040/38040 [==============================] - 231s 6ms/step - loss: 0.2202 - acc: 0.9172 - val_loss: 0.2964 - val_acc: 0.8774\n",
      "Epoch 197/250\n",
      "38040/38040 [==============================] - 234s 6ms/step - loss: 0.2196 - acc: 0.9182 - val_loss: 0.2853 - val_acc: 0.8801\n",
      "Epoch 198/250\n",
      "38040/38040 [==============================] - 229s 6ms/step - loss: 0.2189 - acc: 0.9180 - val_loss: 0.2927 - val_acc: 0.8811\n",
      "Epoch 199/250\n",
      "38040/38040 [==============================] - 230s 6ms/step - loss: 0.2199 - acc: 0.9166 - val_loss: 0.3025 - val_acc: 0.8782\n",
      "Epoch 200/250\n",
      "38040/38040 [==============================] - 230s 6ms/step - loss: 0.2185 - acc: 0.9180 - val_loss: 0.3025 - val_acc: 0.8795\n",
      "Epoch 201/250\n",
      "38040/38040 [==============================] - 233s 6ms/step - loss: 0.2161 - acc: 0.9201 - val_loss: 0.3003 - val_acc: 0.8754\n",
      "Epoch 202/250\n",
      "38040/38040 [==============================] - 233s 6ms/step - loss: 0.2181 - acc: 0.9186 - val_loss: 0.2969 - val_acc: 0.8758\n",
      "Epoch 203/250\n",
      "38040/38040 [==============================] - 230s 6ms/step - loss: 0.2172 - acc: 0.9194 - val_loss: 0.2857 - val_acc: 0.8825\n",
      "Epoch 204/250\n",
      "38040/38040 [==============================] - 231s 6ms/step - loss: 0.2142 - acc: 0.9210 - val_loss: 0.2901 - val_acc: 0.8817\n",
      "Epoch 205/250\n",
      "38040/38040 [==============================] - 231s 6ms/step - loss: 0.2166 - acc: 0.9188 - val_loss: 0.3026 - val_acc: 0.8752\n",
      "Epoch 206/250\n",
      "38040/38040 [==============================] - 231s 6ms/step - loss: 0.2127 - acc: 0.9206 - val_loss: 0.3025 - val_acc: 0.8792\n",
      "Epoch 207/250\n",
      "38040/38040 [==============================] - 231s 6ms/step - loss: 0.2142 - acc: 0.9195 - val_loss: 0.2998 - val_acc: 0.8784\n",
      "Epoch 208/250\n",
      "38040/38040 [==============================] - 230s 6ms/step - loss: 0.2140 - acc: 0.9203 - val_loss: 0.3023 - val_acc: 0.8752\n",
      "Epoch 209/250\n",
      "38040/38040 [==============================] - 227s 6ms/step - loss: 0.2136 - acc: 0.9193 - val_loss: 0.2859 - val_acc: 0.8838\n",
      "Epoch 210/250\n",
      "38040/38040 [==============================] - 231s 6ms/step - loss: 0.2092 - acc: 0.9223 - val_loss: 0.3114 - val_acc: 0.8790\n",
      "Epoch 211/250\n",
      "38040/38040 [==============================] - 235s 6ms/step - loss: 0.2121 - acc: 0.9210 - val_loss: 0.3005 - val_acc: 0.8815\n",
      "Epoch 212/250\n",
      "38040/38040 [==============================] - 227s 6ms/step - loss: 0.2112 - acc: 0.9211 - val_loss: 0.2965 - val_acc: 0.8799\n",
      "Epoch 213/250\n",
      "38040/38040 [==============================] - 223s 6ms/step - loss: 0.2096 - acc: 0.9223 - val_loss: 0.2852 - val_acc: 0.8827\n",
      "Epoch 214/250\n",
      "38040/38040 [==============================] - 226s 6ms/step - loss: 0.2094 - acc: 0.9222 - val_loss: 0.2882 - val_acc: 0.8811\n",
      "Epoch 215/250\n",
      "38040/38040 [==============================] - 224s 6ms/step - loss: 0.2093 - acc: 0.9228 - val_loss: 0.3045 - val_acc: 0.8817\n",
      "Epoch 216/250\n",
      "38040/38040 [==============================] - 228s 6ms/step - loss: 0.2082 - acc: 0.9238 - val_loss: 0.2977 - val_acc: 0.8795\n",
      "Epoch 217/250\n",
      "38040/38040 [==============================] - 224s 6ms/step - loss: 0.2078 - acc: 0.9223 - val_loss: 0.3096 - val_acc: 0.8833\n",
      "Epoch 218/250\n",
      "38040/38040 [==============================] - 227s 6ms/step - loss: 0.2084 - acc: 0.9226 - val_loss: 0.2842 - val_acc: 0.8866\n",
      "Epoch 219/250\n",
      "38040/38040 [==============================] - 225s 6ms/step - loss: 0.2062 - acc: 0.9239 - val_loss: 0.2911 - val_acc: 0.8801\n",
      "Epoch 220/250\n",
      "38040/38040 [==============================] - 225s 6ms/step - loss: 0.2059 - acc: 0.9247 - val_loss: 0.2933 - val_acc: 0.8840\n",
      "Epoch 221/250\n",
      "38040/38040 [==============================] - 227s 6ms/step - loss: 0.2050 - acc: 0.9253 - val_loss: 0.2986 - val_acc: 0.8807\n",
      "Epoch 222/250\n",
      "38040/38040 [==============================] - 225s 6ms/step - loss: 0.2046 - acc: 0.9247 - val_loss: 0.2896 - val_acc: 0.8817\n",
      "Epoch 223/250\n",
      "38040/38040 [==============================] - 228s 6ms/step - loss: 0.2062 - acc: 0.9247 - val_loss: 0.2904 - val_acc: 0.8797\n",
      "Epoch 224/250\n",
      "38040/38040 [==============================] - 229s 6ms/step - loss: 0.2044 - acc: 0.9250 - val_loss: 0.2807 - val_acc: 0.8868\n",
      "Epoch 225/250\n",
      "38040/38040 [==============================] - 225s 6ms/step - loss: 0.2020 - acc: 0.9262 - val_loss: 0.2912 - val_acc: 0.8799\n",
      "Epoch 226/250\n",
      "38040/38040 [==============================] - 227s 6ms/step - loss: 0.2022 - acc: 0.9254 - val_loss: 0.2956 - val_acc: 0.8872\n",
      "Epoch 227/250\n",
      "38040/38040 [==============================] - 227s 6ms/step - loss: 0.2016 - acc: 0.9268 - val_loss: 0.2952 - val_acc: 0.8823\n",
      "Epoch 228/250\n",
      "38040/38040 [==============================] - 226s 6ms/step - loss: 0.2038 - acc: 0.9250 - val_loss: 0.2960 - val_acc: 0.8838\n",
      "Epoch 229/250\n",
      "38040/38040 [==============================] - 222s 6ms/step - loss: 0.2009 - acc: 0.9274 - val_loss: 0.2877 - val_acc: 0.8823\n",
      "Epoch 230/250\n",
      "38040/38040 [==============================] - 220s 6ms/step - loss: 0.2019 - acc: 0.9260 - val_loss: 0.2961 - val_acc: 0.8848\n",
      "Epoch 231/250\n",
      "38040/38040 [==============================] - 223s 6ms/step - loss: 0.2001 - acc: 0.9270 - val_loss: 0.2872 - val_acc: 0.8852\n",
      "Epoch 232/250\n",
      "38040/38040 [==============================] - 223s 6ms/step - loss: 0.1993 - acc: 0.9288 - val_loss: 0.2953 - val_acc: 0.8858\n",
      "Epoch 233/250\n"
     ]
    },
    {
     "name": "stdout",
     "output_type": "stream",
     "text": [
      "38040/38040 [==============================] - 224s 6ms/step - loss: 0.1971 - acc: 0.9294 - val_loss: 0.2844 - val_acc: 0.8838\n",
      "Epoch 234/250\n",
      "38040/38040 [==============================] - 223s 6ms/step - loss: 0.1968 - acc: 0.9282 - val_loss: 0.2885 - val_acc: 0.8842\n",
      "Epoch 235/250\n",
      "38040/38040 [==============================] - 227s 6ms/step - loss: 0.1978 - acc: 0.9289 - val_loss: 0.2813 - val_acc: 0.8854\n",
      "Epoch 236/250\n",
      "38040/38040 [==============================] - 220s 6ms/step - loss: 0.1984 - acc: 0.9280 - val_loss: 0.2923 - val_acc: 0.8850\n",
      "Epoch 237/250\n",
      "38040/38040 [==============================] - 222s 6ms/step - loss: 0.1967 - acc: 0.9273 - val_loss: 0.2838 - val_acc: 0.8870\n",
      "Epoch 238/250\n",
      "38040/38040 [==============================] - 219s 6ms/step - loss: 0.1949 - acc: 0.9299 - val_loss: 0.2895 - val_acc: 0.8815\n",
      "Epoch 239/250\n",
      "38040/38040 [==============================] - 233s 6ms/step - loss: 0.1961 - acc: 0.9286 - val_loss: 0.2988 - val_acc: 0.8815\n",
      "Epoch 240/250\n",
      "38040/38040 [==============================] - 221s 6ms/step - loss: 0.1936 - acc: 0.9311 - val_loss: 0.2928 - val_acc: 0.8829\n",
      "Epoch 241/250\n",
      "38040/38040 [==============================] - 226s 6ms/step - loss: 0.1931 - acc: 0.9308 - val_loss: 0.2762 - val_acc: 0.8852\n",
      "Epoch 242/250\n",
      "38040/38040 [==============================] - 223s 6ms/step - loss: 0.1937 - acc: 0.9310 - val_loss: 0.2843 - val_acc: 0.8864\n",
      "Epoch 243/250\n",
      "38040/38040 [==============================] - 221s 6ms/step - loss: 0.1938 - acc: 0.9295 - val_loss: 0.2776 - val_acc: 0.8907\n",
      "Epoch 244/250\n",
      "38040/38040 [==============================] - 222s 6ms/step - loss: 0.1923 - acc: 0.9313 - val_loss: 0.2931 - val_acc: 0.8842\n",
      "Epoch 245/250\n",
      "38040/38040 [==============================] - 223s 6ms/step - loss: 0.1930 - acc: 0.9316 - val_loss: 0.2748 - val_acc: 0.8883\n",
      "Epoch 246/250\n",
      "38040/38040 [==============================] - 228s 6ms/step - loss: 0.1921 - acc: 0.9316 - val_loss: 0.2693 - val_acc: 0.8887\n",
      "Epoch 247/250\n",
      "38040/38040 [==============================] - 229s 6ms/step - loss: 0.1909 - acc: 0.9324 - val_loss: 0.2885 - val_acc: 0.8866\n",
      "Epoch 248/250\n",
      "38040/38040 [==============================] - 223s 6ms/step - loss: 0.1919 - acc: 0.9314 - val_loss: 0.2860 - val_acc: 0.8852\n",
      "Epoch 249/250\n",
      "38040/38040 [==============================] - 227s 6ms/step - loss: 0.1904 - acc: 0.9328 - val_loss: 0.2871 - val_acc: 0.8864\n",
      "Epoch 250/250\n",
      "38040/38040 [==============================] - 266s 7ms/step - loss: 0.1901 - acc: 0.9325 - val_loss: 0.2889 - val_acc: 0.8860\n"
     ]
    }
   ],
   "source": [
    "history = model3c2.fit(X_train_up, \n",
    "                    y_train_up,\n",
    "                    epochs=250,\n",
    "                    batch_size=50,\n",
    "                    callbacks=callbacks,\n",
    "                    validation_data=(X_val, y_val))"
   ]
  },
  {
   "cell_type": "code",
   "execution_count": 235,
   "metadata": {},
   "outputs": [],
   "source": [
    "model3c2.save('results/RNN/models/model3c2.h5')\n",
    "model3c2.save_weights('results/RNN/models/model3c2.weights.h5')\n",
    "# model3c2b = model.load('results/RNN/models/model3c2.h5')"
   ]
  },
  {
   "cell_type": "code",
   "execution_count": 236,
   "metadata": {},
   "outputs": [],
   "source": [
    "y_train_pred3c2 = model3c2.predict_classes(X_train_up, batch_size = 38040)\n",
    "y_val_pred3c2 = model3c2.predict_classes(X_val, batch_size = 5114)\n",
    "y_train_prob3c2 = model3c2.predict_proba(X_train_up, batch_size = 38040)\n",
    "y_val_prob3c2 = model3c2.predict_proba(X_val, batch_size = 5114)"
   ]
  },
  {
   "cell_type": "code",
   "execution_count": 237,
   "metadata": {},
   "outputs": [
    {
     "data": {
      "text/plain": [
       "{'Train Accuracy': 0.94,\n",
       " 'Train Precision': 0.91,\n",
       " 'Train Recall': 0.97,\n",
       " 'Train F1': 0.94,\n",
       " 'Validation Accuracy': 0.89,\n",
       " 'Validation Precision': 0.36,\n",
       " 'Validation Recall': 0.79,\n",
       " 'Validation F1': 0.49}"
      ]
     },
     "execution_count": 237,
     "metadata": {},
     "output_type": "execute_result"
    }
   ],
   "source": [
    "compare_classification_metrics(y_train_up, y_train_pred3c2, y_val, y_val_pred3c2)"
   ]
  },
  {
   "cell_type": "code",
   "execution_count": 238,
   "metadata": {},
   "outputs": [
    {
     "name": "stdout",
     "output_type": "stream",
     "text": [
      "Adjusted Accuracy: 0.9380132968322252\n",
      "Adjusted Precision: 0.5596590909090909\n",
      "Adjusted Recall: 0.5487465181058496\n",
      "Adjusted F1 Score: 0.5541490857946555\n",
      "\n",
      "\n"
     ]
    },
    {
     "data": {
      "image/png": "[encoded data removed]",
      "text/plain": [
       "<Figure size 432x288 with 1 Axes>"
      ]
     },
     "metadata": {
      "needs_background": "light"
     },
     "output_type": "display_data"
    }
   ],
   "source": [
    "adj3c2, cm3c2 = adjust_threshold_and_score(y_val, y_val_prob3c2,.9, RNN = True)"
   ]
  },
  {
   "cell_type": "markdown",
   "metadata": {},
   "source": [
    "## RNN 3d - upsampling;  using 3c parameters + Adam optimizer"
   ]
  },
  {
   "cell_type": "code",
   "execution_count": 263,
   "metadata": {},
   "outputs": [
    {
     "name": "stdout",
     "output_type": "stream",
     "text": [
      "_________________________________________________________________\n",
      "Layer (type)                 Output Shape              Param #   \n",
      "=================================================================\n",
      "embedding_27 (Embedding)     (None, 39, 300)           11338500  \n",
      "_________________________________________________________________\n",
      "lstm_45 (LSTM)               (None, 39, 64)            93440     \n",
      "_________________________________________________________________\n",
      "batch_normalization_44 (Batc (None, 39, 64)            256       \n",
      "_________________________________________________________________\n",
      "lstm_46 (LSTM)               (None, 64)                33024     \n",
      "_________________________________________________________________\n",
      "batch_normalization_45 (Batc (None, 64)                256       \n",
      "_________________________________________________________________\n",
      "dense_23 (Dense)             (None, 1)                 65        \n",
      "=================================================================\n",
      "Total params: 11,465,541\n",
      "Trainable params: 126,785\n",
      "Non-trainable params: 11,338,756\n",
      "_________________________________________________________________\n",
      "None\n"
     ]
    }
   ],
   "source": [
    "model3d = Sequential()\n",
    "\n",
    "# filepath = 'results/RNN/weights.best.hdf5'\n",
    "csv_logger = CSVLogger('results/RNN/history_log/model3d.training.log')\n",
    "\n",
    "callbacks = [EarlyStopping(monitor='val_loss', patience = 10), \n",
    "             ReduceLROnPlateau(monitor='val_loss', patience = 10),\n",
    "            csv_logger]\n",
    "#              ModelCheckpoint(filepath, save_best_only = True, save_weights_only = True)]\n",
    "\n",
    "model3d.add(Embedding(num_words, 300, weights=[embedding_matrix300], input_length= 39, trainable=False))\n",
    "\n",
    "model3d.add(LSTM(64, activation='relu', return_sequences=True))\n",
    "model3d.add(BatchNormalization())\n",
    "\n",
    "model3d.add(LSTM(64, activation='relu'))\n",
    "model3d.add(BatchNormalization())\n",
    "\n",
    "model3d.add(Dense(1, activation='sigmoid'))\n",
    "\n",
    "model3d.compile(loss='binary_crossentropy', optimizer = Adam(lr=.00001), metrics=['accuracy'])\n",
    "\n",
    "print(model3d.summary())"
   ]
  },
  {
   "cell_type": "code",
   "execution_count": null,
   "metadata": {},
   "outputs": [
    {
     "name": "stdout",
     "output_type": "stream",
     "text": [
      "Train on 38040 samples, validate on 5114 samples\n",
      "Epoch 1/200\n",
      "38040/38040 [==============================] - 267s 7ms/step - loss: 0.6308 - acc: 0.6838 - val_loss: 0.4531 - val_acc: 0.8533\n",
      "Epoch 2/200\n",
      "38040/38040 [==============================] - 232s 6ms/step - loss: 0.4366 - acc: 0.8050 - val_loss: 0.3851 - val_acc: 0.8191\n",
      "Epoch 3/200\n",
      "38040/38040 [==============================] - 249s 7ms/step - loss: 0.3858 - acc: 0.8244 - val_loss: 0.4246 - val_acc: 0.7968\n",
      "Epoch 4/200\n",
      "18250/38040 [=============>................] - ETA: 2:15 - loss: 0.3732 - acc: 0.8323"
     ]
    }
   ],
   "source": [
    "history = model3d.fit(X_train_up, \n",
    "                    y_train_up,\n",
    "                    epochs=200,\n",
    "                    batch_size=50,\n",
    "                    callbacks=callbacks,\n",
    "                    validation_data=(X_val, y_val))"
   ]
  },
  {
   "cell_type": "code",
   "execution_count": null,
   "metadata": {},
   "outputs": [],
   "source": [
    "model3d.save('results/RNN/models/model3d.h5', overwrite = True)\n",
    "model3d.save_weights('results/RNN/models/model3d.weights.h5', overwrite = True)\n",
    "# model3d = model.load('results/RNN/models/model3d.h5')"
   ]
  },
  {
   "cell_type": "code",
   "execution_count": null,
   "metadata": {},
   "outputs": [],
   "source": [
    "plot_accuracy_loss('Model 3d', model3d, (.6,1), (0,.8))"
   ]
  },
  {
   "cell_type": "code",
   "execution_count": null,
   "metadata": {},
   "outputs": [],
   "source": [
    "y_train_pred3d = model3d.predict_classes(X_train_up, batch_size = 38040)\n",
    "y_val_pred3d = model3d.predict_classes(X_val, batch_size = 5114)\n",
    "y_train_prob3d = model3d.predict_proba(X_train_up, batch_size = 38040)\n",
    "y_val_prob3d = model3d.predict_proba(X_val, batch_size = 5114)"
   ]
  },
  {
   "cell_type": "code",
   "execution_count": null,
   "metadata": {},
   "outputs": [],
   "source": [
    "adj3d, cm3d = adjust_threshold_and_score(y_val, y_val_prob3d, .9, RNN = True)"
   ]
  },
  {
   "cell_type": "code",
   "execution_count": null,
   "metadata": {},
   "outputs": [],
   "source": [
    "pd.DataFrame(y_train_prob3d).describe()"
   ]
  },
  {
   "cell_type": "code",
   "execution_count": null,
   "metadata": {},
   "outputs": [],
   "source": [
    "seaborn_confusion_matrix(y_val, y_val_pred3d)"
   ]
  },
  {
   "cell_type": "code",
   "execution_count": null,
   "metadata": {},
   "outputs": [],
   "source": [
    "compare_classification_metrics(y_train_up, y_train_pred3d, y_val, y_val_pred3d)"
   ]
  },
  {
   "cell_type": "code",
   "execution_count": null,
   "metadata": {},
   "outputs": [],
   "source": [
    "y_adj_val3d, cm3d = adjust_threshold_and_score(y_val, y_val_prob3d, .84, RNN = True)"
   ]
  },
  {
   "cell_type": "markdown",
   "metadata": {},
   "source": [
    "## RNN 3f - upsampling - reducing to one layer LSTM "
   ]
  },
  {
   "cell_type": "code",
   "execution_count": 256,
   "metadata": {},
   "outputs": [
    {
     "name": "stdout",
     "output_type": "stream",
     "text": [
      "_________________________________________________________________\n",
      "Layer (type)                 Output Shape              Param #   \n",
      "=================================================================\n",
      "embedding_25 (Embedding)     (None, 39, 300)           11338500  \n",
      "_________________________________________________________________\n",
      "lstm_43 (LSTM)               (None, 64)                93440     \n",
      "_________________________________________________________________\n",
      "batch_normalization_42 (Batc (None, 64)                256       \n",
      "_________________________________________________________________\n",
      "dense_21 (Dense)             (None, 1)                 65        \n",
      "=================================================================\n",
      "Total params: 11,432,261\n",
      "Trainable params: 93,633\n",
      "Non-trainable params: 11,338,628\n",
      "_________________________________________________________________\n",
      "None\n"
     ]
    }
   ],
   "source": [
    "model3f = Sequential()\n",
    "\n",
    "# filepath = 'results/RNN/weights.best.hdf5'\n",
    "csv_logger = CSVLogger('results/RNN/history_log/model3f.training.log')\n",
    "\n",
    "callbacks = [EarlyStopping(monitor='val_loss', patience = 30), \n",
    "             ReduceLROnPlateau(monitor='val_loss', patience = 30),\n",
    "             csv_logger]\n",
    "#              ModelCheckpoint(filepath, save_best_only = True, save_weights_only = True)]\n",
    "\n",
    "model3f.add(Embedding(num_words, 300, weights=[embedding_matrix300], input_length= 39, trainable=False))\n",
    "\n",
    "# model3f.add(LSTM(64, activation='relu', return_sequences=True))\n",
    "# model3f.add(BatchNormalization())\n",
    "\n",
    "model3f.add(LSTM(64, activation='relu'))\n",
    "model3f.add(BatchNormalization())\n",
    "\n",
    "model3f.add(Dense(1, activation='sigmoid'))\n",
    "\n",
    "model3f.compile(loss='binary_crossentropy', optimizer = rmsprop(lr=.0001), metrics=['accuracy']) #optimizer=Adam\n",
    "\n",
    "print(model3f.summary())"
   ]
  },
  {
   "cell_type": "code",
   "execution_count": 257,
   "metadata": {},
   "outputs": [
    {
     "name": "stdout",
     "output_type": "stream",
     "text": [
      "Train on 38040 samples, validate on 5114 samples\n",
      "Epoch 1/250\n",
      "38040/38040 [==============================] - 152s 4ms/step - loss: 0.4459 - acc: 0.8034 - val_loss: 0.3745 - val_acc: 0.8348\n",
      "Epoch 2/250\n",
      "38040/38040 [==============================] - 133s 4ms/step - loss: 0.3179 - acc: 0.8732 - val_loss: 0.2846 - val_acc: 0.8889\n",
      "Epoch 3/250\n",
      "38040/38040 [==============================] - 134s 4ms/step - loss: 0.2820 - acc: 0.8893 - val_loss: 0.4841 - val_acc: 0.7732\n",
      "Epoch 4/250\n",
      "38040/38040 [==============================] - 125s 3ms/step - loss: 0.2594 - acc: 0.9007 - val_loss: 0.3569 - val_acc: 0.8725\n",
      "Epoch 5/250\n",
      "38040/38040 [==============================] - 126s 3ms/step - loss: 0.2455 - acc: 0.9094 - val_loss: 0.3900 - val_acc: 0.8567\n",
      "Epoch 6/250\n",
      "38040/38040 [==============================] - 128s 3ms/step - loss: 0.2291 - acc: 0.9171 - val_loss: 0.2625 - val_acc: 0.9378\n",
      "Epoch 7/250\n",
      "38040/38040 [==============================] - 127s 3ms/step - loss: 0.2224 - acc: 0.9218 - val_loss: 0.2785 - val_acc: 0.8973\n",
      "Epoch 8/250\n",
      "38040/38040 [==============================] - 132s 3ms/step - loss: 0.2102 - acc: 0.9249 - val_loss: 0.2207 - val_acc: 0.9140\n",
      "Epoch 9/250\n",
      "38040/38040 [==============================] - 137s 4ms/step - loss: 0.1985 - acc: 0.9312 - val_loss: 0.2915 - val_acc: 0.8917\n",
      "Epoch 10/250\n",
      "38040/38040 [==============================] - 129s 3ms/step - loss: 0.1902 - acc: 0.9330 - val_loss: 0.2262 - val_acc: 0.9081\n",
      "Epoch 11/250\n",
      "38040/38040 [==============================] - 128s 3ms/step - loss: 0.1787 - acc: 0.9381 - val_loss: 0.2159 - val_acc: 0.9382\n",
      "Epoch 12/250\n",
      "38040/38040 [==============================] - 121s 3ms/step - loss: 0.1707 - acc: 0.9423 - val_loss: 0.1909 - val_acc: 0.9396\n",
      "Epoch 13/250\n",
      "38040/38040 [==============================] - 121s 3ms/step - loss: 0.1623 - acc: 0.9457 - val_loss: 0.2122 - val_acc: 0.9104\n",
      "Epoch 14/250\n",
      "38040/38040 [==============================] - 121s 3ms/step - loss: 0.1551 - acc: 0.9481 - val_loss: 0.1524 - val_acc: 0.9468\n",
      "Epoch 15/250\n",
      "38040/38040 [==============================] - 122s 3ms/step - loss: 0.1492 - acc: 0.9513 - val_loss: 0.2876 - val_acc: 0.8838\n",
      "Epoch 16/250\n",
      "38040/38040 [==============================] - 126s 3ms/step - loss: 0.1444 - acc: 0.9529 - val_loss: 0.2212 - val_acc: 0.9159\n",
      "Epoch 17/250\n",
      "38040/38040 [==============================] - 128s 3ms/step - loss: 0.1370 - acc: 0.9574 - val_loss: 0.3052 - val_acc: 0.8758\n",
      "Epoch 18/250\n",
      "38040/38040 [==============================] - 137s 4ms/step - loss: 0.1304 - acc: 0.9588 - val_loss: 0.3853 - val_acc: 0.8492\n",
      "Epoch 19/250\n",
      "38040/38040 [==============================] - 124s 3ms/step - loss: 0.1232 - acc: 0.9619 - val_loss: 0.1665 - val_acc: 0.9423\n",
      "Epoch 20/250\n",
      "38040/38040 [==============================] - 120s 3ms/step - loss: 0.1190 - acc: 0.9632 - val_loss: 0.2265 - val_acc: 0.9239\n",
      "Epoch 21/250\n",
      "38040/38040 [==============================] - 116s 3ms/step - loss: 0.1138 - acc: 0.9655 - val_loss: 0.2607 - val_acc: 0.8930\n",
      "Epoch 22/250\n",
      "38040/38040 [==============================] - 280s 7ms/step - loss: 0.1085 - acc: 0.9674 - val_loss: 0.2501 - val_acc: 0.8926\n",
      "Epoch 23/250\n",
      "38040/38040 [==============================] - 124s 3ms/step - loss: 0.1039 - acc: 0.9683 - val_loss: 0.1700 - val_acc: 0.9452\n",
      "Epoch 24/250\n",
      "38040/38040 [==============================] - 120s 3ms/step - loss: 0.1004 - acc: 0.9702 - val_loss: 0.1530 - val_acc: 0.9527\n",
      "Epoch 25/250\n",
      "38040/38040 [==============================] - 122s 3ms/step - loss: 0.0986 - acc: 0.9714 - val_loss: 0.1809 - val_acc: 0.9404\n",
      "Epoch 26/250\n",
      "38040/38040 [==============================] - 119s 3ms/step - loss: 0.0944 - acc: 0.9736 - val_loss: 0.1836 - val_acc: 0.9353\n",
      "Epoch 27/250\n",
      "38040/38040 [==============================] - 122s 3ms/step - loss: 0.0855 - acc: 0.9749 - val_loss: 0.1538 - val_acc: 0.9476\n",
      "Epoch 28/250\n",
      "38040/38040 [==============================] - 120s 3ms/step - loss: 0.0841 - acc: 0.9764 - val_loss: 0.2234 - val_acc: 0.9116\n",
      "Epoch 29/250\n",
      "38040/38040 [==============================] - 121s 3ms/step - loss: 0.0801 - acc: 0.9773 - val_loss: 0.1746 - val_acc: 0.9376\n",
      "Epoch 30/250\n",
      "38040/38040 [==============================] - 122s 3ms/step - loss: 0.0766 - acc: 0.9779 - val_loss: 0.2045 - val_acc: 0.9247\n",
      "Epoch 31/250\n",
      "38040/38040 [==============================] - 122s 3ms/step - loss: 0.0689 - acc: 0.9802 - val_loss: 0.2177 - val_acc: 0.9222\n",
      "Epoch 32/250\n",
      "38040/38040 [==============================] - 121s 3ms/step - loss: 0.0693 - acc: 0.9792 - val_loss: 0.1817 - val_acc: 0.9406\n",
      "Epoch 33/250\n",
      "38040/38040 [==============================] - 115s 3ms/step - loss: 0.0639 - acc: 0.9826 - val_loss: 0.2432 - val_acc: 0.9320\n",
      "Epoch 34/250\n",
      "38040/38040 [==============================] - 124s 3ms/step - loss: 0.0620 - acc: 0.9817 - val_loss: 0.2258 - val_acc: 0.9275\n",
      "Epoch 35/250\n",
      "38040/38040 [==============================] - 127s 3ms/step - loss: 0.0594 - acc: 0.9831 - val_loss: 0.2938 - val_acc: 0.9198\n",
      "Epoch 36/250\n",
      "38040/38040 [==============================] - 129s 3ms/step - loss: 0.0553 - acc: 0.9845 - val_loss: 0.2072 - val_acc: 0.9421\n",
      "Epoch 37/250\n",
      "38040/38040 [==============================] - 131s 3ms/step - loss: 0.0538 - acc: 0.9845 - val_loss: 0.2248 - val_acc: 0.9337\n",
      "Epoch 38/250\n",
      "38040/38040 [==============================] - 125s 3ms/step - loss: 0.0515 - acc: 0.9856 - val_loss: 0.2186 - val_acc: 0.9376\n",
      "Epoch 39/250\n",
      "38040/38040 [==============================] - 123s 3ms/step - loss: 0.0491 - acc: 0.9868 - val_loss: 0.2049 - val_acc: 0.9482\n",
      "Epoch 40/250\n",
      "38040/38040 [==============================] - 124s 3ms/step - loss: 0.0470 - acc: 0.9871 - val_loss: 0.2410 - val_acc: 0.9427\n",
      "Epoch 41/250\n",
      "38040/38040 [==============================] - 122s 3ms/step - loss: 0.0430 - acc: 0.9886 - val_loss: 0.2488 - val_acc: 0.9497\n",
      "Epoch 42/250\n",
      "38040/38040 [==============================] - 124s 3ms/step - loss: 0.0408 - acc: 0.9885 - val_loss: 0.3010 - val_acc: 0.9302\n",
      "Epoch 43/250\n",
      "38040/38040 [==============================] - 128s 3ms/step - loss: 0.0403 - acc: 0.9886 - val_loss: 0.2559 - val_acc: 0.9468\n",
      "Epoch 44/250\n",
      "38040/38040 [==============================] - 122s 3ms/step - loss: 0.0381 - acc: 0.9894 - val_loss: 0.2443 - val_acc: 0.9433\n"
     ]
    }
   ],
   "source": [
    "history = model3f.fit(X_train_up, \n",
    "                    y_train_up,\n",
    "                    epochs=250,\n",
    "                    batch_size=50,\n",
    "                    callbacks=callbacks,\n",
    "                    validation_data=(X_val, y_val))"
   ]
  },
  {
   "cell_type": "code",
   "execution_count": 258,
   "metadata": {},
   "outputs": [],
   "source": [
    "model3f.save('results/RNN/models/model3f.h5')\n",
    "model3f.save_weights('results/RNN/models/model3f.weights.h5')\n",
    "# model3f = model.load('results/RNN/models/model3f.h5')"
   ]
  },
  {
   "cell_type": "code",
   "execution_count": null,
   "metadata": {},
   "outputs": [],
   "source": [
    "plot_accuracy_loss('Model 3f', model3f, (.6,1), (0,.8))"
   ]
  },
  {
   "cell_type": "code",
   "execution_count": 259,
   "metadata": {},
   "outputs": [],
   "source": [
    "y_train_pred3f = model3f.predict_classes(X_train_up, batch_size = 50)\n",
    "y_val_pred3f = model3f.predict_classes(X_val, batch_size = 50)\n",
    "y_train_prob3f = model3f.predict_proba(X_train_up, batch_size = 50)\n",
    "y_val_prob3f = model3f.predict_proba(X_val, batch_size = 50)"
   ]
  },
  {
   "cell_type": "code",
   "execution_count": 727,
   "metadata": {},
   "outputs": [
    {
     "data": {
      "text/html": [
       "<div>\n",
       "<style scoped>\n",
       "    .dataframe tbody tr th:only-of-type {\n",
       "        vertical-align: middle;\n",
       "    }\n",
       "\n",
       "    .dataframe tbody tr th {\n",
       "        vertical-align: top;\n",
       "    }\n",
       "\n",
       "    .dataframe thead th {\n",
       "        text-align: right;\n",
       "    }\n",
       "</style>\n",
       "<table border=\"1\" class=\"dataframe\">\n",
       "  <thead>\n",
       "    <tr style=\"text-align: right;\">\n",
       "      <th></th>\n",
       "      <th>0</th>\n",
       "    </tr>\n",
       "  </thead>\n",
       "  <tbody>\n",
       "    <tr>\n",
       "      <th>count</th>\n",
       "      <td>38040.000000</td>\n",
       "    </tr>\n",
       "    <tr>\n",
       "      <th>mean</th>\n",
       "      <td>0.406776</td>\n",
       "    </tr>\n",
       "    <tr>\n",
       "      <th>std</th>\n",
       "      <td>0.327530</td>\n",
       "    </tr>\n",
       "    <tr>\n",
       "      <th>min</th>\n",
       "      <td>0.000000</td>\n",
       "    </tr>\n",
       "    <tr>\n",
       "      <th>25%</th>\n",
       "      <td>0.079190</td>\n",
       "    </tr>\n",
       "    <tr>\n",
       "      <th>50%</th>\n",
       "      <td>0.363966</td>\n",
       "    </tr>\n",
       "    <tr>\n",
       "      <th>75%</th>\n",
       "      <td>0.731913</td>\n",
       "    </tr>\n",
       "    <tr>\n",
       "      <th>max</th>\n",
       "      <td>0.999998</td>\n",
       "    </tr>\n",
       "  </tbody>\n",
       "</table>\n",
       "</div>"
      ],
      "text/plain": [
       "                  0\n",
       "count  38040.000000\n",
       "mean       0.406776\n",
       "std        0.327530\n",
       "min        0.000000\n",
       "25%        0.079190\n",
       "50%        0.363966\n",
       "75%        0.731913\n",
       "max        0.999998"
      ]
     },
     "execution_count": 727,
     "metadata": {},
     "output_type": "execute_result"
    }
   ],
   "source": [
    "pd.DataFrame(y_train_prob3f).describe()"
   ]
  },
  {
   "cell_type": "code",
   "execution_count": 729,
   "metadata": {},
   "outputs": [
    {
     "data": {
      "image/png": "[encoded data removed]",
      "text/plain": [
       "<Figure size 432x288 with 1 Axes>"
      ]
     },
     "metadata": {
      "needs_background": "light"
     },
     "output_type": "display_data"
    }
   ],
   "source": [
    "seaborn_confusion_matrix(y_val, y_val_pred3f)"
   ]
  },
  {
   "cell_type": "code",
   "execution_count": 730,
   "metadata": {},
   "outputs": [
    {
     "data": {
      "text/plain": [
       "{'Train Accuracy': 0.91,\n",
       " 'Train Precision': 0.96,\n",
       " 'Train Recall': 0.86,\n",
       " 'Train F1': 0.91,\n",
       " 'Validation Accuracy': 0.93,\n",
       " 'Validation Precision': 0.52,\n",
       " 'Validation Recall': 0.68,\n",
       " 'Validation F1': 0.59}"
      ]
     },
     "execution_count": 730,
     "metadata": {},
     "output_type": "execute_result"
    }
   ],
   "source": [
    "compare_classification_metrics(y_train_up, y_train_pred3f, y_val, y_val_pred3f)"
   ]
  },
  {
   "cell_type": "code",
   "execution_count": 731,
   "metadata": {},
   "outputs": [
    {
     "name": "stdout",
     "output_type": "stream",
     "text": [
      "Adjusted Accuracy: 0.9489636292530309\n",
      "Adjusted Precision: 0.6737588652482269\n",
      "Adjusted Recall: 0.5292479108635098\n",
      "Adjusted F1 Score: 0.5928237129485179\n",
      "\n",
      "\n"
     ]
    },
    {
     "data": {
      "image/png": "[encoded data removed]",
      "text/plain": [
       "<Figure size 432x288 with 1 Axes>"
      ]
     },
     "metadata": {
      "needs_background": "light"
     },
     "output_type": "display_data"
    }
   ],
   "source": [
    "y_adj_val3f, cm3f = adjust_threshold_and_score(y_val, y_val_prob3f, .7, RNN = True)"
   ]
  },
  {
   "cell_type": "markdown",
   "metadata": {},
   "source": [
    "## RNN 3g - upsampling with just 1 layer, increasing batch size to 100\n",
    "\n",
    "-- got F1 up to .6 without adjustment (adjustment didn't increase F1).  Now trying to decrease learning rate to .00001 again to see if it helps, since the validation loss and accuracy were volatile"
   ]
  },
  {
   "cell_type": "code",
   "execution_count": 260,
   "metadata": {},
   "outputs": [
    {
     "name": "stdout",
     "output_type": "stream",
     "text": [
      "_________________________________________________________________\n",
      "Layer (type)                 Output Shape              Param #   \n",
      "=================================================================\n",
      "embedding_26 (Embedding)     (None, 39, 300)           11338500  \n",
      "_________________________________________________________________\n",
      "lstm_44 (LSTM)               (None, 64)                93440     \n",
      "_________________________________________________________________\n",
      "batch_normalization_43 (Batc (None, 64)                256       \n",
      "_________________________________________________________________\n",
      "dense_22 (Dense)             (None, 1)                 65        \n",
      "=================================================================\n",
      "Total params: 11,432,261\n",
      "Trainable params: 93,633\n",
      "Non-trainable params: 11,338,628\n",
      "_________________________________________________________________\n",
      "None\n"
     ]
    }
   ],
   "source": [
    "model3g = Sequential()\n",
    "\n",
    "# filepath = 'results/RNN/weights.best.hdf5'\n",
    "csv_logger = CSVLogger('results/RNN/history_log/model3g.training.log')\n",
    "\n",
    "callbacks = [EarlyStopping(monitor='val_loss', patience = 30), \n",
    "             ReduceLROnPlateau(monitor='val_loss', patience = 30),\n",
    "             csv_logger]\n",
    "#              ModelCheckpoint(filepath, save_best_only = True, save_weights_only = True)]\n",
    "\n",
    "model3g.add(Embedding(num_words, 300, weights=[embedding_matrix300], input_length= 39, trainable=False))\n",
    "\n",
    "# model3f.add(LSTM(64, activation='relu', return_sequences=True))\n",
    "# model3f.add(BatchNormalization())\n",
    "\n",
    "model3g.add(LSTM(64, activation='relu'))\n",
    "model3g.add(BatchNormalization())\n",
    "\n",
    "model3g.add(Dense(1, activation='sigmoid'))\n",
    "\n",
    "model3g.compile(loss='binary_crossentropy', optimizer = rmsprop(lr=.00001), metrics=['accuracy']) \n",
    "\n",
    "print(model3g.summary())"
   ]
  },
  {
   "cell_type": "code",
   "execution_count": 261,
   "metadata": {},
   "outputs": [
    {
     "name": "stdout",
     "output_type": "stream",
     "text": [
      "Train on 38040 samples, validate on 5114 samples\n",
      "Epoch 1/250\n",
      "38040/38040 [==============================] - 93s 2ms/step - loss: 0.6911 - acc: 0.6428 - val_loss: 0.6811 - val_acc: 0.8490\n",
      "Epoch 2/250\n",
      "38040/38040 [==============================] - 76s 2ms/step - loss: 0.6813 - acc: 0.7195 - val_loss: 0.6524 - val_acc: 0.8645\n",
      "Epoch 3/250\n",
      "38040/38040 [==============================] - 76s 2ms/step - loss: 0.6431 - acc: 0.7808 - val_loss: 0.5782 - val_acc: 0.8541\n",
      "Epoch 4/250\n",
      "38040/38040 [==============================] - 78s 2ms/step - loss: 0.5530 - acc: 0.8095 - val_loss: 0.5352 - val_acc: 0.8002\n",
      "Epoch 5/250\n",
      "38040/38040 [==============================] - 75s 2ms/step - loss: 0.4815 - acc: 0.8215 - val_loss: 0.5137 - val_acc: 0.7806\n",
      "Epoch 6/250\n",
      "38040/38040 [==============================] - 74s 2ms/step - loss: 0.4394 - acc: 0.8300 - val_loss: 0.4444 - val_acc: 0.8076\n",
      "Epoch 7/250\n",
      "38040/38040 [==============================] - 75s 2ms/step - loss: 0.4111 - acc: 0.8371 - val_loss: 0.4190 - val_acc: 0.8176\n",
      "Epoch 8/250\n",
      "38040/38040 [==============================] - 74s 2ms/step - loss: 0.3940 - acc: 0.8406 - val_loss: 0.4263 - val_acc: 0.8133\n",
      "Epoch 9/250\n",
      "38040/38040 [==============================] - 74s 2ms/step - loss: 0.3800 - acc: 0.8461 - val_loss: 0.4058 - val_acc: 0.8205\n",
      "Epoch 10/250\n",
      "38040/38040 [==============================] - 76s 2ms/step - loss: 0.3655 - acc: 0.8511 - val_loss: 0.3779 - val_acc: 0.8303\n",
      "Epoch 11/250\n",
      "38040/38040 [==============================] - 76s 2ms/step - loss: 0.3549 - acc: 0.8553 - val_loss: 0.4177 - val_acc: 0.8093\n",
      "Epoch 12/250\n",
      "38040/38040 [==============================] - 76s 2ms/step - loss: 0.3457 - acc: 0.8583 - val_loss: 0.3663 - val_acc: 0.8385\n",
      "Epoch 13/250\n",
      "38040/38040 [==============================] - 76s 2ms/step - loss: 0.3381 - acc: 0.8616 - val_loss: 0.3518 - val_acc: 0.8461\n",
      "Epoch 14/250\n",
      "38040/38040 [==============================] - 73s 2ms/step - loss: 0.3305 - acc: 0.8650 - val_loss: 0.3570 - val_acc: 0.8424\n",
      "Epoch 15/250\n",
      "38040/38040 [==============================] - 72s 2ms/step - loss: 0.3251 - acc: 0.8678 - val_loss: 0.3588 - val_acc: 0.8434\n",
      "Epoch 16/250\n",
      "38040/38040 [==============================] - 77s 2ms/step - loss: 0.3190 - acc: 0.8720 - val_loss: 0.3794 - val_acc: 0.8312\n",
      "Epoch 17/250\n",
      "38040/38040 [==============================] - 77s 2ms/step - loss: 0.3140 - acc: 0.8752 - val_loss: 0.3280 - val_acc: 0.8553\n",
      "Epoch 18/250\n",
      "38040/38040 [==============================] - 76s 2ms/step - loss: 0.3082 - acc: 0.8780 - val_loss: 0.3578 - val_acc: 0.8424\n",
      "Epoch 19/250\n",
      "38040/38040 [==============================] - 74s 2ms/step - loss: 0.3031 - acc: 0.8814 - val_loss: 0.3205 - val_acc: 0.8618\n",
      "Epoch 20/250\n",
      "38040/38040 [==============================] - 84s 2ms/step - loss: 0.2993 - acc: 0.8834 - val_loss: 0.3157 - val_acc: 0.8653\n",
      "Epoch 21/250\n",
      "38040/38040 [==============================] - 150s 4ms/step - loss: 0.2940 - acc: 0.8858 - val_loss: 0.3139 - val_acc: 0.8657\n",
      "Epoch 22/250\n",
      "38040/38040 [==============================] - 157s 4ms/step - loss: 0.2901 - acc: 0.8881 - val_loss: 0.3133 - val_acc: 0.8657\n",
      "Epoch 23/250\n",
      "38040/38040 [==============================] - 135s 4ms/step - loss: 0.2859 - acc: 0.8907 - val_loss: 0.3223 - val_acc: 0.8631\n",
      "Epoch 24/250\n",
      "38040/38040 [==============================] - 75s 2ms/step - loss: 0.2827 - acc: 0.8927 - val_loss: 0.3236 - val_acc: 0.8614\n",
      "Epoch 25/250\n",
      "38040/38040 [==============================] - 76s 2ms/step - loss: 0.2793 - acc: 0.8932 - val_loss: 0.3041 - val_acc: 0.8794\n",
      "Epoch 26/250\n",
      "38040/38040 [==============================] - 75s 2ms/step - loss: 0.2748 - acc: 0.8956 - val_loss: 0.2906 - val_acc: 0.8778\n",
      "Epoch 27/250\n",
      "38040/38040 [==============================] - 75s 2ms/step - loss: 0.2723 - acc: 0.8976 - val_loss: 0.3140 - val_acc: 0.8711\n",
      "Epoch 28/250\n",
      "38040/38040 [==============================] - 76s 2ms/step - loss: 0.2682 - acc: 0.9000 - val_loss: 0.2676 - val_acc: 0.8999\n",
      "Epoch 29/250\n",
      "38040/38040 [==============================] - 73s 2ms/step - loss: 0.2643 - acc: 0.9028 - val_loss: 0.3030 - val_acc: 0.8727\n",
      "Epoch 30/250\n",
      "38040/38040 [==============================] - 75s 2ms/step - loss: 0.2617 - acc: 0.9030 - val_loss: 0.2972 - val_acc: 0.8774\n",
      "Epoch 31/250\n",
      "38040/38040 [==============================] - 74s 2ms/step - loss: 0.2584 - acc: 0.9044 - val_loss: 0.2887 - val_acc: 0.8772\n",
      "Epoch 32/250\n",
      "38040/38040 [==============================] - 75s 2ms/step - loss: 0.2540 - acc: 0.9062 - val_loss: 0.2987 - val_acc: 0.8762\n",
      "Epoch 33/250\n",
      "38040/38040 [==============================] - 74s 2ms/step - loss: 0.2513 - acc: 0.9073 - val_loss: 0.2889 - val_acc: 0.8815\n",
      "Epoch 34/250\n",
      "38040/38040 [==============================] - 75s 2ms/step - loss: 0.2470 - acc: 0.9100 - val_loss: 0.2677 - val_acc: 0.8930\n",
      "Epoch 35/250\n",
      "38040/38040 [==============================] - 75s 2ms/step - loss: 0.2435 - acc: 0.9113 - val_loss: 0.2820 - val_acc: 0.8825\n",
      "Epoch 36/250\n",
      "38040/38040 [==============================] - 76s 2ms/step - loss: 0.2397 - acc: 0.9143 - val_loss: 0.3506 - val_acc: 0.8400\n",
      "Epoch 37/250\n",
      "38040/38040 [==============================] - 75s 2ms/step - loss: 0.2369 - acc: 0.9159 - val_loss: 0.2899 - val_acc: 0.8764\n",
      "Epoch 38/250\n",
      "38040/38040 [==============================] - 74s 2ms/step - loss: 0.2342 - acc: 0.9181 - val_loss: 0.2572 - val_acc: 0.8958\n",
      "Epoch 39/250\n",
      "38040/38040 [==============================] - 71s 2ms/step - loss: 0.2310 - acc: 0.9189 - val_loss: 0.3124 - val_acc: 0.8633\n",
      "Epoch 40/250\n",
      "38040/38040 [==============================] - 70s 2ms/step - loss: 0.2280 - acc: 0.9215 - val_loss: 0.3320 - val_acc: 0.8539\n",
      "Epoch 41/250\n",
      "38040/38040 [==============================] - 70s 2ms/step - loss: 0.2247 - acc: 0.9222 - val_loss: 0.2804 - val_acc: 0.8795\n",
      "Epoch 42/250\n",
      "38040/38040 [==============================] - 70s 2ms/step - loss: 0.2220 - acc: 0.9246 - val_loss: 0.2674 - val_acc: 0.8862\n",
      "Epoch 43/250\n",
      "38040/38040 [==============================] - 70s 2ms/step - loss: 0.2195 - acc: 0.9267 - val_loss: 0.2825 - val_acc: 0.8805\n",
      "Epoch 44/250\n",
      "38040/38040 [==============================] - 69s 2ms/step - loss: 0.2173 - acc: 0.9271 - val_loss: 0.2363 - val_acc: 0.9089\n",
      "Epoch 45/250\n",
      "38040/38040 [==============================] - 69s 2ms/step - loss: 0.2137 - acc: 0.9294 - val_loss: 0.2668 - val_acc: 0.8882\n",
      "Epoch 46/250\n",
      "38040/38040 [==============================] - 70s 2ms/step - loss: 0.2120 - acc: 0.9320 - val_loss: 0.2597 - val_acc: 0.8952\n",
      "Epoch 47/250\n",
      "38040/38040 [==============================] - 69s 2ms/step - loss: 0.2096 - acc: 0.9322 - val_loss: 0.2823 - val_acc: 0.8813\n",
      "Epoch 48/250\n",
      "38040/38040 [==============================] - 70s 2ms/step - loss: 0.2075 - acc: 0.9335 - val_loss: 0.2652 - val_acc: 0.8901\n",
      "Epoch 49/250\n",
      "38040/38040 [==============================] - 70s 2ms/step - loss: 0.2051 - acc: 0.9339 - val_loss: 0.2619 - val_acc: 0.8909\n",
      "Epoch 50/250\n",
      "38040/38040 [==============================] - 70s 2ms/step - loss: 0.2022 - acc: 0.9369 - val_loss: 0.2806 - val_acc: 0.8829\n",
      "Epoch 51/250\n",
      "38040/38040 [==============================] - 69s 2ms/step - loss: 0.2016 - acc: 0.9361 - val_loss: 0.2298 - val_acc: 0.9110\n",
      "Epoch 52/250\n",
      "38040/38040 [==============================] - 70s 2ms/step - loss: 0.1997 - acc: 0.9378 - val_loss: 0.2656 - val_acc: 0.8880\n",
      "Epoch 53/250\n",
      "38040/38040 [==============================] - 69s 2ms/step - loss: 0.1971 - acc: 0.9382 - val_loss: 0.2579 - val_acc: 0.8925\n",
      "Epoch 54/250\n",
      "38040/38040 [==============================] - 69s 2ms/step - loss: 0.1942 - acc: 0.9398 - val_loss: 0.2376 - val_acc: 0.9087\n",
      "Epoch 55/250\n",
      "38040/38040 [==============================] - 70s 2ms/step - loss: 0.1926 - acc: 0.9410 - val_loss: 0.2340 - val_acc: 0.9089\n",
      "Epoch 56/250\n",
      "38040/38040 [==============================] - 70s 2ms/step - loss: 0.1909 - acc: 0.9411 - val_loss: 0.2556 - val_acc: 0.8952\n",
      "Epoch 57/250\n",
      "38040/38040 [==============================] - 69s 2ms/step - loss: 0.1886 - acc: 0.9429 - val_loss: 0.2699 - val_acc: 0.8852\n",
      "Epoch 58/250\n",
      "38040/38040 [==============================] - 69s 2ms/step - loss: 0.1867 - acc: 0.9441 - val_loss: 0.2424 - val_acc: 0.9040\n",
      "Epoch 59/250\n"
     ]
    },
    {
     "name": "stdout",
     "output_type": "stream",
     "text": [
      "38040/38040 [==============================] - 69s 2ms/step - loss: 0.1851 - acc: 0.9440 - val_loss: 0.2369 - val_acc: 0.9091\n",
      "Epoch 60/250\n",
      "38040/38040 [==============================] - 69s 2ms/step - loss: 0.1824 - acc: 0.9450 - val_loss: 0.2038 - val_acc: 0.9251\n",
      "Epoch 61/250\n",
      "38040/38040 [==============================] - 69s 2ms/step - loss: 0.1814 - acc: 0.9457 - val_loss: 0.2197 - val_acc: 0.9126\n",
      "Epoch 62/250\n",
      "38040/38040 [==============================] - 69s 2ms/step - loss: 0.1785 - acc: 0.9468 - val_loss: 0.2717 - val_acc: 0.8864\n",
      "Epoch 63/250\n",
      "38040/38040 [==============================] - 69s 2ms/step - loss: 0.1769 - acc: 0.9481 - val_loss: 0.2042 - val_acc: 0.9224\n",
      "Epoch 64/250\n",
      "38040/38040 [==============================] - 69s 2ms/step - loss: 0.1758 - acc: 0.9487 - val_loss: 0.2820 - val_acc: 0.8837\n",
      "Epoch 65/250\n",
      "38040/38040 [==============================] - 69s 2ms/step - loss: 0.1732 - acc: 0.9502 - val_loss: 0.2622 - val_acc: 0.8919\n",
      "Epoch 66/250\n",
      "38040/38040 [==============================] - 69s 2ms/step - loss: 0.1734 - acc: 0.9501 - val_loss: 0.2491 - val_acc: 0.8985\n",
      "Epoch 67/250\n",
      "38040/38040 [==============================] - 69s 2ms/step - loss: 0.1707 - acc: 0.9514 - val_loss: 0.2364 - val_acc: 0.9065\n",
      "Epoch 68/250\n",
      "38040/38040 [==============================] - 73s 2ms/step - loss: 0.1685 - acc: 0.9522 - val_loss: 0.2622 - val_acc: 0.8948\n",
      "Epoch 69/250\n",
      "38040/38040 [==============================] - 77s 2ms/step - loss: 0.1676 - acc: 0.9528 - val_loss: 0.2492 - val_acc: 0.8997\n",
      "Epoch 70/250\n",
      "38040/38040 [==============================] - 84s 2ms/step - loss: 0.1657 - acc: 0.9542 - val_loss: 0.2228 - val_acc: 0.9151\n",
      "Epoch 71/250\n",
      "38040/38040 [==============================] - 71s 2ms/step - loss: 0.1639 - acc: 0.9549 - val_loss: 0.2344 - val_acc: 0.9069\n",
      "Epoch 72/250\n",
      "38040/38040 [==============================] - 72s 2ms/step - loss: 0.1635 - acc: 0.9553 - val_loss: 0.2552 - val_acc: 0.8969\n",
      "Epoch 73/250\n",
      "38040/38040 [==============================] - 69s 2ms/step - loss: 0.1610 - acc: 0.9563 - val_loss: 0.2404 - val_acc: 0.9052\n",
      "Epoch 74/250\n",
      "38040/38040 [==============================] - 69s 2ms/step - loss: 0.1599 - acc: 0.9569 - val_loss: 0.2522 - val_acc: 0.8985\n",
      "Epoch 75/250\n",
      "38040/38040 [==============================] - 69s 2ms/step - loss: 0.1588 - acc: 0.9571 - val_loss: 0.2228 - val_acc: 0.9118\n",
      "Epoch 76/250\n",
      "38040/38040 [==============================] - 69s 2ms/step - loss: 0.1573 - acc: 0.9583 - val_loss: 0.2371 - val_acc: 0.9040\n",
      "Epoch 77/250\n",
      "38040/38040 [==============================] - 69s 2ms/step - loss: 0.1562 - acc: 0.9589 - val_loss: 0.2055 - val_acc: 0.9235\n",
      "Epoch 78/250\n",
      "38040/38040 [==============================] - 70s 2ms/step - loss: 0.1539 - acc: 0.9593 - val_loss: 0.2082 - val_acc: 0.9220\n",
      "Epoch 79/250\n",
      "38040/38040 [==============================] - 69s 2ms/step - loss: 0.1525 - acc: 0.9604 - val_loss: 0.2184 - val_acc: 0.9136\n",
      "Epoch 80/250\n",
      "38040/38040 [==============================] - 70s 2ms/step - loss: 0.1535 - acc: 0.9597 - val_loss: 0.2325 - val_acc: 0.9059\n",
      "Epoch 81/250\n",
      "38040/38040 [==============================] - 70s 2ms/step - loss: 0.1512 - acc: 0.9610 - val_loss: 0.2287 - val_acc: 0.9116\n",
      "Epoch 82/250\n",
      "38040/38040 [==============================] - 70s 2ms/step - loss: 0.1496 - acc: 0.9614 - val_loss: 0.2155 - val_acc: 0.9175\n",
      "Epoch 83/250\n",
      "38040/38040 [==============================] - 70s 2ms/step - loss: 0.1491 - acc: 0.9617 - val_loss: 0.2087 - val_acc: 0.9245\n",
      "Epoch 84/250\n",
      "38040/38040 [==============================] - 70s 2ms/step - loss: 0.1467 - acc: 0.9623 - val_loss: 0.2227 - val_acc: 0.9132\n",
      "Epoch 85/250\n",
      "38040/38040 [==============================] - 69s 2ms/step - loss: 0.1470 - acc: 0.9621 - val_loss: 0.2582 - val_acc: 0.8948\n",
      "Epoch 86/250\n",
      "38040/38040 [==============================] - 69s 2ms/step - loss: 0.1463 - acc: 0.9628 - val_loss: 0.2791 - val_acc: 0.8897\n",
      "Epoch 87/250\n",
      "38040/38040 [==============================] - 70s 2ms/step - loss: 0.1442 - acc: 0.9634 - val_loss: 0.2000 - val_acc: 0.9278\n",
      "Epoch 88/250\n",
      "38040/38040 [==============================] - 70s 2ms/step - loss: 0.1439 - acc: 0.9633 - val_loss: 0.2061 - val_acc: 0.9263\n",
      "Epoch 89/250\n",
      "38040/38040 [==============================] - 70s 2ms/step - loss: 0.1428 - acc: 0.9639 - val_loss: 0.2200 - val_acc: 0.9185\n",
      "Epoch 90/250\n",
      "38040/38040 [==============================] - 68s 2ms/step - loss: 0.1422 - acc: 0.9639 - val_loss: 0.2099 - val_acc: 0.9200\n",
      "Epoch 91/250\n",
      "38040/38040 [==============================] - 69s 2ms/step - loss: 0.1408 - acc: 0.9647 - val_loss: 0.2275 - val_acc: 0.9136\n",
      "Epoch 92/250\n",
      "38040/38040 [==============================] - 69s 2ms/step - loss: 0.1389 - acc: 0.9649 - val_loss: 0.2298 - val_acc: 0.9099\n",
      "Epoch 93/250\n",
      "38040/38040 [==============================] - 69s 2ms/step - loss: 0.1388 - acc: 0.9656 - val_loss: 0.2299 - val_acc: 0.9142\n",
      "Epoch 94/250\n",
      "38040/38040 [==============================] - 72s 2ms/step - loss: 0.1382 - acc: 0.9656 - val_loss: 0.2022 - val_acc: 0.9275\n",
      "Epoch 95/250\n",
      "38040/38040 [==============================] - 74s 2ms/step - loss: 0.1371 - acc: 0.9660 - val_loss: 0.2129 - val_acc: 0.9233\n",
      "Epoch 96/250\n",
      "38040/38040 [==============================] - 69s 2ms/step - loss: 0.1366 - acc: 0.9665 - val_loss: 0.2473 - val_acc: 0.9059\n",
      "Epoch 97/250\n",
      "38040/38040 [==============================] - 70s 2ms/step - loss: 0.1354 - acc: 0.9672 - val_loss: 0.2288 - val_acc: 0.9097\n",
      "Epoch 98/250\n",
      "38040/38040 [==============================] - 73s 2ms/step - loss: 0.1346 - acc: 0.9674 - val_loss: 0.2211 - val_acc: 0.9144\n",
      "Epoch 99/250\n",
      "38040/38040 [==============================] - 74s 2ms/step - loss: 0.1348 - acc: 0.9675 - val_loss: 0.2121 - val_acc: 0.9218\n",
      "Epoch 100/250\n",
      "38040/38040 [==============================] - 73s 2ms/step - loss: 0.1330 - acc: 0.9686 - val_loss: 0.2187 - val_acc: 0.9163\n",
      "Epoch 101/250\n",
      "38040/38040 [==============================] - 76s 2ms/step - loss: 0.1324 - acc: 0.9680 - val_loss: 0.2098 - val_acc: 0.9230\n",
      "Epoch 102/250\n",
      "38040/38040 [==============================] - 75s 2ms/step - loss: 0.1299 - acc: 0.9688 - val_loss: 0.2140 - val_acc: 0.9226\n",
      "Epoch 103/250\n",
      "38040/38040 [==============================] - 74s 2ms/step - loss: 0.1303 - acc: 0.9689 - val_loss: 0.2153 - val_acc: 0.9212\n",
      "Epoch 104/250\n",
      "38040/38040 [==============================] - 74s 2ms/step - loss: 0.1294 - acc: 0.9692 - val_loss: 0.2181 - val_acc: 0.9218\n",
      "Epoch 105/250\n",
      "38040/38040 [==============================] - 72s 2ms/step - loss: 0.1289 - acc: 0.9696 - val_loss: 0.2223 - val_acc: 0.9171\n",
      "Epoch 106/250\n",
      "38040/38040 [==============================] - 70s 2ms/step - loss: 0.1273 - acc: 0.9700 - val_loss: 0.2206 - val_acc: 0.9200\n",
      "Epoch 107/250\n",
      "38040/38040 [==============================] - 74s 2ms/step - loss: 0.1277 - acc: 0.9698 - val_loss: 0.2242 - val_acc: 0.9175\n",
      "Epoch 108/250\n",
      "38040/38040 [==============================] - 73s 2ms/step - loss: 0.1265 - acc: 0.9702 - val_loss: 0.2010 - val_acc: 0.9265\n",
      "Epoch 109/250\n",
      "38040/38040 [==============================] - 69s 2ms/step - loss: 0.1270 - acc: 0.9699 - val_loss: 0.2220 - val_acc: 0.9159\n",
      "Epoch 110/250\n",
      "38040/38040 [==============================] - 74s 2ms/step - loss: 0.1251 - acc: 0.9710 - val_loss: 0.1848 - val_acc: 0.9347\n",
      "Epoch 111/250\n",
      "38040/38040 [==============================] - 69s 2ms/step - loss: 0.1259 - acc: 0.9701 - val_loss: 0.1887 - val_acc: 0.9345\n",
      "Epoch 112/250\n",
      "38040/38040 [==============================] - 69s 2ms/step - loss: 0.1241 - acc: 0.9710 - val_loss: 0.2170 - val_acc: 0.9198\n",
      "Epoch 113/250\n",
      "38040/38040 [==============================] - 69s 2ms/step - loss: 0.1242 - acc: 0.9711 - val_loss: 0.2211 - val_acc: 0.9177\n",
      "Epoch 114/250\n",
      "38040/38040 [==============================] - 69s 2ms/step - loss: 0.1226 - acc: 0.9716 - val_loss: 0.2022 - val_acc: 0.9273\n",
      "Epoch 115/250\n",
      "38040/38040 [==============================] - 71s 2ms/step - loss: 0.1226 - acc: 0.9715 - val_loss: 0.2021 - val_acc: 0.9259\n",
      "Epoch 116/250\n",
      "38040/38040 [==============================] - 74s 2ms/step - loss: 0.1226 - acc: 0.9719 - val_loss: 0.2434 - val_acc: 0.9071\n",
      "Epoch 117/250\n",
      "38040/38040 [==============================] - 76s 2ms/step - loss: 0.1218 - acc: 0.9720 - val_loss: 0.1917 - val_acc: 0.9331\n"
     ]
    },
    {
     "name": "stdout",
     "output_type": "stream",
     "text": [
      "Epoch 118/250\n",
      "38040/38040 [==============================] - 71s 2ms/step - loss: 0.1222 - acc: 0.9720 - val_loss: 0.1941 - val_acc: 0.9321\n",
      "Epoch 119/250\n",
      "38040/38040 [==============================] - 70s 2ms/step - loss: 0.1197 - acc: 0.9725 - val_loss: 0.1890 - val_acc: 0.9339\n",
      "Epoch 120/250\n",
      "38040/38040 [==============================] - 70s 2ms/step - loss: 0.1201 - acc: 0.9723 - val_loss: 0.2172 - val_acc: 0.9202\n",
      "Epoch 121/250\n",
      "38040/38040 [==============================] - 75s 2ms/step - loss: 0.1189 - acc: 0.9730 - val_loss: 0.2045 - val_acc: 0.9286\n",
      "Epoch 122/250\n",
      "38040/38040 [==============================] - 73s 2ms/step - loss: 0.1183 - acc: 0.9728 - val_loss: 0.2179 - val_acc: 0.9216\n",
      "Epoch 123/250\n",
      "38040/38040 [==============================] - 72s 2ms/step - loss: 0.1181 - acc: 0.9730 - val_loss: 0.2143 - val_acc: 0.9253\n",
      "Epoch 124/250\n",
      "38040/38040 [==============================] - 74s 2ms/step - loss: 0.1174 - acc: 0.9731 - val_loss: 0.2207 - val_acc: 0.9224\n",
      "Epoch 125/250\n",
      "38040/38040 [==============================] - 74s 2ms/step - loss: 0.1169 - acc: 0.9732 - val_loss: 0.2513 - val_acc: 0.9087\n",
      "Epoch 126/250\n",
      "38040/38040 [==============================] - 76s 2ms/step - loss: 0.1164 - acc: 0.9738 - val_loss: 0.2267 - val_acc: 0.9189\n",
      "Epoch 127/250\n",
      "38040/38040 [==============================] - 73s 2ms/step - loss: 0.1163 - acc: 0.9738 - val_loss: 0.2363 - val_acc: 0.9136\n",
      "Epoch 128/250\n",
      "38040/38040 [==============================] - 70s 2ms/step - loss: 0.1154 - acc: 0.9740 - val_loss: 0.2024 - val_acc: 0.9329\n",
      "Epoch 129/250\n",
      "38040/38040 [==============================] - 69s 2ms/step - loss: 0.1160 - acc: 0.9737 - val_loss: 0.2121 - val_acc: 0.9247\n",
      "Epoch 130/250\n",
      "38040/38040 [==============================] - 73s 2ms/step - loss: 0.1146 - acc: 0.9741 - val_loss: 0.2197 - val_acc: 0.9192\n",
      "Epoch 131/250\n",
      "38040/38040 [==============================] - 72s 2ms/step - loss: 0.1147 - acc: 0.9741 - val_loss: 0.2303 - val_acc: 0.9189\n",
      "Epoch 132/250\n",
      "38040/38040 [==============================] - 69s 2ms/step - loss: 0.1145 - acc: 0.9744 - val_loss: 0.2298 - val_acc: 0.9189\n",
      "Epoch 133/250\n",
      "38040/38040 [==============================] - 75s 2ms/step - loss: 0.1135 - acc: 0.9740 - val_loss: 0.2115 - val_acc: 0.9284\n",
      "Epoch 134/250\n",
      "38040/38040 [==============================] - 71s 2ms/step - loss: 0.1131 - acc: 0.9746 - val_loss: 0.2160 - val_acc: 0.9267\n",
      "Epoch 135/250\n",
      "38040/38040 [==============================] - 76s 2ms/step - loss: 0.1133 - acc: 0.9743 - val_loss: 0.2462 - val_acc: 0.9108\n",
      "Epoch 136/250\n",
      "38040/38040 [==============================] - 74s 2ms/step - loss: 0.1125 - acc: 0.9746 - val_loss: 0.2052 - val_acc: 0.9310\n",
      "Epoch 137/250\n",
      "38040/38040 [==============================] - 77s 2ms/step - loss: 0.1115 - acc: 0.9752 - val_loss: 0.2201 - val_acc: 0.9237\n",
      "Epoch 138/250\n",
      "38040/38040 [==============================] - 80s 2ms/step - loss: 0.1110 - acc: 0.9752 - val_loss: 0.2242 - val_acc: 0.9237\n",
      "Epoch 139/250\n",
      "38040/38040 [==============================] - 76s 2ms/step - loss: 0.1116 - acc: 0.9751 - val_loss: 0.2102 - val_acc: 0.9296\n",
      "Epoch 140/250\n",
      "38040/38040 [==============================] - 73s 2ms/step - loss: 0.1107 - acc: 0.9756 - val_loss: 0.1962 - val_acc: 0.9347\n"
     ]
    }
   ],
   "source": [
    "history = model3g.fit(X_train_up, \n",
    "                    y_train_up,\n",
    "                    epochs=250,\n",
    "                    batch_size=100,\n",
    "                    callbacks=callbacks,\n",
    "                    validation_data=(X_val, y_val))"
   ]
  },
  {
   "cell_type": "code",
   "execution_count": 262,
   "metadata": {},
   "outputs": [],
   "source": [
    "model3g.save('results/RNN/models/model3g.h5')\n",
    "model3g.save_weights('results/RNN/models/model3g.weights.h5')\n",
    "# model3g = model.load('results/RNN/models/model3g.h5')"
   ]
  },
  {
   "cell_type": "code",
   "execution_count": null,
   "metadata": {},
   "outputs": [],
   "source": [
    "plot_accuracy_loss('Model 3g', model3g, (.6,1), (0,.8))"
   ]
  },
  {
   "cell_type": "code",
   "execution_count": null,
   "metadata": {},
   "outputs": [],
   "source": [
    "y_train_pred3g = model3g.predict_classes(X_train_up, batch_size = 38040)\n",
    "y_val_pred3g = model3g.predict_classes(X_val, batch_size = 5114)\n",
    "y_train_prob3g = model3g.predict_proba(X_train_up, batch_size = 38040\n",
    "y_val_prob3g = model3g.predict_proba(X_val, batch_size = 5114)"
   ]
  },
  {
   "cell_type": "code",
   "execution_count": null,
   "metadata": {},
   "outputs": [],
   "source": [
    "pd.DataFrame(y_train_prob3g).describe()"
   ]
  },
  {
   "cell_type": "code",
   "execution_count": null,
   "metadata": {},
   "outputs": [],
   "source": [
    "seaborn_confusion_matrix(y_train_up, y_train_pred3g)"
   ]
  },
  {
   "cell_type": "code",
   "execution_count": null,
   "metadata": {},
   "outputs": [],
   "source": [
    "seaborn_confusion_matrix(y_val, y_val_pred3g)"
   ]
  },
  {
   "cell_type": "code",
   "execution_count": null,
   "metadata": {},
   "outputs": [],
   "source": [
    "compare_classification_metrics(y_train_up, y_train_pred3g, y_val, y_val_pred3g)"
   ]
  },
  {
   "cell_type": "code",
   "execution_count": null,
   "metadata": {},
   "outputs": [],
   "source": [
    "y_adj_val3g, cm3g = adjust_threshold_and_score(y_val, y_val_prob3g, .8, RNN = True)"
   ]
  },
  {
   "cell_type": "markdown",
   "metadata": {},
   "source": [
    "## RNN 4 - class weight balanced"
   ]
  },
  {
   "cell_type": "code",
   "execution_count": null,
   "metadata": {},
   "outputs": [],
   "source": [
    "model4 = Sequential()\n",
    "\n",
    "class_weights = class_weight.compute_class_weight('balanced',\n",
    "                                                 np.unique(y_train),\n",
    "                                                 y_train)\n",
    "\n",
    "csv_logger = CSVLogger('results/RNN/history_log/model4.training.log')\n",
    "\n",
    "# filepath = 'results/RNN/weights_model4.best.hdf5'\n",
    "\n",
    "callbacks = [EarlyStopping(monitor='val_loss', patience = 10), \n",
    "             ReduceLROnPlateau(monitor='val_loss', patience = 10),\n",
    "             csv_logger]\n",
    "#              ModelCheckpoint(filepath, save_best_only = True, save_weights_only = True)]\n",
    "\n",
    "model4.add(Embedding(num_words, 300, weights=[embedding_matrix300], input_length= 39, trainable=False))\n",
    "\n",
    "model4.add(LSTM(64, activation='relu', return_sequences=True))\n",
    "model4.add(BatchNormalization())\n",
    "\n",
    "model4.add(LSTM(64, activation='relu'))\n",
    "model4.add(BatchNormalization())\n",
    "\n",
    "model4.add(Dense(1, activation='sigmoid'))\n",
    "\n",
    "model4.compile(loss='binary_crossentropy', optimizer = rmsprop(lr=.000001), metrics=['accuracy'])\n",
    "\n",
    "print(model4.summary())"
   ]
  },
  {
   "cell_type": "code",
   "execution_count": null,
   "metadata": {},
   "outputs": [],
   "source": [
    "history = model4.fit(X_train, \n",
    "                    y_train,\n",
    "                    epochs=200,\n",
    "                    batch_size=50,\n",
    "                    callbacks=callbacks,\n",
    "                    class_weight=class_weights,\n",
    "                    validation_data=(X_val, y_val))"
   ]
  },
  {
   "cell_type": "code",
   "execution_count": null,
   "metadata": {},
   "outputs": [],
   "source": [
    "model4.save('results/RNN/models/model4.h5', overwrite = True)\n",
    "model4.save_weights('results/RNN/models/model4.weights.h5', overwrite = True)\n",
    "# model4 = model.load('results/RNN/models/model4.h5')"
   ]
  },
  {
   "cell_type": "code",
   "execution_count": null,
   "metadata": {},
   "outputs": [],
   "source": [
    "plot_accuracy_loss('Model 4', model4, (.6,1), (0,.8))"
   ]
  },
  {
   "cell_type": "code",
   "execution_count": null,
   "metadata": {},
   "outputs": [],
   "source": [
    "y_train_pred4 = model4.predict_classes(X_train, batch_size = 20455)\n",
    "y_val_pred4 = model4.predict_classes(X_val, batch_size = 5114)\n",
    "y_train_prob4 = model4.predict_proba(X_train, batch_size = 20455)\n",
    "y_val_prob4 = model4.predict_proba(X_val, batch_size = 5114)"
   ]
  },
  {
   "cell_type": "code",
   "execution_count": null,
   "metadata": {},
   "outputs": [],
   "source": [
    "pd.DataFrame(y_train_prob4).describe()"
   ]
  },
  {
   "cell_type": "code",
   "execution_count": null,
   "metadata": {},
   "outputs": [],
   "source": [
    "seaborn_confusion_matrix(y_val, y_val_pred4)"
   ]
  },
  {
   "cell_type": "code",
   "execution_count": null,
   "metadata": {},
   "outputs": [],
   "source": [
    "y_adj_val4, cm4 = adjust_threshold_and_score(y_val, y_val_prob4, .8, RNN = True)"
   ]
  },
  {
   "cell_type": "markdown",
   "metadata": {},
   "source": [
    "# Building Word 2 Vec Models "
   ]
  },
  {
   "cell_type": "markdown",
   "metadata": {},
   "source": [
    "### 100 Dimension Model "
   ]
  },
  {
   "cell_type": "code",
   "execution_count": 25,
   "metadata": {},
   "outputs": [
    {
     "name": "stdout",
     "output_type": "stream",
     "text": [
      "Time to train the model: 0.13 mins\n"
     ]
    }
   ],
   "source": [
    "from time import time\n",
    "t = time()\n",
    "\n",
    "RNN_w2v_model = gensim.models.Word2Vec(X_token_list, sg=1, min_count=1)\n",
    "\n",
    "print('Time to train the model: {} mins'.format(round((time() - t) / 60, 2)))"
   ]
  },
  {
   "cell_type": "code",
   "execution_count": 26,
   "metadata": {},
   "outputs": [
    {
     "data": {
      "text/plain": [
       "<bound method BaseWordEmbeddingsModel.build_vocab of <gensim.models.word2vec.Word2Vec object at 0x1a3ea3d940>>"
      ]
     },
     "execution_count": 26,
     "metadata": {},
     "output_type": "execute_result"
    }
   ],
   "source": [
    "RNN_w2v_model.build_vocab"
   ]
  },
  {
   "cell_type": "code",
   "execution_count": 27,
   "metadata": {},
   "outputs": [
    {
     "data": {
      "text/plain": [
       "(1650113, 1980385)"
      ]
     },
     "execution_count": 27,
     "metadata": {},
     "output_type": "execute_result"
    }
   ],
   "source": [
    "RNN_w2v_model.train(X_token_list, total_examples=RNN_w2v_model.corpus_count, epochs=RNN_w2v_model.epochs)"
   ]
  },
  {
   "cell_type": "code",
   "execution_count": 28,
   "metadata": {},
   "outputs": [],
   "source": [
    "RNN_w2v_model.save('data/RNN_w2v.model')"
   ]
  },
  {
   "cell_type": "code",
   "execution_count": 29,
   "metadata": {},
   "outputs": [],
   "source": [
    "RNN_w2v_model = gensim.models.Word2Vec.load('data/RNN_w2v.model')"
   ]
  },
  {
   "cell_type": "markdown",
   "metadata": {},
   "source": [
    "### 300 Dimension Model "
   ]
  },
  {
   "cell_type": "code",
   "execution_count": 27,
   "metadata": {},
   "outputs": [],
   "source": [
    "RNN_w2vmodel300 = gensim.models.Word2Vec(X_token_list, sg=1, min_count=1, size = 300)"
   ]
  },
  {
   "cell_type": "code",
   "execution_count": 28,
   "metadata": {},
   "outputs": [
    {
     "data": {
      "text/plain": [
       "<bound method BaseWordEmbeddingsModel.build_vocab of <gensim.models.word2vec.Word2Vec object at 0x10a8472b0>>"
      ]
     },
     "execution_count": 28,
     "metadata": {},
     "output_type": "execute_result"
    }
   ],
   "source": [
    "RNN_w2vmodel300.build_vocab"
   ]
  },
  {
   "cell_type": "code",
   "execution_count": 29,
   "metadata": {},
   "outputs": [
    {
     "data": {
      "text/plain": [
       "(1650650, 1980385)"
      ]
     },
     "execution_count": 29,
     "metadata": {},
     "output_type": "execute_result"
    }
   ],
   "source": [
    "RNN_w2vmodel300.train(X_token_list, total_examples=RNN_w2vmodel300.corpus_count, \n",
    "                   epochs=RNN_w2vmodel300.epochs)"
   ]
  },
  {
   "cell_type": "code",
   "execution_count": 30,
   "metadata": {},
   "outputs": [],
   "source": [
    "RNN_w2vmodel300.save('data/RNN_w2v300.model')"
   ]
  },
  {
   "cell_type": "code",
   "execution_count": 31,
   "metadata": {},
   "outputs": [],
   "source": [
    "RNN_w2vmodel300 = gensim.models.Word2Vec.load('data/RNN_w2v300.model')"
   ]
  },
  {
   "cell_type": "code",
   "execution_count": null,
   "metadata": {},
   "outputs": [],
   "source": [
    "num_words = 37795\n",
    "EMBEDDING_DIM = 300\n",
    "embedding_matrix300 = np.zeros((num_words, EMBEDDING_DIM))\n",
    "for word, i in word_index.items():\n",
    "    print(word, i)\n",
    "    if word in RNN_w2vmodel300.wv.vocab:\n",
    "        embedding_matrix300[i] = RNN_w2vmodel300.wv.word_vec(word)\n",
    "# print('Null word embeddings: %d' % np.sum(np.sum(embedding_matrix300, axis=1) == 0))"
   ]
  },
  {
   "cell_type": "code",
   "execution_count": null,
   "metadata": {},
   "outputs": [],
   "source": []
  }
 ],
 "metadata": {
  "kernelspec": {
   "display_name": "Python 3",
   "language": "python",
   "name": "python3"
  }
 },
 "nbformat": 4,
 "nbformat_minor": 2
}
